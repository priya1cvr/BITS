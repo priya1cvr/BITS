{
  "nbformat": 4,
  "nbformat_minor": 0,
  "metadata": {
    "colab": {
      "name": "Assignment_2_BITS_DL_5.ipynb",
      "provenance": [],
      "collapsed_sections": []
    },
    "kernelspec": {
      "name": "python3",
      "display_name": "Python 3"
    },
    "accelerator": "GPU"
  },
  "cells": [
    {
      "cell_type": "markdown",
      "metadata": {
        "id": "l7QLdo0bGi6e",
        "colab_type": "text"
      },
      "source": [
        "# Develop an image caption generator model using Tensorflow-keras\n",
        "\n",
        "In this assignment, you will have to train a caption generator model for images. It requires a CNN model to extract the content of images and an RNN model to learn the corresponding captions of the images. These two features are finally merged and trained using dense layers.\n",
        "\n",
        "The below research papers are for your reference-\n",
        "1. [Where to put the Image in an Image Caption Generator](https://arxiv.org/abs/1703.09137)\n",
        "2. [Framing Image Description as a Ranking Task: Data, Models and Evaluation Metrics](https://www.ijcai.org/Proceedings/15/Papers/593.pdf) \n",
        "\n",
        "This notebook is divided into six parts. Total : [20 Marks]\n",
        "\n",
        "1. Download photo and caption dataset [0 Mark]\n",
        "2. Prepare photo data [2 Marks]\n",
        "3. Prepare text data [4 Marks]\n",
        "4. Develop deep learning model with progressive data loading [8 Marks]\n",
        "5. Evaluate model [4 Marks]\n",
        "6. Generate new captions [2 Marks]"
      ]
    },
    {
      "cell_type": "code",
      "metadata": {
        "id": "OskEKD6zOhfd",
        "colab_type": "code",
        "colab": {}
      },
      "source": [
        "from IPython.core.display import Image\n",
        "#Image(filename='Model-Generate-Word-From-Word.jpg')"
      ],
      "execution_count": null,
      "outputs": []
    },
    {
      "cell_type": "markdown",
      "metadata": {
        "id": "pbJjJ1-8JPT3",
        "colab_type": "text"
      },
      "source": [
        "# 1. Download photo and caption dataset [0 Mark]"
      ]
    },
    {
      "cell_type": "code",
      "metadata": {
        "id": "HqE4b1T7tT_n",
        "colab_type": "code",
        "colab": {
          "base_uri": "https://localhost:8080/",
          "height": 734
        },
        "outputId": "3a9b5115-bdad-4ff3-f7a1-c87f542523b9"
      },
      "source": [
        "# Downlaod image Data\n",
        "!wget --load-cookies /tmp/cookies.txt \"https://docs.google.com/uc?export=download&confirm=$(wget --quiet --save-cookies /tmp/cookies.txt --keep-session-cookies --no-check-certificate 'https://docs.google.com/uc?export=download&id=1lpkFq5xVcZsqpaz0WqxHEpNIeHjNr-Ub' -O- | sed -rn 's/.*confirm=([0-9A-Za-z_]+).*/\\1\\n/p')&id=1lpkFq5xVcZsqpaz0WqxHEpNIeHjNr-Ub\" -O Flickr8k_Dataset.zip && rm -rf /tmp/cookies.txt\n",
        "\n",
        "# Download text Data\n",
        "!wget --no-check-certificate 'https://docs.google.com/uc?export=download&id=1NgPVnKLfXsX7t6moTxck4M6PZmNMhqPt' -O Flickr8k_text.zip"
      ],
      "execution_count": null,
      "outputs": [
        {
          "output_type": "stream",
          "text": [
            "--2020-05-03 14:23:16--  https://docs.google.com/uc?export=download&confirm=zTwk&id=1lpkFq5xVcZsqpaz0WqxHEpNIeHjNr-Ub\n",
            "Resolving docs.google.com (docs.google.com)... 74.125.143.113, 74.125.143.102, 74.125.143.100, ...\n",
            "Connecting to docs.google.com (docs.google.com)|74.125.143.113|:443... connected.\n",
            "HTTP request sent, awaiting response... 302 Moved Temporarily\n",
            "Location: https://doc-00-34-docs.googleusercontent.com/docs/securesc/d8c7bljadgk0k4i8dkfv8809aqk1hkoq/qr9b9bvvob4hrvqtt2r8qivg9mevnkic/1588515750000/07802168679510106703/04305191417758808663Z/1lpkFq5xVcZsqpaz0WqxHEpNIeHjNr-Ub?e=download [following]\n",
            "--2020-05-03 14:23:16--  https://doc-00-34-docs.googleusercontent.com/docs/securesc/d8c7bljadgk0k4i8dkfv8809aqk1hkoq/qr9b9bvvob4hrvqtt2r8qivg9mevnkic/1588515750000/07802168679510106703/04305191417758808663Z/1lpkFq5xVcZsqpaz0WqxHEpNIeHjNr-Ub?e=download\n",
            "Resolving doc-00-34-docs.googleusercontent.com (doc-00-34-docs.googleusercontent.com)... 108.177.119.132, 2a00:1450:4013:c00::84\n",
            "Connecting to doc-00-34-docs.googleusercontent.com (doc-00-34-docs.googleusercontent.com)|108.177.119.132|:443... connected.\n",
            "HTTP request sent, awaiting response... 302 Found\n",
            "Location: https://docs.google.com/nonceSigner?nonce=gk8jna22frni4&continue=https://doc-00-34-docs.googleusercontent.com/docs/securesc/d8c7bljadgk0k4i8dkfv8809aqk1hkoq/qr9b9bvvob4hrvqtt2r8qivg9mevnkic/1588515750000/07802168679510106703/04305191417758808663Z/1lpkFq5xVcZsqpaz0WqxHEpNIeHjNr-Ub?e%3Ddownload&hash=t9o5bqb99lmfkeoli02cjatm8j21i79j [following]\n",
            "--2020-05-03 14:23:17--  https://docs.google.com/nonceSigner?nonce=gk8jna22frni4&continue=https://doc-00-34-docs.googleusercontent.com/docs/securesc/d8c7bljadgk0k4i8dkfv8809aqk1hkoq/qr9b9bvvob4hrvqtt2r8qivg9mevnkic/1588515750000/07802168679510106703/04305191417758808663Z/1lpkFq5xVcZsqpaz0WqxHEpNIeHjNr-Ub?e%3Ddownload&hash=t9o5bqb99lmfkeoli02cjatm8j21i79j\n",
            "Connecting to docs.google.com (docs.google.com)|74.125.143.113|:443... connected.\n",
            "HTTP request sent, awaiting response... 302 Found\n",
            "Location: https://doc-00-34-docs.googleusercontent.com/docs/securesc/d8c7bljadgk0k4i8dkfv8809aqk1hkoq/qr9b9bvvob4hrvqtt2r8qivg9mevnkic/1588515750000/07802168679510106703/04305191417758808663Z/1lpkFq5xVcZsqpaz0WqxHEpNIeHjNr-Ub?e=download&nonce=gk8jna22frni4&user=04305191417758808663Z&hash=ljmcqk392h8tb0psogkf6mggv7k2kno2 [following]\n",
            "--2020-05-03 14:23:17--  https://doc-00-34-docs.googleusercontent.com/docs/securesc/d8c7bljadgk0k4i8dkfv8809aqk1hkoq/qr9b9bvvob4hrvqtt2r8qivg9mevnkic/1588515750000/07802168679510106703/04305191417758808663Z/1lpkFq5xVcZsqpaz0WqxHEpNIeHjNr-Ub?e=download&nonce=gk8jna22frni4&user=04305191417758808663Z&hash=ljmcqk392h8tb0psogkf6mggv7k2kno2\n",
            "Connecting to doc-00-34-docs.googleusercontent.com (doc-00-34-docs.googleusercontent.com)|108.177.119.132|:443... connected.\n",
            "HTTP request sent, awaiting response... 200 OK\n",
            "Length: unspecified [application/zip]\n",
            "Saving to: ‘Flickr8k_Dataset.zip’\n",
            "\n",
            "Flickr8k_Dataset.zi     [          <=>       ]   1.04G  77.9MB/s    in 15s     \n",
            "\n",
            "2020-05-03 14:23:32 (70.3 MB/s) - ‘Flickr8k_Dataset.zip’ saved [1115419746]\n",
            "\n",
            "--2020-05-03 14:23:35--  https://docs.google.com/uc?export=download&id=1NgPVnKLfXsX7t6moTxck4M6PZmNMhqPt\n",
            "Resolving docs.google.com (docs.google.com)... 74.125.143.101, 74.125.143.100, 74.125.143.139, ...\n",
            "Connecting to docs.google.com (docs.google.com)|74.125.143.101|:443... connected.\n",
            "HTTP request sent, awaiting response... 302 Moved Temporarily\n",
            "Location: https://doc-04-80-docs.googleusercontent.com/docs/securesc/ha0ro937gcuc7l7deffksulhg5h7mbp1/dppeqoqmnsqlb6md7nma9714krja2qdi/1588515750000/07802168679510106703/*/1NgPVnKLfXsX7t6moTxck4M6PZmNMhqPt?e=download [following]\n",
            "Warning: wildcards not supported in HTTP.\n",
            "--2020-05-03 14:23:37--  https://doc-04-80-docs.googleusercontent.com/docs/securesc/ha0ro937gcuc7l7deffksulhg5h7mbp1/dppeqoqmnsqlb6md7nma9714krja2qdi/1588515750000/07802168679510106703/*/1NgPVnKLfXsX7t6moTxck4M6PZmNMhqPt?e=download\n",
            "Resolving doc-04-80-docs.googleusercontent.com (doc-04-80-docs.googleusercontent.com)... 108.177.119.132, 2a00:1450:4013:c00::84\n",
            "Connecting to doc-04-80-docs.googleusercontent.com (doc-04-80-docs.googleusercontent.com)|108.177.119.132|:443... connected.\n",
            "HTTP request sent, awaiting response... 200 OK\n",
            "Length: unspecified [application/zip]\n",
            "Saving to: ‘Flickr8k_text.zip’\n",
            "\n",
            "Flickr8k_text.zip       [ <=>                ]   2.23M  --.-KB/s    in 0.02s   \n",
            "\n",
            "2020-05-03 14:23:38 (109 MB/s) - ‘Flickr8k_text.zip’ saved [2340801]\n",
            "\n"
          ],
          "name": "stdout"
        }
      ]
    },
    {
      "cell_type": "code",
      "metadata": {
        "id": "ADo0ym5xPqZX",
        "colab_type": "code",
        "colab": {}
      },
      "source": [
        "# Unzip image dataset\n",
        "!unzip -qq 'Flickr8k_Dataset.zip'"
      ],
      "execution_count": null,
      "outputs": []
    },
    {
      "cell_type": "code",
      "metadata": {
        "id": "zqFirZnEQcBG",
        "colab_type": "code",
        "colab": {}
      },
      "source": [
        "# Unzip text dataset\n",
        "!unzip -qq 'Flickr8k_text.zip' -d 'Flickr8k_text'"
      ],
      "execution_count": null,
      "outputs": []
    },
    {
      "cell_type": "code",
      "metadata": {
        "id": "hS0c6SmPo0cP",
        "colab_type": "code",
        "colab": {
          "base_uri": "https://localhost:8080/",
          "height": 51
        },
        "outputId": "4854ed44-8877-43a5-9f23-58854be1d6cd"
      },
      "source": [
        "!ls"
      ],
      "execution_count": null,
      "outputs": [
        {
          "output_type": "stream",
          "text": [
            "Flicker8k_Dataset     Flickr8k_text\t __MACOSX\n",
            "Flickr8k_Dataset.zip  Flickr8k_text.zip  sample_data\n"
          ],
          "name": "stdout"
        }
      ]
    },
    {
      "cell_type": "code",
      "metadata": {
        "id": "tf5zYRW6PvoW",
        "colab_type": "code",
        "colab": {
          "base_uri": "https://localhost:8080/",
          "height": 136
        },
        "outputId": "a29c156f-39dc-44a4-ae69-bb9284cb36f0"
      },
      "source": [
        "import os\n",
        "os.listdir()"
      ],
      "execution_count": null,
      "outputs": [
        {
          "output_type": "execute_result",
          "data": {
            "text/plain": [
              "['.config',\n",
              " '__MACOSX',\n",
              " 'Flickr8k_text',\n",
              " 'Flickr8k_text.zip',\n",
              " 'Flicker8k_Dataset',\n",
              " 'Flickr8k_Dataset.zip',\n",
              " 'sample_data']"
            ]
          },
          "metadata": {
            "tags": []
          },
          "execution_count": 5
        }
      ]
    },
    {
      "cell_type": "markdown",
      "metadata": {
        "id": "Fg14a8DLWy5R",
        "colab_type": "text"
      },
      "source": [
        "# 2. Prepare photo data [1 Mark]"
      ]
    },
    {
      "cell_type": "code",
      "metadata": {
        "id": "qEHWuRuU2hzs",
        "colab_type": "code",
        "colab": {
          "base_uri": "https://localhost:8080/",
          "height": 34
        },
        "outputId": "502d2048-10f6-46a1-9060-019c816efa1f"
      },
      "source": [
        "from os import listdir\n",
        "from pickle import dump\n",
        "from os import path\n",
        "# You need to import the following functions from tensorflow.keras library\n",
        "# VGG16, load_img, img_to_array, preprocess_input, Model\n",
        "from tensorflow import keras\n",
        "from keras.applications.vgg16 import VGG16\n",
        "from keras.preprocessing import image\n",
        "from keras.preprocessing.image import load_img\n",
        "from keras.preprocessing.image import img_to_array\n",
        "from keras.models import load_model\n",
        "from keras.applications.vgg16 import preprocess_input\n",
        "import numpy as np\n",
        "from keras.models import Model\n",
        "\n",
        "\n",
        "#####"
      ],
      "execution_count": null,
      "outputs": [
        {
          "output_type": "stream",
          "text": [
            "Using TensorFlow backend.\n"
          ],
          "name": "stderr"
        }
      ]
    },
    {
      "cell_type": "code",
      "metadata": {
        "colab_type": "code",
        "id": "y0QtCEOLvNrG",
        "colab": {
          "base_uri": "https://localhost:8080/",
          "height": 1000
        },
        "outputId": "1efbf992-45ea-437e-fd83-eb57ad9d3182"
      },
      "source": [
        "# function to extract features from each photo in the directory\n",
        "def extract_features(directory):\n",
        "\t# load the VGG16 model\n",
        "\tmodel = VGG16()\n",
        "\n",
        "  # Print the model summary to understand the model\n",
        "\tprint(model.summary())\n",
        "\n",
        "\t# re-structure the model by removing the last layer\n",
        "\t#####\n",
        "\tmodel.layers.pop()\n",
        "\tmodel = Model(inputs=model.inputs,outputs=model.layers[-1].output)\n",
        "\n",
        "\t# summarize\n",
        "\tprint(model.summary())\n",
        "  \n",
        "\t# extract features from each photo in a dictionary\n",
        "\tfeatures = dict()\n",
        "  \n",
        "\t# iterate over all the files of the dataset directory\n",
        "\tfor name in listdir(directory):\n",
        "\t\t\n",
        "\t\tfilename = directory + '/' + name\n",
        "\t  \t \n",
        "\t\t# load the image from filename with target size of (224,224)\n",
        "\t\timage = load_img(filename,target_size=(224,224))\n",
        "    \n",
        "\t\t# convert the image pixels to a numpy array\n",
        "\t\timage = img_to_array(image)\n",
        "\t\t\n",
        "\t\t# reshape data for the model\n",
        "\t\timage = image.reshape((1, image.shape[0], image.shape[1], image.shape[2]))\n",
        "\n",
        "\t\t# preprocess the image for the VGG model\t\n",
        "\t\timage = preprocess_input(image)\n",
        "    \n",
        "\t\t# get features (output of the model for the image)\n",
        "\t\tfeature = model.predict(image,verbose=0)\n",
        "\n",
        "\t\t# get image id\n",
        "\t\timage_id = name.split('.')[0]\n",
        "\t\t\n",
        "\t\t# store feature in the features dictionary with image_id as key and feature as value\n",
        "\t\tfeatures[image_id] = feature\n",
        "\n",
        "\treturn features\n",
        "\n",
        "# extract features from all images\n",
        "directory = 'Flicker8k_Dataset'\n",
        "features = extract_features(directory)\n",
        "print('Extracted Features: %d' % len(features))\n",
        "# save to file\n",
        "dump(features, open('features.pkl', 'wb'))"
      ],
      "execution_count": null,
      "outputs": [
        {
          "output_type": "stream",
          "text": [
            "Downloading data from https://github.com/fchollet/deep-learning-models/releases/download/v0.1/vgg16_weights_tf_dim_ordering_tf_kernels.h5\n",
            "553467904/553467096 [==============================] - 16s 0us/step\n",
            "Model: \"vgg16\"\n",
            "_________________________________________________________________\n",
            "Layer (type)                 Output Shape              Param #   \n",
            "=================================================================\n",
            "input_1 (InputLayer)         (None, 224, 224, 3)       0         \n",
            "_________________________________________________________________\n",
            "block1_conv1 (Conv2D)        (None, 224, 224, 64)      1792      \n",
            "_________________________________________________________________\n",
            "block1_conv2 (Conv2D)        (None, 224, 224, 64)      36928     \n",
            "_________________________________________________________________\n",
            "block1_pool (MaxPooling2D)   (None, 112, 112, 64)      0         \n",
            "_________________________________________________________________\n",
            "block2_conv1 (Conv2D)        (None, 112, 112, 128)     73856     \n",
            "_________________________________________________________________\n",
            "block2_conv2 (Conv2D)        (None, 112, 112, 128)     147584    \n",
            "_________________________________________________________________\n",
            "block2_pool (MaxPooling2D)   (None, 56, 56, 128)       0         \n",
            "_________________________________________________________________\n",
            "block3_conv1 (Conv2D)        (None, 56, 56, 256)       295168    \n",
            "_________________________________________________________________\n",
            "block3_conv2 (Conv2D)        (None, 56, 56, 256)       590080    \n",
            "_________________________________________________________________\n",
            "block3_conv3 (Conv2D)        (None, 56, 56, 256)       590080    \n",
            "_________________________________________________________________\n",
            "block3_pool (MaxPooling2D)   (None, 28, 28, 256)       0         \n",
            "_________________________________________________________________\n",
            "block4_conv1 (Conv2D)        (None, 28, 28, 512)       1180160   \n",
            "_________________________________________________________________\n",
            "block4_conv2 (Conv2D)        (None, 28, 28, 512)       2359808   \n",
            "_________________________________________________________________\n",
            "block4_conv3 (Conv2D)        (None, 28, 28, 512)       2359808   \n",
            "_________________________________________________________________\n",
            "block4_pool (MaxPooling2D)   (None, 14, 14, 512)       0         \n",
            "_________________________________________________________________\n",
            "block5_conv1 (Conv2D)        (None, 14, 14, 512)       2359808   \n",
            "_________________________________________________________________\n",
            "block5_conv2 (Conv2D)        (None, 14, 14, 512)       2359808   \n",
            "_________________________________________________________________\n",
            "block5_conv3 (Conv2D)        (None, 14, 14, 512)       2359808   \n",
            "_________________________________________________________________\n",
            "block5_pool (MaxPooling2D)   (None, 7, 7, 512)         0         \n",
            "_________________________________________________________________\n",
            "flatten (Flatten)            (None, 25088)             0         \n",
            "_________________________________________________________________\n",
            "fc1 (Dense)                  (None, 4096)              102764544 \n",
            "_________________________________________________________________\n",
            "fc2 (Dense)                  (None, 4096)              16781312  \n",
            "_________________________________________________________________\n",
            "predictions (Dense)          (None, 1000)              4097000   \n",
            "=================================================================\n",
            "Total params: 138,357,544\n",
            "Trainable params: 138,357,544\n",
            "Non-trainable params: 0\n",
            "_________________________________________________________________\n",
            "None\n",
            "Model: \"model_1\"\n",
            "_________________________________________________________________\n",
            "Layer (type)                 Output Shape              Param #   \n",
            "=================================================================\n",
            "input_1 (InputLayer)         (None, 224, 224, 3)       0         \n",
            "_________________________________________________________________\n",
            "block1_conv1 (Conv2D)        (None, 224, 224, 64)      1792      \n",
            "_________________________________________________________________\n",
            "block1_conv2 (Conv2D)        (None, 224, 224, 64)      36928     \n",
            "_________________________________________________________________\n",
            "block1_pool (MaxPooling2D)   (None, 112, 112, 64)      0         \n",
            "_________________________________________________________________\n",
            "block2_conv1 (Conv2D)        (None, 112, 112, 128)     73856     \n",
            "_________________________________________________________________\n",
            "block2_conv2 (Conv2D)        (None, 112, 112, 128)     147584    \n",
            "_________________________________________________________________\n",
            "block2_pool (MaxPooling2D)   (None, 56, 56, 128)       0         \n",
            "_________________________________________________________________\n",
            "block3_conv1 (Conv2D)        (None, 56, 56, 256)       295168    \n",
            "_________________________________________________________________\n",
            "block3_conv2 (Conv2D)        (None, 56, 56, 256)       590080    \n",
            "_________________________________________________________________\n",
            "block3_conv3 (Conv2D)        (None, 56, 56, 256)       590080    \n",
            "_________________________________________________________________\n",
            "block3_pool (MaxPooling2D)   (None, 28, 28, 256)       0         \n",
            "_________________________________________________________________\n",
            "block4_conv1 (Conv2D)        (None, 28, 28, 512)       1180160   \n",
            "_________________________________________________________________\n",
            "block4_conv2 (Conv2D)        (None, 28, 28, 512)       2359808   \n",
            "_________________________________________________________________\n",
            "block4_conv3 (Conv2D)        (None, 28, 28, 512)       2359808   \n",
            "_________________________________________________________________\n",
            "block4_pool (MaxPooling2D)   (None, 14, 14, 512)       0         \n",
            "_________________________________________________________________\n",
            "block5_conv1 (Conv2D)        (None, 14, 14, 512)       2359808   \n",
            "_________________________________________________________________\n",
            "block5_conv2 (Conv2D)        (None, 14, 14, 512)       2359808   \n",
            "_________________________________________________________________\n",
            "block5_conv3 (Conv2D)        (None, 14, 14, 512)       2359808   \n",
            "_________________________________________________________________\n",
            "block5_pool (MaxPooling2D)   (None, 7, 7, 512)         0         \n",
            "_________________________________________________________________\n",
            "flatten (Flatten)            (None, 25088)             0         \n",
            "_________________________________________________________________\n",
            "fc1 (Dense)                  (None, 4096)              102764544 \n",
            "_________________________________________________________________\n",
            "fc2 (Dense)                  (None, 4096)              16781312  \n",
            "=================================================================\n",
            "Total params: 134,260,544\n",
            "Trainable params: 134,260,544\n",
            "Non-trainable params: 0\n",
            "_________________________________________________________________\n",
            "None\n",
            "Extracted Features: 8091\n"
          ],
          "name": "stdout"
        }
      ]
    },
    {
      "cell_type": "code",
      "metadata": {
        "id": "sc7XQfYmqqQG",
        "colab_type": "code",
        "colab": {
          "base_uri": "https://localhost:8080/",
          "height": 204
        },
        "outputId": "1cef34ca-1dad-485a-90b5-806354e00edd"
      },
      "source": [
        "# REFERENCE CODE\n",
        "# You can reference this output to understand the feature dictionary variable\n",
        "\n",
        "i = 0\n",
        "for key, value in features.items():\n",
        "  print(\"key: \", key, \"value: \", value)\n",
        "  i += 1\n",
        "  if i==9:\n",
        "    break\n",
        "\n",
        "print(value.shape)\n",
        "print(len(features))"
      ],
      "execution_count": null,
      "outputs": [
        {
          "output_type": "stream",
          "text": [
            "key:  2768662025_44001fe5d1 value:  [[0.85975873 0.         0.8612434  ... 0.         0.         2.9702566 ]]\n",
            "key:  2994104606_bc2df6c1f4 value:  [[1.8544351  0.         1.18808    ... 0.         0.18718629 0.        ]]\n",
            "key:  2148013097_6a4f495bc5 value:  [[0.        0.5694856 0.        ... 0.        0.        0.       ]]\n",
            "key:  3349528565_0bc013b70a value:  [[2.2760801 0.        0.        ... 0.        1.4115245 0.       ]]\n",
            "key:  2266901263_4324af1f03 value:  [[0.46775916 1.1019304  0.63341403 ... 0.         4.3140945  1.7059891 ]]\n",
            "key:  1093716555_801aacef79 value:  [[0.       0.       0.       ... 1.856106 0.       0.      ]]\n",
            "key:  3277824093_299cbb3138 value:  [[3.5968995  1.5943402  2.5215292  ... 0.         0.00954968 0.32205343]]\n",
            "key:  3369354061_2bab79f91f value:  [[0.         0.         0.20877004 ... 0.         0.38039345 0.3261962 ]]\n",
            "key:  2574084102_f2be3f73cb value:  [[0.         0.35144898 0.18695754 ... 0.         0.         1.8019187 ]]\n",
            "(1, 4096)\n",
            "8091\n"
          ],
          "name": "stdout"
        }
      ]
    },
    {
      "cell_type": "markdown",
      "metadata": {
        "id": "-6rdm78YXRYu",
        "colab_type": "text"
      },
      "source": [
        "# 3. Prepare Text Data [2 Marks]"
      ]
    },
    {
      "cell_type": "code",
      "metadata": {
        "id": "aWOtlIk1XoBf",
        "colab_type": "code",
        "colab": {}
      },
      "source": [
        "import string\n",
        "\n",
        "# load doc into memory\n",
        "def load_doc(filename):\n",
        "\t# open the file as read only\n",
        "\tfile = open(filename,'r')\n",
        "\t# read all text\n",
        "\ttext = file.read()\n",
        "\t# close the file\n",
        "\tfile.close()\n",
        "\treturn text"
      ],
      "execution_count": null,
      "outputs": []
    },
    {
      "cell_type": "code",
      "metadata": {
        "id": "f2YarQzbOc6O",
        "colab_type": "code",
        "colab": {}
      },
      "source": [
        "# extract descriptions for images\n",
        "def load_descriptions(doc):\n",
        "\tmapping = dict()\n",
        " \n",
        "\t# process lines\n",
        "\tfor line in doc.split('\\n'):\n",
        "\t\t# split line by white space\n",
        "\t\ttokens = line.split()\n",
        "\t\tif len(line) < 2:\n",
        "\t\t\tcontinue\n",
        "\t\t# take the first token as the image id, the rest as the description\n",
        "\t\timage_id, image_desc = tokens[0],tokens[1:]\n",
        "\n",
        "\t\t# remove filename from image id\n",
        "\t\timage_id = image_id.split('.')[0]\n",
        "\n",
        "\t\t# convert description tokens back to string\n",
        "\t\timage_desc = ' '.join(image_desc)\n",
        "\t\n",
        "\t\t# create the list if needed\n",
        "\t\tif image_id not in mapping:\n",
        "\t\t\tmapping[image_id] = list()\n",
        "\t \n",
        "\t\t# store description\n",
        "\t\tmapping[image_id].append(image_desc)\n",
        "\t\n",
        "\treturn mapping"
      ],
      "execution_count": null,
      "outputs": []
    },
    {
      "cell_type": "code",
      "metadata": {
        "id": "ZrGJR_ebOgGX",
        "colab_type": "code",
        "colab": {}
      },
      "source": [
        "# We will clean the text in the following ways in order to reduce the size of the vocabulary of words we will need to work with:\n",
        "\n",
        "# 1. Convert all words to lowercase.\n",
        "# 2. Remove all punctuation.\n",
        "# 3. Remove all words that are one character or less in length (e.g. ‘a’).\n",
        "# 4. Remove all words with numbers in them.\n",
        "\n",
        "def clean_descriptions(descriptions):\n",
        "\t\n",
        "\t# prepare translation table for removing punctuation\n",
        "\ttable = str.maketrans('', '', string.punctuation)\n",
        "\tfor key, desc_list in descriptions.items():\n",
        "\t\tfor i in range(len(desc_list)):\n",
        "\t\t\tdesc = desc_list[i]\n",
        "\n",
        "\t\t\t# tokenize desc using split \n",
        "\t\t\tdesc = desc.split()\n",
        "\n",
        "\t\t\t# convert all the words in desc to lower case\n",
        "\t\t\tdesc = [word.lower() for word in desc]\n",
        "\n",
        "\t\t\t# remove punctuation from each token using translate function \n",
        "\t\t\t# pass the \"table\" variable to this function\n",
        "\t\t\tdesc = [k.translate(table) for k in desc]\n",
        "\n",
        "\t\t\t# remove hanging 's' and 'a'\n",
        "\t\t\tdesc = [word for word in desc if len(word)>1]\n",
        "\n",
        "\t\t\t# remove tokens with numbers in them using isalpha\n",
        "\t\t\tdesc = [word for word in desc if word.isalpha()]\n",
        "\t\t\t# store as string\n",
        "\t\t\tdesc_list[i] =  ' '.join(desc)"
      ],
      "execution_count": null,
      "outputs": []
    },
    {
      "cell_type": "code",
      "metadata": {
        "id": "PGHICk7kOhj3",
        "colab_type": "code",
        "colab": {}
      },
      "source": [
        "# convert the loaded descriptions into a vocabulary of words\n",
        "def to_vocabulary(descriptions):\n",
        "\n",
        "\t# build a list of all description strings\n",
        "\tall_desc = set()\n",
        "\tfor key in descriptions.keys():\n",
        "\t\t[all_desc.update(d.split()) for d in descriptions[key]]\n",
        "\treturn all_desc"
      ],
      "execution_count": null,
      "outputs": []
    },
    {
      "cell_type": "code",
      "metadata": {
        "id": "E9wechduOjtI",
        "colab_type": "code",
        "colab": {}
      },
      "source": [
        "# save descriptions to file, one per line\n",
        "def save_descriptions(descriptions, filename):\n",
        "\tlines = list()\n",
        "\tfor key, desc_list in descriptions.items():\n",
        "\t\tfor desc in desc_list:\n",
        "\t\t\tlines.append(key + ' ' + desc)\n",
        "\tdata = '\\n'.join(lines)\n",
        "\tfile = open(filename, 'w')\n",
        "\tfile.write(data)\n",
        "\tfile.close()"
      ],
      "execution_count": null,
      "outputs": []
    },
    {
      "cell_type": "code",
      "metadata": {
        "id": "AtcUFdYdIHhn",
        "colab_type": "code",
        "colab": {
          "base_uri": "https://localhost:8080/",
          "height": 51
        },
        "outputId": "ac9b8ad0-b2d4-430e-815c-97f56c1ab4a2"
      },
      "source": [
        "# Use the above functions in the code below-\n",
        "\n",
        "filename = 'Flickr8k_text/Flickr8k.token.txt'\n",
        "\n",
        "# load descriptions (pass the filename)\n",
        "doc = load_doc(filename)\n",
        "\n",
        "# parse descriptions (pass doc)\n",
        "descriptions = load_descriptions(doc)\n",
        "print('Loaded: %d ' % len(descriptions))\n",
        "\n",
        "# clean the descriptions\n",
        "clean_descriptions(descriptions)\n",
        "\n",
        "# summarize descriptions to a vocabulary of words\n",
        "vocabulary = to_vocabulary(descriptions)\n",
        "print('Vocabulary Size: %d' % len(vocabulary))\n",
        "\n",
        "# save to file\n",
        "save_descriptions(descriptions, 'descriptions.txt')\n",
        "\n",
        "# You should get the following output for the above code"
      ],
      "execution_count": null,
      "outputs": [
        {
          "output_type": "stream",
          "text": [
            "Loaded: 8092 \n",
            "Vocabulary Size: 8763\n"
          ],
          "name": "stdout"
        }
      ]
    },
    {
      "cell_type": "code",
      "metadata": {
        "id": "0jgTOH67X4Lm",
        "colab_type": "code",
        "colab": {
          "base_uri": "https://localhost:8080/",
          "height": 54
        },
        "outputId": "ffb276cf-4d82-4d94-a060-e20d6d743d1d"
      },
      "source": [
        "#### Reading first 10 line of description\n",
        "with  open('descriptions.txt','r') as f:\n",
        "  head = [next(f) for x in range(10)]\n",
        "\n",
        "print(head)"
      ],
      "execution_count": null,
      "outputs": [
        {
          "output_type": "stream",
          "text": [
            "['1000268201_693b08cb0e child in pink dress is climbing up set of stairs in an entry way\\n', '1000268201_693b08cb0e girl going into wooden building\\n', '1000268201_693b08cb0e little girl climbing into wooden playhouse\\n', '1000268201_693b08cb0e little girl climbing the stairs to her playhouse\\n', '1000268201_693b08cb0e little girl in pink dress going into wooden cabin\\n', '1001773457_577c3a7d70 black dog and spotted dog are fighting\\n', '1001773457_577c3a7d70 black dog and tricolored dog playing with each other on the road\\n', '1001773457_577c3a7d70 black dog and white dog with brown spots are staring at each other in the street\\n', '1001773457_577c3a7d70 two dogs of different breeds looking at each other on the road\\n', '1001773457_577c3a7d70 two dogs on pavement moving toward each other\\n']\n"
          ],
          "name": "stdout"
        }
      ]
    },
    {
      "cell_type": "markdown",
      "metadata": {
        "id": "5yiaX-OokIII",
        "colab_type": "text"
      },
      "source": [
        "# 4. Develop Deep Learning Model [4 Marks]"
      ]
    },
    {
      "cell_type": "code",
      "metadata": {
        "id": "tobBuMgGgXjv",
        "colab_type": "code",
        "colab": {}
      },
      "source": [
        "from numpy import array\n",
        "from pickle import load\n",
        "\n",
        "# You need to import the following functions from tensorflow.keras library\n",
        "# Tokenizer, pad_sequences, to_categorical, plot_model, Model, Input, Dense, LSTM, Embedding, Dropout, add, ModelCheckpoint\n",
        "from keras.preprocessing.text import Tokenizer\n",
        "from keras.preprocessing.sequence import pad_sequences\n",
        "from keras.utils import to_categorical\n",
        "from keras.utils.vis_utils import plot_model\n",
        "from keras.models import Model\n",
        "from keras.layers import Input,Dense,LSTM,Embedding,Dropout,add\n",
        "from keras.callbacks import ModelCheckpoint\n",
        "#####"
      ],
      "execution_count": null,
      "outputs": []
    },
    {
      "cell_type": "code",
      "metadata": {
        "id": "0EUzfblmYQMI",
        "colab_type": "code",
        "colab": {}
      },
      "source": [
        "# load a pre-defined list of photo identifiers\n",
        "def load_set(filename):\n",
        "\t# load document filename using the function defined earlier\n",
        "\tdoc = load_doc(filename)\n",
        "\tdataset = list()\n",
        " \n",
        "\t# process doc line by line using split\n",
        "\tfor line in doc.split('\\n'):\n",
        "\t\t# skip empty lines\n",
        "\t\tif len(line) < 1:\n",
        "\t\t\tcontinue\n",
        "\t\t# get the image identifier\n",
        "\t\tidentifier = line.split('.')[0]\n",
        "\t\tdataset.append(identifier)\n",
        "\treturn set(dataset)\n",
        "\n",
        "# load clean descriptions into memory\n",
        "def load_clean_descriptions(filename, dataset):\n",
        "\t# load document filename using function defined earlier\n",
        "\tdoc = load_doc(filename)\n",
        "\tdescriptions = dict()\n",
        " \n",
        "  # process doc line by line using split\n",
        "\tfor line in doc.split('\\n'):\n",
        "\t\t# split line by white space\n",
        "\t\ttokens = line.split()\n",
        "\n",
        "\t\t# take the first token as the image id, the rest as the description\n",
        "\t\timage_id, image_desc = tokens[0],tokens[1:]\n",
        "\t\t\n",
        "\t\t# skip images not in the set\n",
        "\t\tif image_id in dataset:\n",
        "\t\t\t# create list\n",
        "\t\t\tif image_id not in descriptions:\n",
        "\t\t\t\tdescriptions[image_id] = list()\n",
        "\t\t\t# wrap description in tokens\n",
        "\t\t\tdesc = 'startseq ' + ' '.join(image_desc) + ' endseq'\n",
        "\t\t\t# store\n",
        "\t\t\tdescriptions[image_id].append(desc)\n",
        "\treturn descriptions\n",
        "\n",
        "# load photo features\n",
        "def load_photo_features(filename, dataset):\n",
        "\t# load all features from filename\n",
        "\tall_features = load(open(filename,'rb'))\n",
        "\n",
        "\t# filter features\n",
        "\tfeatures = {k: all_features[k] for k in dataset}\n",
        "\treturn features\n",
        "\n",
        "# covert a dictionary of clean descriptions to a list of descriptions\n",
        "def to_lines(descriptions):\n",
        "\tall_desc = list()\n",
        "\tfor key in descriptions.keys():\n",
        "\t\t[all_desc.append(d) for d in descriptions[key]]\n",
        "\treturn all_desc\n",
        "\n",
        "# fit a tokenizer given caption descriptions\n",
        "def create_tokenizer(descriptions):\n",
        "\t# Convert the descriptions to lines\n",
        "\tlines = to_lines(descriptions)\n",
        "  \n",
        "\t# Create a tokenizer object\n",
        "\ttokenizer = Tokenizer()\n",
        "\n",
        "\t# fit the tokenizer using fit_on_texts on lines\n",
        "\ttokenizer.fit_on_texts(lines)\n",
        "\n",
        "\treturn tokenizer\n",
        "\n",
        "# calculate the length of the description with the most words\n",
        "def max_length(descriptions):\n",
        "\t# Convert descriptions to lines\n",
        "\tlines = to_lines(descriptions)\n",
        "\treturn max(len(d.split()) for d in lines)"
      ],
      "execution_count": null,
      "outputs": []
    },
    {
      "cell_type": "code",
      "metadata": {
        "id": "zjIcyx_4gcES",
        "colab_type": "code",
        "colab": {}
      },
      "source": [
        "# REFERENCE CODE\n",
        "# X1,\t\t    X2 (text sequence), \t\t\t\t                 \t\ty (word)\n",
        "# photo\t    startseq, \t\t\t\t\t\t\t\t\t                    little\n",
        "# photo\t    startseq, little,\t\t\t\t\t\t                   \tgirl\n",
        "# photo\t    startseq, little, girl, \t\t\t              \t\trunning\n",
        "# photo\t    startseq, little, girl, running, \t\t          \tin\n",
        "# photo\t    startseq, little, girl, running, in, \t\t        field\n",
        "# photo\t    startseq, little, girl, running, in, field,     endseq\n",
        "\n",
        "# You need to create the sequences in abovee format for your data\n",
        "\n",
        "# create sequences of images, input sequences and output words for an image\n",
        "def create_sequences(tokenizer, max_length, desc_list, photo, vocab_size):\n",
        "\t# Define as empty lists\n",
        "\tX1, X2, y = list(),list(),list()\n",
        "\t\n",
        "\t# walk through each description for the image\n",
        "\tfor desc in desc_list:\n",
        "\t\t# encode the sequence using texts_to_sequences (consider first element)\n",
        "\t\tseq = tokenizer.texts_to_sequences([desc])[0]\n",
        "\n",
        "\t\t# split one sequence into multiple X,y pairs\n",
        "\t\tfor i in range(1, len(seq)):\n",
        "\t\t\t# split into input and output pair as shown in reference code\n",
        "\t\t\tin_seq, out_seq = seq[:i] ,seq[i]\n",
        "\t\t\t# pad input sequence to max_length(consider first element)\n",
        "\t\t\tin_seq = pad_sequences([in_seq],maxlen=max_length)[0]\n",
        "\t\t\t# encode output sequence to one hot vectors with vocab size as num of classes (consider first element)\n",
        "\t\t\tout_seq = to_categorical([out_seq],num_classes=vocab_size)[0]\n",
        "\t\t\t# store\n",
        "\t\t\tX1.append(photo)\n",
        "\t\t\tX2.append(in_seq)\n",
        "\t\t\ty.append(out_seq)\n",
        "\treturn array(X1), array(X2), array(y)"
      ],
      "execution_count": null,
      "outputs": []
    },
    {
      "cell_type": "markdown",
      "metadata": {
        "id": "xfV2jQUqfTFR",
        "colab_type": "text"
      },
      "source": [
        "**You need to build a model with the following layers.\n",
        "We have explained the inputs and outputs in the comments in the following cells.**"
      ]
    },
    {
      "cell_type": "code",
      "metadata": {
        "id": "SInn0RSse-1m",
        "colab_type": "code",
        "colab": {
          "base_uri": "https://localhost:8080/",
          "height": 754
        },
        "outputId": "59217365-8d47-49c3-f8f1-3faa3239d2d6"
      },
      "source": [
        "from IPython.display import Image\n",
        "Image('model.png')"
      ],
      "execution_count": null,
      "outputs": [
        {
          "output_type": "execute_result",
          "data": {
            "image/png": "[encoded data removed]",
            "text/plain": [
              "<IPython.core.display.Image object>"
            ]
          },
          "metadata": {
            "tags": []
          },
          "execution_count": 3
        }
      ]
    },
    {
      "cell_type": "code",
      "metadata": {
        "id": "eudXF9uCgMdZ",
        "colab_type": "code",
        "colab": {
          "base_uri": "https://localhost:8080/",
          "height": 819
        },
        "outputId": "cdaf2b43-f3a7-440a-fc3a-40c7034d3259"
      },
      "source": [
        "# define the captioning model\n",
        "def define_model(vocab_size, max_length):\n",
        "  # feature extractor model\n",
        "\t# define an input of shape (4096,)\n",
        "  inputs1 = Input(shape=(4096,))\n",
        "\t# Add a dropout layer of 0.5\n",
        "  fe1 = Dropout(0.5)(inputs1)\n",
        "\t# Add a dense layer of 256 units with relu activation\n",
        "  fe2 = Dense(256,activation='relu')(fe1)\n",
        "\n",
        "\t# sequence model\n",
        "\t# Define input of shape (max_length,)\n",
        "  inputs2 = Input(shape=(max_length,))\n",
        "\t# Define an 256 dimension embedding layer with the vocab_size and parameter mark_zero=True\n",
        "  se1 = Embedding(vocab_size,256,mask_zero=True)(inputs2)\n",
        "\t# Add a dropout layer of 0.5\n",
        "  se2 = Dropout(0.5)(se1)\n",
        "\t# Add an LSTM layer with 256 units\n",
        "  se3 = LSTM(256)(se2)\n",
        "\n",
        "\t# decoder model\n",
        "\t# Add the outputs of feature extractor model and sequence model\n",
        "  decoder1 = add([fe2, se3])\n",
        "\t# Feed it to a dense layer of 512 units with relu activation\n",
        "  decoder2 = Dense(256,activation='relu')(decoder1)\n",
        "\t# Add a dense layer with no. of units=vocab_size, and softmax activation\n",
        "  outputs = Dense(vocab_size,activation='softmax')(decoder2)\n",
        "\n",
        "\t# tie it together and create a model instance which takes input as [image, seq] and gives output as [word]  \n",
        "  model = Model(inputs=[inputs1, inputs2], outputs=outputs)\n",
        "  \n",
        "\t# compile model with categorical crossentropy loss and rmsprop optimizer\n",
        "  model.compile(loss='categorical_crossentropy', optimizer='rmsprop')\n",
        "\t\n",
        "\t# summarize model\n",
        "  model.summary()\n",
        "  \n",
        "\t# check if this is same as image provided \n",
        "  plot_model(model, to_file='model.png', show_shapes=True)\n",
        "  return model\n",
        "\n",
        "# data generator, intended to be used in a call to model.fit()\n",
        "def data_generator(descriptions, photos, tokenizer, max_length, vocab_size):\n",
        "\t# loop for ever over images\n",
        "\twhile 1:\n",
        "\t\tfor key, desc_list in descriptions.items():\n",
        "\t\t\t# retrieve the photo feature\n",
        "\t\t\tphoto = photos[key][0]\n",
        "\t\t\t# create the sequences\n",
        "\t\t\tin_img, in_seq, out_word = create_sequences(tokenizer, max_length, desc_list, photo, vocab_size)\n",
        "\t\t\tyield [in_img, in_seq], out_word\n",
        "\n",
        "# load training dataset (6K)\n",
        "filename = 'Flickr8k_text/Flickr_8k.trainImages.txt'\n",
        "train = load_set(filename)\n",
        "print('Dataset: %d' % len(train))\n",
        "# load clean descriptions for train\n",
        "train_descriptions = load_clean_descriptions('descriptions.txt',train)\n",
        "print('Descriptions: train=%d' % len(train_descriptions))\n",
        "\n",
        "# load photo features for train using pkl file\n",
        "train_features = load_photo_features('features.pkl',train)\n",
        "print('Photos: train=%d' % len(train_features))\n",
        "\n",
        "# prepare tokenizer for train descriptions\n",
        "tokenizer = create_tokenizer(train_descriptions)\n",
        "# save the tokenizer\n",
        "dump(tokenizer, open('tokenizer.pkl', 'wb'))\n",
        "\n",
        "vocab_size = len(tokenizer.word_index) + 1\n",
        "print('Vocabulary Size: %d' % vocab_size)\n",
        "# determine the maximum sequence length of train description\n",
        "max_length = max_length(train_descriptions)\n",
        "print('Description Length: %d' % max_length)\n",
        "\n",
        "# define the model\n",
        "model = define_model(vocab_size, max_length)\n",
        "# train the model, run epochs manually and save after each epoch\n",
        "epochs = 5\n",
        "steps = len(train_descriptions)\n",
        "for i in range(epochs):\n",
        "\t# create the data generator\n",
        "\tgenerator = data_generator(train_descriptions, train_features, tokenizer, max_length, vocab_size)\n",
        "\t# fit for one epoch and verbose 1\n",
        "\tmodel.fit_generator(generator, epochs=1, steps_per_epoch=steps, verbose=1)\n",
        "\t# save model\n",
        "\tmodel.save('model_' + str(i) + '.h5')"
      ],
      "execution_count": null,
      "outputs": [
        {
          "output_type": "stream",
          "text": [
            "Dataset: 6000\n",
            "Descriptions: train=6000\n",
            "Photos: train=6000\n",
            "Vocabulary Size: 7579\n",
            "Description Length: 34\n",
            "Model: \"model_2\"\n",
            "__________________________________________________________________________________________________\n",
            "Layer (type)                    Output Shape         Param #     Connected to                     \n",
            "==================================================================================================\n",
            "input_3 (InputLayer)            (None, 34)           0                                            \n",
            "__________________________________________________________________________________________________\n",
            "input_2 (InputLayer)            (None, 4096)         0                                            \n",
            "__________________________________________________________________________________________________\n",
            "embedding_1 (Embedding)         (None, 34, 256)      1940224     input_3[0][0]                    \n",
            "__________________________________________________________________________________________________\n",
            "dropout_1 (Dropout)             (None, 4096)         0           input_2[0][0]                    \n",
            "__________________________________________________________________________________________________\n",
            "dropout_2 (Dropout)             (None, 34, 256)      0           embedding_1[0][0]                \n",
            "__________________________________________________________________________________________________\n",
            "dense_1 (Dense)                 (None, 256)          1048832     dropout_1[0][0]                  \n",
            "__________________________________________________________________________________________________\n",
            "lstm_1 (LSTM)                   (None, 256)          525312      dropout_2[0][0]                  \n",
            "__________________________________________________________________________________________________\n",
            "add_1 (Add)                     (None, 256)          0           dense_1[0][0]                    \n",
            "                                                                 lstm_1[0][0]                     \n",
            "__________________________________________________________________________________________________\n",
            "dense_2 (Dense)                 (None, 256)          65792       add_1[0][0]                      \n",
            "__________________________________________________________________________________________________\n",
            "dense_3 (Dense)                 (None, 7579)         1947803     dense_2[0][0]                    \n",
            "==================================================================================================\n",
            "Total params: 5,527,963\n",
            "Trainable params: 5,527,963\n",
            "Non-trainable params: 0\n",
            "__________________________________________________________________________________________________\n"
          ],
          "name": "stdout"
        },
        {
          "output_type": "stream",
          "text": [
            "/usr/local/lib/python3.6/dist-packages/tensorflow/python/framework/indexed_slices.py:434: UserWarning: Converting sparse IndexedSlices to a dense Tensor of unknown shape. This may consume a large amount of memory.\n",
            "  \"Converting sparse IndexedSlices to a dense Tensor of unknown shape. \"\n"
          ],
          "name": "stderr"
        },
        {
          "output_type": "stream",
          "text": [
            "Epoch 1/1\n",
            "6000/6000 [==============================] - 527s 88ms/step - loss: 4.9692\n",
            "Epoch 1/1\n",
            "6000/6000 [==============================] - 532s 89ms/step - loss: 4.6284\n",
            "Epoch 1/1\n",
            "6000/6000 [==============================] - 541s 90ms/step - loss: 4.7379\n",
            "Epoch 1/1\n",
            "6000/6000 [==============================] - 544s 91ms/step - loss: 4.7484\n",
            "Epoch 1/1\n",
            "6000/6000 [==============================] - 546s 91ms/step - loss: 4.6915\n"
          ],
          "name": "stdout"
        }
      ]
    },
    {
      "cell_type": "markdown",
      "metadata": {
        "id": "uGFtJRY2Zrr4",
        "colab_type": "text"
      },
      "source": [
        "# 5. Evaluate Model [2 Marks]"
      ]
    },
    {
      "cell_type": "code",
      "metadata": {
        "id": "b7QDlIkuaZCQ",
        "colab_type": "code",
        "colab": {
          "base_uri": "https://localhost:8080/",
          "height": 258
        },
        "outputId": "6aaaef7f-99f8-42a2-82d1-121082806f70"
      },
      "source": [
        "from numpy import argmax\n",
        "from nltk.translate.bleu_score import corpus_bleu\n",
        "\n",
        "# map an integer to a word\n",
        "def word_for_id(integer, tokenizer):\n",
        "\tfor word, index in tokenizer.word_index.items():\n",
        "\t\tif index == integer:\n",
        "\t\t\treturn word\n",
        "\treturn None\n",
        "\n",
        "# generate a description for an image\n",
        "def generate_desc(model, tokenizer, photo, max_length):\n",
        "\t# seed the generation process\n",
        "\tin_text = 'startseq'\n",
        "\t# iterate over the whole length of the sequence\n",
        "\tfor i in range(max_length):\n",
        "\t\t# integer encode input sequence using texts_to_sequences (consider first element)\n",
        "\t\tsequence = tokenizer.texts_to_sequences([in_text])[0]\n",
        "\t\t# pad sequence for maxlength\n",
        "\t\tsequence = pad_sequences([sequence],maxlen=max_length)\n",
        "\t\t# predict next word using both photo and sequence\n",
        "\t\tyhat = model.predict([photo,sequence], verbose=0)\n",
        "\t\t# convert probability to integer\n",
        "\t\tyhat = argmax(yhat)\n",
        "\t\t# map integer to word\n",
        "\t\tword = word_for_id(yhat, tokenizer)\n",
        "\t\t# stop if we cannot map the word\n",
        "\t\tif word is None:\n",
        "\t\t\tbreak\n",
        "\t\t# append as input for generating the next word\n",
        "\t\tin_text += ' ' + word\n",
        "\t\t# stop if we predict the end of the sequence\n",
        "\t\tif word == 'endseq':\n",
        "\t\t\tbreak\n",
        "\treturn in_text\n",
        "\n",
        "# evaluate the skill of the model\n",
        "def evaluate_model(model, descriptions, photos, tokenizer, max_length):\n",
        "\t# assign empty lists\n",
        "\tactual, predicted = list(),list()\n",
        "\t# step over the whole set\n",
        "\tfor key, desc_list in descriptions.items():\n",
        "\t\t# generate description\n",
        "\t\tyhat = generate_desc(model, tokenizer, photos[key],max_length)\n",
        "\t\t# store actual and predicted\n",
        "\t\treferences = [d.split() for d in desc_list]\n",
        "\t\tactual.append(references)\n",
        "\t\tpredicted.append(yhat.split())\n",
        "\t# calculate BLEU score\n",
        "\tprint('BLEU-1: %f' % corpus_bleu(actual, predicted, weights=(1.0, 0, 0, 0)))\n",
        "\tprint('BLEU-2: %f' % corpus_bleu(actual, predicted, weights=(0.5, 0.5, 0, 0)))\n",
        "\tprint('BLEU-3: %f' % corpus_bleu(actual, predicted, weights=(0.3, 0.3, 0.3, 0)))\n",
        "\tprint('BLEU-4: %f' % corpus_bleu(actual, predicted, weights=(0.25, 0.25, 0.25, 0.25)))\n",
        "\n",
        "def max_length(descriptions):\n",
        "\t# Convert descriptions to lines\n",
        "\tlines = to_lines(descriptions)\n",
        "\treturn max(len(d.split()) for d in lines)\n",
        " \n",
        "# prepare tokenizer on train set\n",
        "\n",
        "# load training dataset (6K)\n",
        "filename = 'Flickr8k_text/Flickr_8k.trainImages.txt'\n",
        "train = load_set(filename)\n",
        "print('Dataset: %d' % len(train))\n",
        "# load clean descriptions for train\n",
        "train_descriptions = load_clean_descriptions('descriptions.txt', train)\n",
        "print('Descriptions: train=%d' % len(train_descriptions))\n",
        "# prepare tokenizer for train descriptions\n",
        "tokenizer = create_tokenizer(train_descriptions)\n",
        "vocab_size = len(tokenizer.word_index) + 1\n",
        "print('Vocabulary Size: %d' % vocab_size)\n",
        "# determine the maximum sequence length\n",
        "max_length = max_length(train_descriptions)\n",
        "print('Description Length: %d' % max_length)\n",
        "\n",
        "# prepare test set\n",
        "\n",
        "# load test set\n",
        "filename = 'Flickr8k_text/Flickr_8k.testImages.txt'\n",
        "test = load_set(filename)\n",
        "print('Dataset: %d' % len(test))\n",
        "# load clean descriptions for test\n",
        "test_descriptions = load_clean_descriptions('descriptions.txt', test)\n",
        "print('Descriptions: test=%d' % len(test_descriptions))\n",
        "# load photo features for test \n",
        "test_features = load_photo_features('features.pkl', test)\n",
        "print('Photos: test=%d' % len(test_features))\n",
        "\n",
        "# load the model\n",
        "filename = 'model_1.h5'\n",
        "model = load_model(filename)\n",
        "# evaluate model\n",
        "evaluate_model(model, test_descriptions, test_features, tokenizer, max_length)\n"
      ],
      "execution_count": null,
      "outputs": [
        {
          "output_type": "stream",
          "text": [
            "Dataset: 6000\n",
            "Descriptions: train=6000\n",
            "Vocabulary Size: 7579\n",
            "Description Length: 34\n",
            "Dataset: 1000\n",
            "Descriptions: test=1000\n",
            "Photos: test=1000\n"
          ],
          "name": "stdout"
        },
        {
          "output_type": "stream",
          "text": [
            "/usr/local/lib/python3.6/dist-packages/tensorflow/python/framework/indexed_slices.py:434: UserWarning: Converting sparse IndexedSlices to a dense Tensor of unknown shape. This may consume a large amount of memory.\n",
            "  \"Converting sparse IndexedSlices to a dense Tensor of unknown shape. \"\n"
          ],
          "name": "stderr"
        },
        {
          "output_type": "stream",
          "text": [
            "BLEU-1: 0.512031\n",
            "BLEU-2: 0.257892\n",
            "BLEU-3: 0.161701\n",
            "BLEU-4: 0.063665\n"
          ],
          "name": "stdout"
        }
      ]
    },
    {
      "cell_type": "markdown",
      "metadata": {
        "id": "Xb_AiI4DBRdT",
        "colab_type": "text"
      },
      "source": [
        "# 6. Generate new captions [1 Mark]"
      ]
    },
    {
      "cell_type": "code",
      "metadata": {
        "id": "gIwohCZEelT0",
        "colab_type": "code",
        "colab": {
          "base_uri": "https://localhost:8080/",
          "height": 88
        },
        "outputId": "fc379e87-a456-43c4-c903-7acf5d41ca2c"
      },
      "source": [
        "# extract features from each image in the directory\n",
        "def extract_features(filename):\n",
        "\t# load the VGG16 model\n",
        "\tmodel = VGG16()\n",
        "\t# re-structure the model by removing the last layer\n",
        "\tmodel.layers.pop()\n",
        "\tmodel = Model(inputs=model.inputs, outputs=model.layers[-1].output)\n",
        "\t# load the image\n",
        "\timage = load_img(filename, target_size=(224, 224))\n",
        "\t# convert the image pixels to a numpy array\n",
        "\timage = img_to_array(image)\n",
        "\t# reshape data for the model\n",
        "\timage = image.reshape((1, image.shape[0], image.shape[1], image.shape[2]))\n",
        "\t# preprocess the image for the VGG model\n",
        "\timage = preprocess_input(image)\n",
        "\t# get features (output of the model for the image)\n",
        "\tfeature = model.predict(image, verbose=0)\n",
        "\treturn feature\n",
        "\n",
        "# load the tokenizer\n",
        "tokenizer = load(open('tokenizer.pkl', 'rb'))\n",
        "# pre-define the max sequence length (from training)\n",
        "max_length = 34\n",
        "# load the model\n",
        "model = load_model('model_4.h5')\n",
        "# load and prepare your own image to generate the caption\n",
        "photo = extract_features(directory+'/2815788792_d226215d10.jpg')   \n",
        "# generate description\n",
        "description = generate_desc(model, tokenizer, photo, max_length)\n",
        "# provide your image file name \n",
        "#Image(filename='model.png') \n",
        "print(description)"
      ],
      "execution_count": null,
      "outputs": [
        {
          "output_type": "stream",
          "text": [
            "/usr/local/lib/python3.6/dist-packages/tensorflow/python/framework/indexed_slices.py:434: UserWarning: Converting sparse IndexedSlices to a dense Tensor of unknown shape. This may consume a large amount of memory.\n",
            "  \"Converting sparse IndexedSlices to a dense Tensor of unknown shape. \"\n"
          ],
          "name": "stderr"
        },
        {
          "output_type": "stream",
          "text": [
            "startseq two people are standing on the grass with his arms endseq\n"
          ],
          "name": "stdout"
        }
      ]
    },
    {
      "cell_type": "code",
      "metadata": {
        "id": "iSvzweoML1HO",
        "colab_type": "code",
        "colab": {}
      },
      "source": [
        ""
      ],
      "execution_count": null,
      "outputs": []
    }
  ]
}