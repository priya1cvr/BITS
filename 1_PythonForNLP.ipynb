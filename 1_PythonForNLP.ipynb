{
  "nbformat": 4,
  "nbformat_minor": 0,
  "metadata": {
    "colab": {
      "name": "1_PythonForNLP.ipynb",
      "provenance": [],
      "collapsed_sections": [],
      "authorship_tag": "ABX9TyP7pBqEcvINe4pOaZFVMvQr",
      "include_colab_link": true
    },
    "kernelspec": {
      "name": "python3",
      "display_name": "Python 3"
    }
  },
  "cells": [
    {
      "cell_type": "markdown",
      "metadata": {
        "id": "view-in-github",
        "colab_type": "text"
      },
      "source": [
        "<a href=\"https://colab.research.google.com/github/priya1cvr/BITS/blob/NLP/1_PythonForNLP.ipynb\" target=\"_parent\"><img src=\"https://colab.research.google.com/assets/colab-badge.svg\" alt=\"Open In Colab\"/></a>"
      ]
    },
    {
      "cell_type": "markdown",
      "metadata": {
        "id": "GJOOLBFvU3-S",
        "colab_type": "text"
      },
      "source": [
        "### Basic Text Processing and Analysis \n",
        "- Load the King James version of the Bible from the Gutenberg corpus in NLTK"
      ]
    },
    {
      "cell_type": "code",
      "metadata": {
        "id": "FUcupr0kUmkZ",
        "colab_type": "code",
        "colab": {}
      },
      "source": [
        "from nltk.corpus import gutenberg\n",
        "import matplotlib.pyplot as plt\n",
        "%matplotlib inline"
      ],
      "execution_count": 0,
      "outputs": []
    },
    {
      "cell_type": "code",
      "metadata": {
        "id": "pZurJ4R3VYgs",
        "colab_type": "code",
        "colab": {
          "base_uri": "https://localhost:8080/",
          "height": 68
        },
        "outputId": "88559696-1f0b-4e0a-aed6-2b43d4ea2eda"
      },
      "source": [
        "import nltk\n",
        "nltk.download('gutenberg')"
      ],
      "execution_count": 6,
      "outputs": [
        {
          "output_type": "stream",
          "text": [
            "[nltk_data] Downloading package gutenberg to /root/nltk_data...\n",
            "[nltk_data]   Unzipping corpora/gutenberg.zip.\n"
          ],
          "name": "stdout"
        },
        {
          "output_type": "execute_result",
          "data": {
            "text/plain": [
              "True"
            ]
          },
          "metadata": {
            "tags": []
          },
          "execution_count": 6
        }
      ]
    },
    {
      "cell_type": "code",
      "metadata": {
        "id": "DBkwDyYdVGd8",
        "colab_type": "code",
        "colab": {}
      },
      "source": [
        "bible =gutenberg.open('bible-kjv.txt')\n",
        "bible =bible.readlines()"
      ],
      "execution_count": 0,
      "outputs": []
    },
    {
      "cell_type": "code",
      "metadata": {
        "id": "XHX5Mh6MVUkn",
        "colab_type": "code",
        "colab": {
          "base_uri": "https://localhost:8080/",
          "height": 170
        },
        "outputId": "8e342949-170f-499a-ce27-9f867872e9a3"
      },
      "source": [
        "print(type(bible))\n",
        "print(\"\\n\",len(bible),\"\\n\")\n",
        "bible[:5]"
      ],
      "execution_count": 12,
      "outputs": [
        {
          "output_type": "stream",
          "text": [
            "<class 'list'>\n",
            "\n",
            " 99805 \n",
            "\n"
          ],
          "name": "stdout"
        },
        {
          "output_type": "execute_result",
          "data": {
            "text/plain": [
              "['[The King James Bible]\\n',\n",
              " '\\n',\n",
              " 'The Old Testament of the King James Bible\\n',\n",
              " '\\n',\n",
              " 'The First Book of Moses:  Called Genesis\\n']"
            ]
          },
          "metadata": {
            "tags": []
          },
          "execution_count": 12
        }
      ]
    },
    {
      "cell_type": "markdown",
      "metadata": {
        "id": "D5kt6mGrVxnE",
        "colab_type": "text"
      },
      "source": [
        "#### removing all the empty newlines in our corpus and stripping away any - newline characters from other lines"
      ]
    },
    {
      "cell_type": "code",
      "metadata": {
        "id": "9gAlX0MKVgen",
        "colab_type": "code",
        "colab": {}
      },
      "source": [
        "bible=list(filter(None,[item.strip(\"\\n\") for item in bible]))"
      ],
      "execution_count": 0,
      "outputs": []
    },
    {
      "cell_type": "code",
      "metadata": {
        "id": "bbOcPPL0WQNW",
        "colab_type": "code",
        "colab": {
          "base_uri": "https://localhost:8080/",
          "height": 136
        },
        "outputId": "df625537-d86a-470a-d916-5f28425ec0ed"
      },
      "source": [
        "## Now see the 1st 5 lines of bible and length of bible\n",
        "print(len(bible),\"\\n\")\n",
        "bible[:5]"
      ],
      "execution_count": 15,
      "outputs": [
        {
          "output_type": "stream",
          "text": [
            "74645 \n",
            "\n"
          ],
          "name": "stdout"
        },
        {
          "output_type": "execute_result",
          "data": {
            "text/plain": [
              "['[The King James Bible]',\n",
              " 'The Old Testament of the King James Bible',\n",
              " 'The First Book of Moses:  Called Genesis',\n",
              " '1:1 In the beginning God created the heaven and the earth.',\n",
              " '1:2 And the earth was without form, and void; and darkness was upon']"
            ]
          },
          "metadata": {
            "tags": []
          },
          "execution_count": 15
        }
      ]
    },
    {
      "cell_type": "markdown",
      "metadata": {
        "id": "jMje3hiRWpMR",
        "colab_type": "text"
      },
      "source": [
        "####  Visualize the overall distribution of typical sentence or line lengths across the Bible. \n",
        "- We can do that by computing the length of each sentence and then visualize this using a histogram"
      ]
    },
    {
      "cell_type": "code",
      "metadata": {
        "id": "96X6Ov_oWVzz",
        "colab_type": "code",
        "colab": {
          "base_uri": "https://localhost:8080/",
          "height": 34
        },
        "outputId": "c8b5a72b-8143-42f9-bde1-b37432ed9692"
      },
      "source": [
        "line_lengths =[len(sentence) for sentence in bible]\n",
        "print(line_lengths[:10])"
      ],
      "execution_count": 16,
      "outputs": [
        {
          "output_type": "stream",
          "text": [
            "[22, 41, 40, 58, 67, 70, 7, 58, 70, 18]\n"
          ],
          "name": "stdout"
        }
      ]
    },
    {
      "cell_type": "code",
      "metadata": {
        "id": "7t75GmG9XQ5R",
        "colab_type": "code",
        "colab": {
          "base_uri": "https://localhost:8080/",
          "height": 298
        },
        "outputId": "7878fb4f-4b76-48f9-b324-607c32059b7c"
      },
      "source": [
        "plt.hist(line_lengths)\n",
        "plt.title(\"Visualizing sentence length distributions in the Bible\")"
      ],
      "execution_count": 20,
      "outputs": [
        {
          "output_type": "execute_result",
          "data": {
            "text/plain": [
              "Text(0.5, 1.0, 'Visualizing sentence length distributions in the Bible')"
            ]
          },
          "metadata": {
            "tags": []
          },
          "execution_count": 20
        },
        {
          "output_type": "display_data",
          "data": {
            "image/png": "[encoded data removed]",
            "text/plain": [
              "<Figure size 432x288 with 1 Axes>"
            ]
          },
          "metadata": {
            "tags": [],
            "needs_background": "light"
          }
        }
      ]
    },
    {
      "cell_type": "markdown",
      "metadata": {
        "id": "wkX6p_UPYUJV",
        "colab_type": "text"
      },
      "source": [
        "- Observation : It looks like most of the sentences are 65-70 characters long"
      ]
    },
    {
      "cell_type": "markdown",
      "metadata": {
        "id": "x5l1ct5jZClr",
        "colab_type": "text"
      },
      "source": [
        "- Let's look at the total words per sentence distribution now. To get that distribution, first let's look at a way to tokenize each sentence in our corpus.\n"
      ]
    },
    {
      "cell_type": "code",
      "metadata": {
        "id": "JOUU5gHGXWzN",
        "colab_type": "code",
        "colab": {
          "base_uri": "https://localhost:8080/",
          "height": 54
        },
        "outputId": "2010880f-0c03-4fe1-ad4c-5e5baaf6d635"
      },
      "source": [
        "tokens = [item.split() for item in bible]\n",
        "print(tokens[:5])"
      ],
      "execution_count": 22,
      "outputs": [
        {
          "output_type": "stream",
          "text": [
            "[['[The', 'King', 'James', 'Bible]'], ['The', 'Old', 'Testament', 'of', 'the', 'King', 'James', 'Bible'], ['The', 'First', 'Book', 'of', 'Moses:', 'Called', 'Genesis'], ['1:1', 'In', 'the', 'beginning', 'God', 'created', 'the', 'heaven', 'and', 'the', 'earth.'], ['1:2', 'And', 'the', 'earth', 'was', 'without', 'form,', 'and', 'void;', 'and', 'darkness', 'was', 'upon']]\n"
          ],
          "name": "stdout"
        }
      ]
    },
    {
      "cell_type": "markdown",
      "metadata": {
        "id": "QHirn-F9Z4Km",
        "colab_type": "text"
      },
      "source": [
        "- Now that we have tokenized each sentence, we just have to compute the length of each sentence to get the total words per sentence and build a histogram to visualize this distribution. "
      ]
    },
    {
      "cell_type": "code",
      "metadata": {
        "id": "lkEVMF0FZObM",
        "colab_type": "code",
        "colab": {
          "base_uri": "https://localhost:8080/",
          "height": 384
        },
        "outputId": "e98ebc70-277d-4388-c35f-566b762cd075"
      },
      "source": [
        "total_tokens_per_line = [len(sentence.split()) for sentence in bible]\n",
        "print(total_tokens_per_line[:10],\"\\n\\n\")\n",
        "plt.hist(total_tokens_per_line,color='blue')"
      ],
      "execution_count": 24,
      "outputs": [
        {
          "output_type": "stream",
          "text": [
            "[4, 8, 7, 11, 13, 16, 1, 12, 15, 3] \n",
            "\n",
            "\n"
          ],
          "name": "stdout"
        },
        {
          "output_type": "execute_result",
          "data": {
            "text/plain": [
              "(array([4.7790e+03, 4.1190e+03, 3.8140e+03, 3.4870e+03, 1.9240e+03,\n",
              "        8.3140e+03, 2.6832e+04, 1.9577e+04, 1.7910e+03, 8.0000e+00]),\n",
              " array([ 1. ,  2.8,  4.6,  6.4,  8.2, 10. , 11.8, 13.6, 15.4, 17.2, 19. ]),\n",
              " <a list of 10 Patch objects>)"
            ]
          },
          "metadata": {
            "tags": []
          },
          "execution_count": 24
        },
        {
          "output_type": "display_data",
          "data": {
            "image/png": "[encoded data removed]",
            "text/plain": [
              "<Figure size 432x288 with 1 Axes>"
            ]
          },
          "metadata": {
            "tags": [],
            "needs_background": "light"
          }
        }
      ]
    },
    {
      "cell_type": "markdown",
      "metadata": {
        "id": "sHzXPYzha-Kz",
        "colab_type": "text"
      },
      "source": [
        "- Conclusion: Most sentences in the Bible have roughly 12-15 words, or tokens, in them\n",
        "\n",
        "###  Let's now try to determine the most common words in the Bible corpus"
      ]
    },
    {
      "cell_type": "code",
      "metadata": {
        "id": "x3JlO6WmapAY",
        "colab_type": "code",
        "colab": {
          "base_uri": "https://localhost:8080/",
          "height": 357
        },
        "outputId": "0e20d87b-56b6-467f-dc9a-c8c6ff30e32a"
      },
      "source": [
        "### The first step involves flattening this big list of lists (each list is a tokenized sentence of words) into one big list of words.\n",
        "words = [word for sentence in tokens for word in sentence]\n",
        "words[:20]"
      ],
      "execution_count": 25,
      "outputs": [
        {
          "output_type": "execute_result",
          "data": {
            "text/plain": [
              "['[The',\n",
              " 'King',\n",
              " 'James',\n",
              " 'Bible]',\n",
              " 'The',\n",
              " 'Old',\n",
              " 'Testament',\n",
              " 'of',\n",
              " 'the',\n",
              " 'King',\n",
              " 'James',\n",
              " 'Bible',\n",
              " 'The',\n",
              " 'First',\n",
              " 'Book',\n",
              " 'of',\n",
              " 'Moses:',\n",
              " 'Called',\n",
              " 'Genesis',\n",
              " '1:1']"
            ]
          },
          "metadata": {
            "tags": []
          },
          "execution_count": 25
        }
      ]
    },
    {
      "cell_type": "markdown",
      "metadata": {
        "id": "b1MWk9wrcG-l",
        "colab_type": "text"
      },
      "source": [
        "- We have our big list of tokens from our corpus. However, you can see the tokens are not totally clean and we have some unwanted symbols and special characters in some of the words. Let's use the power of regular expressions now to remove them"
      ]
    },
    {
      "cell_type": "code",
      "metadata": {
        "id": "kPkNNLYjboQS",
        "colab_type": "code",
        "colab": {}
      },
      "source": [
        "import re\n",
        "words = list(filter(None, [re.sub(r'[^A-Za-z]', \"\", word) for word in words]))"
      ],
      "execution_count": 0,
      "outputs": []
    },
    {
      "cell_type": "code",
      "metadata": {
        "id": "imZ_moX4clbI",
        "colab_type": "code",
        "colab": {
          "base_uri": "https://localhost:8080/",
          "height": 54
        },
        "outputId": "c70f7488-e419-4438-fac3-02063dac0049"
      },
      "source": [
        "print(words[:20])"
      ],
      "execution_count": 30,
      "outputs": [
        {
          "output_type": "stream",
          "text": [
            "['The', 'King', 'James', 'Bible', 'The', 'Old', 'Testament', 'of', 'the', 'King', 'James', 'Bible', 'The', 'First', 'Book', 'of', 'Moses', 'Called', 'Genesis', 'In']\n"
          ],
          "name": "stdout"
        }
      ]
    },
    {
      "cell_type": "markdown",
      "metadata": {
        "id": "2v0E8KJHdMHY",
        "colab_type": "text"
      },
      "source": [
        "- We just removed anything that was not an alphabetical character. Thus all numbers and special characters were removed. We can now determine the most frequent words using the following code."
      ]
    },
    {
      "cell_type": "code",
      "metadata": {
        "id": "WX8pUQszdDx2",
        "colab_type": "code",
        "colab": {
          "base_uri": "https://localhost:8080/",
          "height": 187
        },
        "outputId": "771704bc-f9a8-4f66-a906-9ae56b769bac"
      },
      "source": [
        "from collections import Counter \n",
        "words =[word.lower() for word in words ]\n",
        "c=Counter(words)\n",
        "c.most_common(10)"
      ],
      "execution_count": 32,
      "outputs": [
        {
          "output_type": "execute_result",
          "data": {
            "text/plain": [
              "[('the', 64023),\n",
              " ('and', 51696),\n",
              " ('of', 34670),\n",
              " ('to', 13580),\n",
              " ('that', 12912),\n",
              " ('in', 12667),\n",
              " ('he', 10419),\n",
              " ('shall', 9838),\n",
              " ('unto', 8997),\n",
              " ('for', 8970)]"
            ]
          },
          "metadata": {
            "tags": []
          },
          "execution_count": 32
        }
      ]
    },
    {
      "cell_type": "markdown",
      "metadata": {
        "id": "At1CAohBduHy",
        "colab_type": "text"
      },
      "source": [
        "- We see a lot of general filler words like pronouns, articles, and so on are the most frequent words, which makes perfect sense. But this doesn't convey much information. What if we could remove these words and focus on the more interesting ones? One approach could be to remove these filler words, popularly known as stopwords, and then compute the frequency as follows."
      ]
    },
    {
      "cell_type": "code",
      "metadata": {
        "id": "vtsKsCHyefJx",
        "colab_type": "code",
        "colab": {
          "base_uri": "https://localhost:8080/",
          "height": 68
        },
        "outputId": "6bfff3ed-a728-4f63-d3c9-2c6cb37bf30a"
      },
      "source": [
        "nltk.download('stopwords')"
      ],
      "execution_count": 34,
      "outputs": [
        {
          "output_type": "stream",
          "text": [
            "[nltk_data] Downloading package stopwords to /root/nltk_data...\n",
            "[nltk_data]   Unzipping corpora/stopwords.zip.\n"
          ],
          "name": "stdout"
        },
        {
          "output_type": "execute_result",
          "data": {
            "text/plain": [
              "True"
            ]
          },
          "metadata": {
            "tags": []
          },
          "execution_count": 34
        }
      ]
    },
    {
      "cell_type": "code",
      "metadata": {
        "id": "J4iSX4I8derJ",
        "colab_type": "code",
        "colab": {
          "base_uri": "https://localhost:8080/",
          "height": 187
        },
        "outputId": "30253d59-f10f-48b2-d91f-99d0e8d3ae8f"
      },
      "source": [
        "import nltk\n",
        "stopwords = nltk.corpus.stopwords.words('english')\n",
        "words =[word.lower() for word in words if word.lower() not in stopwords]\n",
        "c=Counter(words)\n",
        "c.most_common(10)"
      ],
      "execution_count": 35,
      "outputs": [
        {
          "output_type": "execute_result",
          "data": {
            "text/plain": [
              "[('shall', 9838),\n",
              " ('unto', 8997),\n",
              " ('lord', 7830),\n",
              " ('thou', 5474),\n",
              " ('thy', 4600),\n",
              " ('god', 4442),\n",
              " ('said', 3999),\n",
              " ('ye', 3983),\n",
              " ('thee', 3826),\n",
              " ('upon', 2748)]"
            ]
          },
          "metadata": {
            "tags": []
          },
          "execution_count": 35
        }
      ]
    },
    {
      "cell_type": "markdown",
      "metadata": {
        "id": "pz3IMTT_ess4",
        "colab_type": "text"
      },
      "source": [
        "- We see that the results are better than before; however, many words are still filler or stopwords. This is more colloquial English, hence they are not a part of the standard English stopwords list so they were not removed. We can always build a custom stopword list as needed."
      ]
    }
  ]
}