{
 "cells": [
  {
   "cell_type": "code",
   "execution_count": 1,
   "metadata": {
    "collapsed": true
   },
   "outputs": [],
   "source": [
    "# A6\n",
    "# Swathi K Srikanta -2018AB04\n",
    "# Jennifer - 2018AB04\n",
    "# Priyabrat kumar Bishwal - 2018AB04056"
   ]
  },
  {
   "cell_type": "code",
   "execution_count": 106,
   "metadata": {
    "collapsed": false
   },
   "outputs": [],
   "source": [
    "# Organising Imports \n",
    "import pandas as pd\n",
    "import numpy as np \n",
    "import os \n",
    "import json\n",
    "import re\n",
    "from numpy import loadtxt\n",
    "from matplotlib import pyplot\n",
    "from sklearn import preprocessing\n",
    "import seaborn as sns\n",
    "from xgboost import XGBClassifier\n",
    "from xgboost import plot_importance\n",
    "import matplotlib.pyplot as plt\n",
    "pd.options.display.max_colwidth = 200"
   ]
  },
  {
   "cell_type": "code",
   "execution_count": 8,
   "metadata": {
    "collapsed": false
   },
   "outputs": [
    {
     "name": "stdout",
     "output_type": "stream",
     "text": [
      "The current working directory is: /Users/pbishwal/Documents/Techie/BITS/SEM2/Assignments/DS/A6\n"
     ]
    }
   ],
   "source": [
    "data_path = os.getcwd()\n",
    "print(\"The current working directory is: \"+data_path)"
   ]
  },
  {
   "cell_type": "code",
   "execution_count": 61,
   "metadata": {
    "collapsed": false
   },
   "outputs": [],
   "source": [
    "nyc_jobs_df = pd.read_csv(data_path+\"/data.csv\") "
   ]
  },
  {
   "cell_type": "code",
   "execution_count": 10,
   "metadata": {
    "collapsed": false
   },
   "outputs": [],
   "source": [
    "with open(data_path+'/metadata.json') as f:\n",
    "    metadata = json.load(f)\n",
    "\n",
    "    "
   ]
  },
  {
   "cell_type": "code",
   "execution_count": 11,
   "metadata": {
    "collapsed": false
   },
   "outputs": [
    {
     "data": {
      "text/plain": [
       "(3228, 28)"
      ]
     },
     "execution_count": 11,
     "metadata": {},
     "output_type": "execute_result"
    }
   ],
   "source": [
    "# get the shape of data\n",
    "nyc_jobs_df.shape"
   ]
  },
  {
   "cell_type": "code",
   "execution_count": 12,
   "metadata": {
    "collapsed": false
   },
   "outputs": [
    {
     "data": {
      "text/html": [
       "<div>\n",
       "<style scoped>\n",
       "    .dataframe tbody tr th:only-of-type {\n",
       "        vertical-align: middle;\n",
       "    }\n",
       "\n",
       "    .dataframe tbody tr th {\n",
       "        vertical-align: top;\n",
       "    }\n",
       "\n",
       "    .dataframe thead th {\n",
       "        text-align: right;\n",
       "    }\n",
       "</style>\n",
       "<table border=\"1\" class=\"dataframe\">\n",
       "  <thead>\n",
       "    <tr style=\"text-align: right;\">\n",
       "      <th></th>\n",
       "      <th>Job ID</th>\n",
       "      <th>Agency</th>\n",
       "      <th>Posting Type</th>\n",
       "      <th># Of Positions</th>\n",
       "      <th>Business Title</th>\n",
       "      <th>Civil Service Title</th>\n",
       "      <th>Title Code No</th>\n",
       "      <th>Level</th>\n",
       "      <th>Job Category</th>\n",
       "      <th>Full-Time/Part-Time indicator</th>\n",
       "      <th>...</th>\n",
       "      <th>Additional Information</th>\n",
       "      <th>To Apply</th>\n",
       "      <th>Hours/Shift</th>\n",
       "      <th>Work Location 1</th>\n",
       "      <th>Recruitment Contact</th>\n",
       "      <th>Residency Requirement</th>\n",
       "      <th>Posting Date</th>\n",
       "      <th>Post Until</th>\n",
       "      <th>Posting Updated</th>\n",
       "      <th>Process Date</th>\n",
       "    </tr>\n",
       "  </thead>\n",
       "  <tbody>\n",
       "    <tr>\n",
       "      <th>0</th>\n",
       "      <td>87990</td>\n",
       "      <td>DEPARTMENT OF BUSINESS SERV.</td>\n",
       "      <td>Internal</td>\n",
       "      <td>1</td>\n",
       "      <td>Account Manager</td>\n",
       "      <td>CONTRACT REVIEWER (OFFICE OF L</td>\n",
       "      <td>40563</td>\n",
       "      <td>1</td>\n",
       "      <td>NaN</td>\n",
       "      <td>NaN</td>\n",
       "      <td>...</td>\n",
       "      <td>Salary range for this position is: $42,405 - $45,000 per year</td>\n",
       "      <td>NaN</td>\n",
       "      <td>NaN</td>\n",
       "      <td>NaN</td>\n",
       "      <td>NaN</td>\n",
       "      <td>New York City residency is generally required within 90 days of appointment. However, City Employees in certain titles who have worked for the City for 2 continuous years may also be eligible to r...</td>\n",
       "      <td>2011-06-24T00:00:00.000</td>\n",
       "      <td>NaN</td>\n",
       "      <td>2011-06-24T00:00:00.000</td>\n",
       "      <td>2019-08-20T00:00:00.000</td>\n",
       "    </tr>\n",
       "    <tr>\n",
       "      <th>1</th>\n",
       "      <td>97899</td>\n",
       "      <td>DEPARTMENT OF BUSINESS SERV.</td>\n",
       "      <td>Internal</td>\n",
       "      <td>1</td>\n",
       "      <td>EXECUTIVE DIRECTOR, BUSINESS DEVELOPMENT</td>\n",
       "      <td>ADMINISTRATIVE BUSINESS PROMOT</td>\n",
       "      <td>10009</td>\n",
       "      <td>M3</td>\n",
       "      <td>NaN</td>\n",
       "      <td>F</td>\n",
       "      <td>...</td>\n",
       "      <td>NaN</td>\n",
       "      <td>In addition to applying through this website,  also email your resume and cover letter including the following subject line:     Executive Director â€“ Business Development to: careers@sbs.nyc.gov...</td>\n",
       "      <td>NaN</td>\n",
       "      <td>NaN</td>\n",
       "      <td>NaN</td>\n",
       "      <td>New York City residency is generally required within 90 days of appointment. However, City Employees in certain titles who have worked for the City for 2 continuous years may also be eligible to r...</td>\n",
       "      <td>2012-01-26T00:00:00.000</td>\n",
       "      <td>NaN</td>\n",
       "      <td>2012-01-26T00:00:00.000</td>\n",
       "      <td>2019-08-20T00:00:00.000</td>\n",
       "    </tr>\n",
       "    <tr>\n",
       "      <th>2</th>\n",
       "      <td>132292</td>\n",
       "      <td>NYC HOUSING AUTHORITY</td>\n",
       "      <td>Internal</td>\n",
       "      <td>52</td>\n",
       "      <td>Maintenance Worker - Technical Services-Heating Unit</td>\n",
       "      <td>MAINTENANCE WORKER</td>\n",
       "      <td>90698</td>\n",
       "      <td>0</td>\n",
       "      <td>Maintenance &amp; Operations</td>\n",
       "      <td>F</td>\n",
       "      <td>...</td>\n",
       "      <td>1.  A Motor Vehicle Driverâ€™s License valid in the State of New York is required for these positions. This license must be maintained for the duration of the assignment.     2.  A Certificate of ...</td>\n",
       "      <td>Click the \"Apply Now\" button.</td>\n",
       "      <td>NaN</td>\n",
       "      <td>NaN</td>\n",
       "      <td>NaN</td>\n",
       "      <td>NYCHA has no residency requirements.</td>\n",
       "      <td>2013-10-24T00:00:00.000</td>\n",
       "      <td>NaN</td>\n",
       "      <td>2013-12-12T00:00:00.000</td>\n",
       "      <td>2019-08-20T00:00:00.000</td>\n",
       "    </tr>\n",
       "  </tbody>\n",
       "</table>\n",
       "<p>3 rows × 28 columns</p>\n",
       "</div>"
      ],
      "text/plain": [
       "   Job ID                        Agency Posting Type  # Of Positions  \\\n",
       "0   87990  DEPARTMENT OF BUSINESS SERV.     Internal               1   \n",
       "1   97899  DEPARTMENT OF BUSINESS SERV.     Internal               1   \n",
       "2  132292         NYC HOUSING AUTHORITY     Internal              52   \n",
       "\n",
       "                                         Business Title  \\\n",
       "0                                       Account Manager   \n",
       "1              EXECUTIVE DIRECTOR, BUSINESS DEVELOPMENT   \n",
       "2  Maintenance Worker - Technical Services-Heating Unit   \n",
       "\n",
       "              Civil Service Title Title Code No Level  \\\n",
       "0  CONTRACT REVIEWER (OFFICE OF L         40563     1   \n",
       "1  ADMINISTRATIVE BUSINESS PROMOT         10009    M3   \n",
       "2              MAINTENANCE WORKER         90698     0   \n",
       "\n",
       "               Job Category Full-Time/Part-Time indicator  ...  \\\n",
       "0                       NaN                           NaN  ...   \n",
       "1                       NaN                             F  ...   \n",
       "2  Maintenance & Operations                             F  ...   \n",
       "\n",
       "                                                                                                                                                                                    Additional Information  \\\n",
       "0                                                                                                                                            Salary range for this position is: $42,405 - $45,000 per year   \n",
       "1                                                                                                                                                                                                      NaN   \n",
       "2  1.  A Motor Vehicle Driverâ€™s License valid in the State of New York is required for these positions. This license must be maintained for the duration of the assignment.     2.  A Certificate of ...   \n",
       "\n",
       "                                                                                                                                                                                                  To Apply  \\\n",
       "0                                                                                                                                                                                                      NaN   \n",
       "1  In addition to applying through this website,  also email your resume and cover letter including the following subject line:     Executive Director â€“ Business Development to: careers@sbs.nyc.gov...   \n",
       "2                                                                                                                                                                            Click the \"Apply Now\" button.   \n",
       "\n",
       "  Hours/Shift Work Location 1 Recruitment Contact  \\\n",
       "0         NaN             NaN                 NaN   \n",
       "1         NaN             NaN                 NaN   \n",
       "2         NaN             NaN                 NaN   \n",
       "\n",
       "                                                                                                                                                                                     Residency Requirement  \\\n",
       "0  New York City residency is generally required within 90 days of appointment. However, City Employees in certain titles who have worked for the City for 2 continuous years may also be eligible to r...   \n",
       "1  New York City residency is generally required within 90 days of appointment. However, City Employees in certain titles who have worked for the City for 2 continuous years may also be eligible to r...   \n",
       "2                                                                                                                                                                     NYCHA has no residency requirements.   \n",
       "\n",
       "              Posting Date Post Until          Posting Updated  \\\n",
       "0  2011-06-24T00:00:00.000        NaN  2011-06-24T00:00:00.000   \n",
       "1  2012-01-26T00:00:00.000        NaN  2012-01-26T00:00:00.000   \n",
       "2  2013-10-24T00:00:00.000        NaN  2013-12-12T00:00:00.000   \n",
       "\n",
       "              Process Date  \n",
       "0  2019-08-20T00:00:00.000  \n",
       "1  2019-08-20T00:00:00.000  \n",
       "2  2019-08-20T00:00:00.000  \n",
       "\n",
       "[3 rows x 28 columns]"
      ]
     },
     "execution_count": 12,
     "metadata": {},
     "output_type": "execute_result"
    }
   ],
   "source": [
    "# head\n",
    "nyc_jobs_df.head(3)"
   ]
  },
  {
   "cell_type": "code",
   "execution_count": 13,
   "metadata": {
    "collapsed": false
   },
   "outputs": [
    {
     "data": {
      "text/plain": [
       "Index(['Job ID', 'Agency', 'Posting Type', '# Of Positions', 'Business Title',\n",
       "       'Civil Service Title', 'Title Code No', 'Level', 'Job Category',\n",
       "       'Full-Time/Part-Time indicator', 'Salary Range From', 'Salary Range To',\n",
       "       'Salary Frequency', 'Work Location', 'Division/Work Unit',\n",
       "       'Job Description', 'Minimum Qual Requirements', 'Preferred Skills',\n",
       "       'Additional Information', 'To Apply', 'Hours/Shift', 'Work Location 1',\n",
       "       'Recruitment Contact', 'Residency Requirement', 'Posting Date',\n",
       "       'Post Until', 'Posting Updated', 'Process Date'],\n",
       "      dtype='object')"
      ]
     },
     "execution_count": 13,
     "metadata": {},
     "output_type": "execute_result"
    }
   ],
   "source": [
    "#get the number of columns\n",
    "nyc_jobs_df.columns"
   ]
  },
  {
   "cell_type": "markdown",
   "metadata": {},
   "source": [
    "# EDA -- Processing -- Cleaning"
   ]
  },
  {
   "cell_type": "code",
   "execution_count": 14,
   "metadata": {
    "collapsed": false
   },
   "outputs": [
    {
     "data": {
      "text/html": [
       "<div>\n",
       "<style scoped>\n",
       "    .dataframe tbody tr th:only-of-type {\n",
       "        vertical-align: middle;\n",
       "    }\n",
       "\n",
       "    .dataframe tbody tr th {\n",
       "        vertical-align: top;\n",
       "    }\n",
       "\n",
       "    .dataframe thead th {\n",
       "        text-align: right;\n",
       "    }\n",
       "</style>\n",
       "<table border=\"1\" class=\"dataframe\">\n",
       "  <thead>\n",
       "    <tr style=\"text-align: right;\">\n",
       "      <th></th>\n",
       "      <th>Job ID</th>\n",
       "      <th># Of Positions</th>\n",
       "      <th>Salary Range From</th>\n",
       "      <th>Salary Range To</th>\n",
       "      <th>Recruitment Contact</th>\n",
       "    </tr>\n",
       "  </thead>\n",
       "  <tbody>\n",
       "    <tr>\n",
       "      <th>count</th>\n",
       "      <td>3228.000000</td>\n",
       "      <td>3228.000000</td>\n",
       "      <td>3228.000000</td>\n",
       "      <td>3228.000000</td>\n",
       "      <td>0.0</td>\n",
       "    </tr>\n",
       "    <tr>\n",
       "      <th>mean</th>\n",
       "      <td>373278.506506</td>\n",
       "      <td>2.519207</td>\n",
       "      <td>57231.734368</td>\n",
       "      <td>84025.572126</td>\n",
       "      <td>NaN</td>\n",
       "    </tr>\n",
       "    <tr>\n",
       "      <th>std</th>\n",
       "      <td>46839.540065</td>\n",
       "      <td>7.988988</td>\n",
       "      <td>26774.118785</td>\n",
       "      <td>43902.861012</td>\n",
       "      <td>NaN</td>\n",
       "    </tr>\n",
       "    <tr>\n",
       "      <th>min</th>\n",
       "      <td>87990.000000</td>\n",
       "      <td>1.000000</td>\n",
       "      <td>0.000000</td>\n",
       "      <td>10.360000</td>\n",
       "      <td>NaN</td>\n",
       "    </tr>\n",
       "    <tr>\n",
       "      <th>25%</th>\n",
       "      <td>373472.000000</td>\n",
       "      <td>1.000000</td>\n",
       "      <td>47214.000000</td>\n",
       "      <td>60403.000000</td>\n",
       "      <td>NaN</td>\n",
       "    </tr>\n",
       "    <tr>\n",
       "      <th>50%</th>\n",
       "      <td>392289.000000</td>\n",
       "      <td>1.000000</td>\n",
       "      <td>57035.000000</td>\n",
       "      <td>80000.000000</td>\n",
       "      <td>NaN</td>\n",
       "    </tr>\n",
       "    <tr>\n",
       "      <th>75%</th>\n",
       "      <td>399787.250000</td>\n",
       "      <td>1.000000</td>\n",
       "      <td>71228.250000</td>\n",
       "      <td>104523.000000</td>\n",
       "      <td>NaN</td>\n",
       "    </tr>\n",
       "    <tr>\n",
       "      <th>max</th>\n",
       "      <td>406986.000000</td>\n",
       "      <td>150.000000</td>\n",
       "      <td>218587.000000</td>\n",
       "      <td>234402.000000</td>\n",
       "      <td>NaN</td>\n",
       "    </tr>\n",
       "  </tbody>\n",
       "</table>\n",
       "</div>"
      ],
      "text/plain": [
       "              Job ID  # Of Positions  Salary Range From  Salary Range To  \\\n",
       "count    3228.000000     3228.000000        3228.000000      3228.000000   \n",
       "mean   373278.506506        2.519207       57231.734368     84025.572126   \n",
       "std     46839.540065        7.988988       26774.118785     43902.861012   \n",
       "min     87990.000000        1.000000           0.000000        10.360000   \n",
       "25%    373472.000000        1.000000       47214.000000     60403.000000   \n",
       "50%    392289.000000        1.000000       57035.000000     80000.000000   \n",
       "75%    399787.250000        1.000000       71228.250000    104523.000000   \n",
       "max    406986.000000      150.000000      218587.000000    234402.000000   \n",
       "\n",
       "       Recruitment Contact  \n",
       "count                  0.0  \n",
       "mean                   NaN  \n",
       "std                    NaN  \n",
       "min                    NaN  \n",
       "25%                    NaN  \n",
       "50%                    NaN  \n",
       "75%                    NaN  \n",
       "max                    NaN  "
      ]
     },
     "execution_count": 14,
     "metadata": {},
     "output_type": "execute_result"
    }
   ],
   "source": [
    "# descriptions\n",
    "nyc_jobs_df.describe()"
   ]
  },
  {
   "cell_type": "code",
   "execution_count": 15,
   "metadata": {
    "collapsed": false
   },
   "outputs": [
    {
     "data": {
      "text/html": [
       "<div>\n",
       "<style scoped>\n",
       "    .dataframe tbody tr th:only-of-type {\n",
       "        vertical-align: middle;\n",
       "    }\n",
       "\n",
       "    .dataframe tbody tr th {\n",
       "        vertical-align: top;\n",
       "    }\n",
       "\n",
       "    .dataframe thead th {\n",
       "        text-align: right;\n",
       "    }\n",
       "</style>\n",
       "<table border=\"1\" class=\"dataframe\">\n",
       "  <thead>\n",
       "    <tr style=\"text-align: right;\">\n",
       "      <th></th>\n",
       "      <th>Agency</th>\n",
       "      <th>Posting Type</th>\n",
       "      <th>Business Title</th>\n",
       "      <th>Civil Service Title</th>\n",
       "      <th>Title Code No</th>\n",
       "      <th>Level</th>\n",
       "      <th>Job Category</th>\n",
       "      <th>Full-Time/Part-Time indicator</th>\n",
       "      <th>Salary Frequency</th>\n",
       "      <th>Work Location</th>\n",
       "      <th>...</th>\n",
       "      <th>Preferred Skills</th>\n",
       "      <th>Additional Information</th>\n",
       "      <th>To Apply</th>\n",
       "      <th>Hours/Shift</th>\n",
       "      <th>Work Location 1</th>\n",
       "      <th>Residency Requirement</th>\n",
       "      <th>Posting Date</th>\n",
       "      <th>Post Until</th>\n",
       "      <th>Posting Updated</th>\n",
       "      <th>Process Date</th>\n",
       "    </tr>\n",
       "  </thead>\n",
       "  <tbody>\n",
       "    <tr>\n",
       "      <th>count</th>\n",
       "      <td>3228</td>\n",
       "      <td>3228</td>\n",
       "      <td>3228</td>\n",
       "      <td>3228</td>\n",
       "      <td>3228</td>\n",
       "      <td>3228</td>\n",
       "      <td>3226</td>\n",
       "      <td>2941</td>\n",
       "      <td>3228</td>\n",
       "      <td>3228</td>\n",
       "      <td>...</td>\n",
       "      <td>2804</td>\n",
       "      <td>1950</td>\n",
       "      <td>3227</td>\n",
       "      <td>1055</td>\n",
       "      <td>1484</td>\n",
       "      <td>3228</td>\n",
       "      <td>3228</td>\n",
       "      <td>984</td>\n",
       "      <td>3228</td>\n",
       "      <td>3228</td>\n",
       "    </tr>\n",
       "    <tr>\n",
       "      <th>unique</th>\n",
       "      <td>54</td>\n",
       "      <td>2</td>\n",
       "      <td>1326</td>\n",
       "      <td>330</td>\n",
       "      <td>344</td>\n",
       "      <td>18</td>\n",
       "      <td>130</td>\n",
       "      <td>2</td>\n",
       "      <td>3</td>\n",
       "      <td>238</td>\n",
       "      <td>...</td>\n",
       "      <td>1390</td>\n",
       "      <td>683</td>\n",
       "      <td>1050</td>\n",
       "      <td>196</td>\n",
       "      <td>247</td>\n",
       "      <td>51</td>\n",
       "      <td>486</td>\n",
       "      <td>110</td>\n",
       "      <td>463</td>\n",
       "      <td>1</td>\n",
       "    </tr>\n",
       "    <tr>\n",
       "      <th>top</th>\n",
       "      <td>DEPT OF ENVIRONMENT PROTECTION</td>\n",
       "      <td>Internal</td>\n",
       "      <td>Project Manager</td>\n",
       "      <td>COMMUNITY COORDINATOR</td>\n",
       "      <td>56058</td>\n",
       "      <td>0</td>\n",
       "      <td>Engineering, Architecture, &amp; Planning</td>\n",
       "      <td>F</td>\n",
       "      <td>Annual</td>\n",
       "      <td>96-05 Horace Harding Expway</td>\n",
       "      <td>...</td>\n",
       "      <td>ERROR: #NAME?</td>\n",
       "      <td>Appointments are subject to OMB approval. For additional information about DEP, visit www.nyc.gov/dep  DEP is an equal opportunity employer with a strong commitment to the diversity of our organiz...</td>\n",
       "      <td>Click the \"Apply Now\" button.</td>\n",
       "      <td>35 Hours</td>\n",
       "      <td>30-30 Thomson Avenue, LIC, NY</td>\n",
       "      <td>New York City residency is generally required within 90 days of appointment. However, City Employees in certain titles who have worked for the City for 2 continuous years may also be eligible to r...</td>\n",
       "      <td>2019-08-16T00:00:00.000</td>\n",
       "      <td>2019-08-30T00:00:00.000</td>\n",
       "      <td>2019-08-16T00:00:00.000</td>\n",
       "      <td>2019-08-20T00:00:00.000</td>\n",
       "    </tr>\n",
       "    <tr>\n",
       "      <th>freq</th>\n",
       "      <td>699</td>\n",
       "      <td>1821</td>\n",
       "      <td>28</td>\n",
       "      <td>205</td>\n",
       "      <td>205</td>\n",
       "      <td>1268</td>\n",
       "      <td>524</td>\n",
       "      <td>2777</td>\n",
       "      <td>2955</td>\n",
       "      <td>293</td>\n",
       "      <td>...</td>\n",
       "      <td>32</td>\n",
       "      <td>108</td>\n",
       "      <td>300</td>\n",
       "      <td>197</td>\n",
       "      <td>175</td>\n",
       "      <td>1848</td>\n",
       "      <td>101</td>\n",
       "      <td>71</td>\n",
       "      <td>107</td>\n",
       "      <td>3228</td>\n",
       "    </tr>\n",
       "  </tbody>\n",
       "</table>\n",
       "<p>4 rows × 23 columns</p>\n",
       "</div>"
      ],
      "text/plain": [
       "                                Agency Posting Type   Business Title  \\\n",
       "count                             3228         3228             3228   \n",
       "unique                              54            2             1326   \n",
       "top     DEPT OF ENVIRONMENT PROTECTION     Internal  Project Manager   \n",
       "freq                               699         1821               28   \n",
       "\n",
       "          Civil Service Title Title Code No Level  \\\n",
       "count                    3228          3228  3228   \n",
       "unique                    330           344    18   \n",
       "top     COMMUNITY COORDINATOR         56058     0   \n",
       "freq                      205           205  1268   \n",
       "\n",
       "                                 Job Category Full-Time/Part-Time indicator  \\\n",
       "count                                    3226                          2941   \n",
       "unique                                    130                             2   \n",
       "top     Engineering, Architecture, & Planning                             F   \n",
       "freq                                      524                          2777   \n",
       "\n",
       "       Salary Frequency                Work Location  ... Preferred Skills  \\\n",
       "count              3228                         3228  ...             2804   \n",
       "unique                3                          238  ...             1390   \n",
       "top              Annual  96-05 Horace Harding Expway  ...    ERROR: #NAME?   \n",
       "freq               2955                          293  ...               32   \n",
       "\n",
       "                                                                                                                                                                                         Additional Information  \\\n",
       "count                                                                                                                                                                                                      1950   \n",
       "unique                                                                                                                                                                                                      683   \n",
       "top     Appointments are subject to OMB approval. For additional information about DEP, visit www.nyc.gov/dep  DEP is an equal opportunity employer with a strong commitment to the diversity of our organiz...   \n",
       "freq                                                                                                                                                                                                        108   \n",
       "\n",
       "                             To Apply Hours/Shift  \\\n",
       "count                            3227        1055   \n",
       "unique                           1050         196   \n",
       "top     Click the \"Apply Now\" button.    35 Hours   \n",
       "freq                              300         197   \n",
       "\n",
       "                      Work Location 1  \\\n",
       "count                            1484   \n",
       "unique                            247   \n",
       "top     30-30 Thomson Avenue, LIC, NY   \n",
       "freq                              175   \n",
       "\n",
       "                                                                                                                                                                                          Residency Requirement  \\\n",
       "count                                                                                                                                                                                                      3228   \n",
       "unique                                                                                                                                                                                                       51   \n",
       "top     New York City residency is generally required within 90 days of appointment. However, City Employees in certain titles who have worked for the City for 2 continuous years may also be eligible to r...   \n",
       "freq                                                                                                                                                                                                       1848   \n",
       "\n",
       "                   Posting Date               Post Until  \\\n",
       "count                      3228                      984   \n",
       "unique                      486                      110   \n",
       "top     2019-08-16T00:00:00.000  2019-08-30T00:00:00.000   \n",
       "freq                        101                       71   \n",
       "\n",
       "                Posting Updated             Process Date  \n",
       "count                      3228                     3228  \n",
       "unique                      463                        1  \n",
       "top     2019-08-16T00:00:00.000  2019-08-20T00:00:00.000  \n",
       "freq                        107                     3228  \n",
       "\n",
       "[4 rows x 23 columns]"
      ]
     },
     "execution_count": 15,
     "metadata": {},
     "output_type": "execute_result"
    }
   ],
   "source": [
    "nyc_jobs_df.describe(include=['object'])"
   ]
  },
  {
   "cell_type": "code",
   "execution_count": 16,
   "metadata": {
    "collapsed": false
   },
   "outputs": [
    {
     "name": "stdout",
     "output_type": "stream",
     "text": [
      "<class 'pandas.core.frame.DataFrame'>\n",
      "RangeIndex: 3228 entries, 0 to 3227\n",
      "Data columns (total 28 columns):\n",
      "Job ID                           3228 non-null int64\n",
      "Agency                           3228 non-null object\n",
      "Posting Type                     3228 non-null object\n",
      "# Of Positions                   3228 non-null int64\n",
      "Business Title                   3228 non-null object\n",
      "Civil Service Title              3228 non-null object\n",
      "Title Code No                    3228 non-null object\n",
      "Level                            3228 non-null object\n",
      "Job Category                     3226 non-null object\n",
      "Full-Time/Part-Time indicator    2941 non-null object\n",
      "Salary Range From                3228 non-null float64\n",
      "Salary Range To                  3228 non-null float64\n",
      "Salary Frequency                 3228 non-null object\n",
      "Work Location                    3228 non-null object\n",
      "Division/Work Unit               3228 non-null object\n",
      "Job Description                  3228 non-null object\n",
      "Minimum Qual Requirements        3214 non-null object\n",
      "Preferred Skills                 2804 non-null object\n",
      "Additional Information           1950 non-null object\n",
      "To Apply                         3227 non-null object\n",
      "Hours/Shift                      1055 non-null object\n",
      "Work Location 1                  1484 non-null object\n",
      "Recruitment Contact              0 non-null float64\n",
      "Residency Requirement            3228 non-null object\n",
      "Posting Date                     3228 non-null object\n",
      "Post Until                       984 non-null object\n",
      "Posting Updated                  3228 non-null object\n",
      "Process Date                     3228 non-null object\n",
      "dtypes: float64(3), int64(2), object(23)\n",
      "memory usage: 706.2+ KB\n"
     ]
    }
   ],
   "source": [
    "nyc_jobs_df.info()"
   ]
  },
  {
   "cell_type": "markdown",
   "metadata": {},
   "source": [
    "#### Getting nulls and missing values info"
   ]
  },
  {
   "cell_type": "code",
   "execution_count": 17,
   "metadata": {
    "collapsed": false
   },
   "outputs": [
    {
     "name": "stdout",
     "output_type": "stream",
     "text": [
      "***Count all NaN in a DataFrame (both columns & Rows)***\n",
      "Total NaN in Dataframe\n",
      "11395\n",
      "\n",
      "\n",
      "***Count NaN in each column of a DataFrame***\n",
      "Nan in each columns\n",
      "Job ID                              0\n",
      "Agency                              0\n",
      "Posting Type                        0\n",
      "# Of Positions                      0\n",
      "Business Title                      0\n",
      "Civil Service Title                 0\n",
      "Title Code No                       0\n",
      "Level                               0\n",
      "Job Category                        2\n",
      "Full-Time/Part-Time indicator     287\n",
      "Salary Range From                   0\n",
      "Salary Range To                     0\n",
      "Salary Frequency                    0\n",
      "Work Location                       0\n",
      "Division/Work Unit                  0\n",
      "Job Description                     0\n",
      "Minimum Qual Requirements          14\n",
      "Preferred Skills                  424\n",
      "Additional Information           1278\n",
      "To Apply                            1\n",
      "Hours/Shift                      2173\n",
      "Work Location 1                  1744\n",
      "Recruitment Contact              3228\n",
      "Residency Requirement               0\n",
      "Posting Date                        0\n",
      "Post Until                       2244\n",
      "Posting Updated                     0\n",
      "Process Date                        0\n",
      "dtype: int64\n"
     ]
    }
   ],
   "source": [
    "## Counting the nulls in each column of dataframe \n",
    "\n",
    "\n",
    "print(\"***Count all NaN in a DataFrame (both columns & Rows)***\")\n",
    "print(\"Total NaN in Dataframe\" , nyc_jobs_df.isnull().sum().sum(), sep='\\n')\n",
    "print('\\n')\n",
    "print(\"***Count NaN in each column of a DataFrame***\")\n",
    "print(\"Nan in each columns\" , nyc_jobs_df.isnull().sum(), sep='\\n')\n"
   ]
  },
  {
   "cell_type": "code",
   "execution_count": 18,
   "metadata": {
    "collapsed": false
   },
   "outputs": [
    {
     "name": "stdout",
     "output_type": "stream",
     "text": [
      "Total na in Dataframe\n",
      "11395\n",
      "\n",
      "\n",
      "***Percentage of na in each column of a DataFrame***\n",
      "Nan in each columns\n",
      "Job ID                             0.00\n",
      "Agency                             0.00\n",
      "Posting Type                       0.00\n",
      "# Of Positions                     0.00\n",
      "Business Title                     0.00\n",
      "Civil Service Title                0.00\n",
      "Title Code No                      0.00\n",
      "Level                              0.00\n",
      "Job Category                       0.06\n",
      "Full-Time/Part-Time indicator      8.89\n",
      "Salary Range From                  0.00\n",
      "Salary Range To                    0.00\n",
      "Salary Frequency                   0.00\n",
      "Work Location                      0.00\n",
      "Division/Work Unit                 0.00\n",
      "Job Description                    0.00\n",
      "Minimum Qual Requirements          0.43\n",
      "Preferred Skills                  13.14\n",
      "Additional Information            39.59\n",
      "To Apply                           0.03\n",
      "Hours/Shift                       67.32\n",
      "Work Location 1                   54.03\n",
      "Recruitment Contact              100.00\n",
      "Residency Requirement              0.00\n",
      "Posting Date                       0.00\n",
      "Post Until                        69.52\n",
      "Posting Updated                    0.00\n",
      "Process Date                       0.00\n",
      "dtype: float64\n"
     ]
    }
   ],
   "source": [
    "print(\"Total na in Dataframe\" , nyc_jobs_df.isna().sum().sum(), sep='\\n')\n",
    "print('\\n')\n",
    "print(\"***Percentage of na in each column of a DataFrame***\")\n",
    "print(\"Nan in each columns\" , nyc_jobs_df.isna().mean().round(4)*100, sep='\\n')\n"
   ]
  },
  {
   "cell_type": "markdown",
   "metadata": {},
   "source": [
    "#### observations from describe method \n",
    "1 : Since Recruitment Contact is having count 0 and it all values NaN <br> \n",
    "2 : Process Date column is having only single unique record . <br>\n",
    "\n",
    "Hence above 2 columns can be dropped from the dataset."
   ]
  },
  {
   "cell_type": "markdown",
   "metadata": {},
   "source": [
    "### Data Preparation  <br>  Identification of Variables <br>Variable Selection<br> Feature Engineering <br> Missing Value or Data"
   ]
  },
  {
   "cell_type": "markdown",
   "metadata": {},
   "source": [
    "#### Framing a new column experience in the dataSet"
   ]
  },
  {
   "cell_type": "code",
   "execution_count": 63,
   "metadata": {
    "collapsed": false
   },
   "outputs": [
    {
     "data": {
      "text/plain": [
       "2.0     977\n",
       "3.0     592\n",
       "5.0     395\n",
       "4.0     383\n",
       "6.0      77\n",
       "10.0     15\n",
       "8.0      14\n",
       "7.0       8\n",
       "Name: experience, dtype: int64"
      ]
     },
     "execution_count": 63,
     "metadata": {},
     "output_type": "execute_result"
    }
   ],
   "source": [
    "nyc_jobs_df['experience'] = nyc_jobs_refined['Minimum Qual Requirements'].str.extract(r'(\\w+)\\syears.+experience')\n",
    "years = {'two':2,\n",
    "        'three':3,\n",
    "        'four':4,\n",
    "        'five':5,\n",
    "        'six':6,\n",
    "        '4':4,\n",
    "        'eight':8,\n",
    "        'seven':7,\n",
    "        'ten':10,\n",
    "        '10':10,\n",
    "        '3':3,\n",
    "        '5':5,\n",
    "        '2':2\n",
    "}\n",
    "nyc_jobs_df['experience'] = nyc_jobs_df['experience'].str.lower().map(years)\n",
    "nyc_jobs_df['experience'].value_counts()"
   ]
  },
  {
   "cell_type": "code",
   "execution_count": 65,
   "metadata": {
    "collapsed": false
   },
   "outputs": [
    {
     "data": {
      "text/plain": [
       "2    3.0\n",
       "3    3.0\n",
       "Name: experience, dtype: float64"
      ]
     },
     "execution_count": 65,
     "metadata": {},
     "output_type": "execute_result"
    }
   ],
   "source": [
    "nyc_jobs_df['experience'].dropna().head(2)"
   ]
  },
  {
   "cell_type": "code",
   "execution_count": 67,
   "metadata": {
    "collapsed": false
   },
   "outputs": [
    {
     "data": {
      "text/plain": [
       "Index(['Job ID', 'Agency', 'Posting Type', '# Of Positions', 'Business Title',\n",
       "       'Civil Service Title', 'Title Code No', 'Level', 'Job Category',\n",
       "       'Full-Time/Part-Time indicator', 'Salary Range From', 'Salary Range To',\n",
       "       'Salary Frequency', 'Work Location', 'Division/Work Unit',\n",
       "       'Job Description', 'Minimum Qual Requirements', 'Preferred Skills',\n",
       "       'Additional Information', 'To Apply', 'Hours/Shift', 'Work Location 1',\n",
       "       'Recruitment Contact', 'Residency Requirement', 'Posting Date',\n",
       "       'Post Until', 'Posting Updated', 'Process Date', 'experience'],\n",
       "      dtype='object')"
      ]
     },
     "execution_count": 67,
     "metadata": {},
     "output_type": "execute_result"
    }
   ],
   "source": [
    "nyc_jobs_df.columns"
   ]
  },
  {
   "cell_type": "markdown",
   "metadata": {},
   "source": [
    "#### Encoding the labels that contains text/string data"
   ]
  },
  {
   "cell_type": "code",
   "execution_count": 46,
   "metadata": {
    "collapsed": false
   },
   "outputs": [
    {
     "name": "stderr",
     "output_type": "stream",
     "text": [
      "/usr/local/lib/python3.7/site-packages/ipykernel_launcher.py:8: SettingWithCopyWarning: \n",
      "A value is trying to be set on a copy of a slice from a DataFrame.\n",
      "Try using .loc[row_indexer,col_indexer] = value instead\n",
      "\n",
      "See the caveats in the documentation: http://pandas.pydata.org/pandas-docs/stable/indexing.html#indexing-view-versus-copy\n",
      "  \n"
     ]
    }
   ],
   "source": [
    "# below indexes are columns with text data types \n",
    "nyc_jobs_temp= nyc_jobs_df.iloc[:,[1,2,4,5,7,12]]\n",
    "\n",
    "# below contains columns salary range from  and salary range To  for all rows \n",
    "nyc_jobs_y= nyc_jobs_df.iloc[:,[10,11]]\n",
    "\n",
    "## lets include '# Of Positions' in nyc_jobs_temp to see its relative significance \n",
    "nyc_jobs_temp['# Of Positions'] =nyc_jobs_df.iloc[:,3]\n",
    "nyc_jobs_df2 =nyc_jobs_temp.apply(preprocessing.LabelEncoder().fit_transform)\n",
    "\n"
   ]
  },
  {
   "cell_type": "markdown",
   "metadata": {},
   "source": [
    "#### find the importance of features (Variable Selection ) "
   ]
  },
  {
   "cell_type": "code",
   "execution_count": 30,
   "metadata": {
    "collapsed": false
   },
   "outputs": [
    {
     "data": {
      "image/png": "[encoded data removed]",
      "text/plain": [
       "<Figure size 432x288 with 1 Axes>"
      ]
     },
     "metadata": {
      "needs_background": "light"
     },
     "output_type": "display_data"
    }
   ],
   "source": [
    "model = XGBClassifier()\n",
    "model.fit(nyc_jobs_df2, nyc_jobs_y.iloc[:,0])\n",
    "# plot feature importance\n",
    "plot_importance(model)\n",
    "pyplot.show()"
   ]
  },
  {
   "cell_type": "raw",
   "metadata": {},
   "source": [
    "It is observed that  '# Of Position' and 'Posting Type' are also nut much useful, \n",
    "So we are drop these columns along with other "
   ]
  },
  {
   "cell_type": "code",
   "execution_count": 21,
   "metadata": {
    "collapsed": false
   },
   "outputs": [
    {
     "data": {
      "text/html": [
       "<div>\n",
       "<style scoped>\n",
       "    .dataframe tbody tr th:only-of-type {\n",
       "        vertical-align: middle;\n",
       "    }\n",
       "\n",
       "    .dataframe tbody tr th {\n",
       "        vertical-align: top;\n",
       "    }\n",
       "\n",
       "    .dataframe thead th {\n",
       "        text-align: right;\n",
       "    }\n",
       "</style>\n",
       "<table border=\"1\" class=\"dataframe\">\n",
       "  <thead>\n",
       "    <tr style=\"text-align: right;\">\n",
       "      <th></th>\n",
       "      <th>Agency</th>\n",
       "      <th>Posting Type</th>\n",
       "      <th>Business Title</th>\n",
       "      <th>Civil Service Title</th>\n",
       "      <th>Level</th>\n",
       "      <th>Salary Frequency</th>\n",
       "      <th># Of Positions</th>\n",
       "    </tr>\n",
       "  </thead>\n",
       "  <tbody>\n",
       "    <tr>\n",
       "      <th>0</th>\n",
       "      <td>10</td>\n",
       "      <td>1</td>\n",
       "      <td>39</td>\n",
       "      <td>141</td>\n",
       "      <td>1</td>\n",
       "      <td>0</td>\n",
       "      <td>0</td>\n",
       "    </tr>\n",
       "    <tr>\n",
       "      <th>1</th>\n",
       "      <td>10</td>\n",
       "      <td>1</td>\n",
       "      <td>586</td>\n",
       "      <td>15</td>\n",
       "      <td>12</td>\n",
       "      <td>0</td>\n",
       "      <td>0</td>\n",
       "    </tr>\n",
       "    <tr>\n",
       "      <th>2</th>\n",
       "      <td>40</td>\n",
       "      <td>1</td>\n",
       "      <td>850</td>\n",
       "      <td>222</td>\n",
       "      <td>0</td>\n",
       "      <td>0</td>\n",
       "      <td>25</td>\n",
       "    </tr>\n",
       "    <tr>\n",
       "      <th>3</th>\n",
       "      <td>40</td>\n",
       "      <td>0</td>\n",
       "      <td>850</td>\n",
       "      <td>222</td>\n",
       "      <td>0</td>\n",
       "      <td>0</td>\n",
       "      <td>25</td>\n",
       "    </tr>\n",
       "    <tr>\n",
       "      <th>4</th>\n",
       "      <td>40</td>\n",
       "      <td>1</td>\n",
       "      <td>1269</td>\n",
       "      <td>236</td>\n",
       "      <td>0</td>\n",
       "      <td>2</td>\n",
       "      <td>24</td>\n",
       "    </tr>\n",
       "  </tbody>\n",
       "</table>\n",
       "</div>"
      ],
      "text/plain": [
       "   Agency  Posting Type  Business Title  Civil Service Title  Level  \\\n",
       "0      10             1              39                  141      1   \n",
       "1      10             1             586                   15     12   \n",
       "2      40             1             850                  222      0   \n",
       "3      40             0             850                  222      0   \n",
       "4      40             1            1269                  236      0   \n",
       "\n",
       "   Salary Frequency  # Of Positions  \n",
       "0                 0               0  \n",
       "1                 0               0  \n",
       "2                 0              25  \n",
       "3                 0              25  \n",
       "4                 2              24  "
      ]
     },
     "execution_count": 21,
     "metadata": {},
     "output_type": "execute_result"
    }
   ],
   "source": [
    "nyc_jobs_df2.head(5)"
   ]
  },
  {
   "cell_type": "code",
   "execution_count": 69,
   "metadata": {
    "collapsed": false
   },
   "outputs": [],
   "source": [
    "to_drop=['Recruitment Contact','Post Until', 'Posting Updated', 'Process Date','# Of Positions','Posting Type']\n",
    "nyc_jobs_refined = nyc_jobs_df.drop(to_drop,axis=1).fillna({'Full-Time/Part-Time indicator':\"other\"}).dropna(subset = ['Job Category'])\n",
    "\n",
    "# since column values are of object types  and represent different meaning for each column so all the columnsx`x`\n",
    "# are not replaced  using any fillna function only column described above are replaced\n",
    "# remove NaN values from column Job Category as it contains only 2 rows "
   ]
  },
  {
   "cell_type": "code",
   "execution_count": 70,
   "metadata": {
    "collapsed": false
   },
   "outputs": [
    {
     "data": {
      "text/html": [
       "<div>\n",
       "<style scoped>\n",
       "    .dataframe tbody tr th:only-of-type {\n",
       "        vertical-align: middle;\n",
       "    }\n",
       "\n",
       "    .dataframe tbody tr th {\n",
       "        vertical-align: top;\n",
       "    }\n",
       "\n",
       "    .dataframe thead th {\n",
       "        text-align: right;\n",
       "    }\n",
       "</style>\n",
       "<table border=\"1\" class=\"dataframe\">\n",
       "  <thead>\n",
       "    <tr style=\"text-align: right;\">\n",
       "      <th></th>\n",
       "      <th>Job ID</th>\n",
       "      <th>Salary Range From</th>\n",
       "      <th>Salary Range To</th>\n",
       "      <th>experience</th>\n",
       "    </tr>\n",
       "  </thead>\n",
       "  <tbody>\n",
       "    <tr>\n",
       "      <th>count</th>\n",
       "      <td>3226.000000</td>\n",
       "      <td>3226.000000</td>\n",
       "      <td>3226.000000</td>\n",
       "      <td>2461.000000</td>\n",
       "    </tr>\n",
       "    <tr>\n",
       "      <th>mean</th>\n",
       "      <td>373452.303162</td>\n",
       "      <td>57235.242883</td>\n",
       "      <td>84007.144397</td>\n",
       "      <td>3.257619</td>\n",
       "    </tr>\n",
       "    <tr>\n",
       "      <th>std</th>\n",
       "      <td>46330.567017</td>\n",
       "      <td>26781.075469</td>\n",
       "      <td>43893.776873</td>\n",
       "      <td>1.379683</td>\n",
       "    </tr>\n",
       "    <tr>\n",
       "      <th>min</th>\n",
       "      <td>132292.000000</td>\n",
       "      <td>0.000000</td>\n",
       "      <td>10.360000</td>\n",
       "      <td>2.000000</td>\n",
       "    </tr>\n",
       "    <tr>\n",
       "      <th>25%</th>\n",
       "      <td>373602.000000</td>\n",
       "      <td>47273.000000</td>\n",
       "      <td>60403.000000</td>\n",
       "      <td>2.000000</td>\n",
       "    </tr>\n",
       "    <tr>\n",
       "      <th>50%</th>\n",
       "      <td>392289.000000</td>\n",
       "      <td>57035.000000</td>\n",
       "      <td>80000.000000</td>\n",
       "      <td>3.000000</td>\n",
       "    </tr>\n",
       "    <tr>\n",
       "      <th>75%</th>\n",
       "      <td>399787.750000</td>\n",
       "      <td>71366.750000</td>\n",
       "      <td>104364.000000</td>\n",
       "      <td>4.000000</td>\n",
       "    </tr>\n",
       "    <tr>\n",
       "      <th>max</th>\n",
       "      <td>406986.000000</td>\n",
       "      <td>218587.000000</td>\n",
       "      <td>234402.000000</td>\n",
       "      <td>10.000000</td>\n",
       "    </tr>\n",
       "  </tbody>\n",
       "</table>\n",
       "</div>"
      ],
      "text/plain": [
       "              Job ID  Salary Range From  Salary Range To   experience\n",
       "count    3226.000000        3226.000000      3226.000000  2461.000000\n",
       "mean   373452.303162       57235.242883     84007.144397     3.257619\n",
       "std     46330.567017       26781.075469     43893.776873     1.379683\n",
       "min    132292.000000           0.000000        10.360000     2.000000\n",
       "25%    373602.000000       47273.000000     60403.000000     2.000000\n",
       "50%    392289.000000       57035.000000     80000.000000     3.000000\n",
       "75%    399787.750000       71366.750000    104364.000000     4.000000\n",
       "max    406986.000000      218587.000000    234402.000000    10.000000"
      ]
     },
     "execution_count": 70,
     "metadata": {},
     "output_type": "execute_result"
    }
   ],
   "source": [
    "#describe the new dataframe \n",
    "nyc_jobs_refined.describe()"
   ]
  },
  {
   "cell_type": "markdown",
   "metadata": {},
   "source": [
    "### Q1. What are the highest paid Skills in the US market?\n"
   ]
  },
  {
   "cell_type": "code",
   "execution_count": 92,
   "metadata": {
    "collapsed": false
   },
   "outputs": [
    {
     "data": {
      "text/plain": [
       "Engineering, Architecture, & Planning        524\n",
       "Technology, Data & Innovation                362\n",
       "Building Operations & Maintenance            220\n",
       "Legal Affairs                                207\n",
       "Public Safety, Inspections, & Enforcement    204\n",
       "Name: Job Category, dtype: int64"
      ]
     },
     "execution_count": 92,
     "metadata": {},
     "output_type": "execute_result"
    }
   ],
   "source": [
    "nyc_jobs_df['Job Category'].value_counts().head()"
   ]
  },
  {
   "cell_type": "code",
   "execution_count": 135,
   "metadata": {
    "collapsed": false
   },
   "outputs": [
    {
     "data": {
      "text/html": [
       "<div>\n",
       "<style scoped>\n",
       "    .dataframe tbody tr th:only-of-type {\n",
       "        vertical-align: middle;\n",
       "    }\n",
       "\n",
       "    .dataframe tbody tr th {\n",
       "        vertical-align: top;\n",
       "    }\n",
       "\n",
       "    .dataframe thead th {\n",
       "        text-align: right;\n",
       "    }\n",
       "</style>\n",
       "<table border=\"1\" class=\"dataframe\">\n",
       "  <thead>\n",
       "    <tr style=\"text-align: right;\">\n",
       "      <th></th>\n",
       "      <th>Salary Range From</th>\n",
       "      <th>Salary Range To</th>\n",
       "      <th># Of Positions</th>\n",
       "    </tr>\n",
       "    <tr>\n",
       "      <th>Civil Service Title</th>\n",
       "      <th></th>\n",
       "      <th></th>\n",
       "      <th></th>\n",
       "    </tr>\n",
       "  </thead>\n",
       "  <tbody>\n",
       "    <tr>\n",
       "      <th>EXECUTIVE AGENCY COUNSEL</th>\n",
       "      <td>145000.0</td>\n",
       "      <td>234402.0</td>\n",
       "      <td>42</td>\n",
       "    </tr>\n",
       "    <tr>\n",
       "      <th>SENIOR GENERAL DEPUTY MANAGER</th>\n",
       "      <td>103620.0</td>\n",
       "      <td>234402.0</td>\n",
       "      <td>2</td>\n",
       "    </tr>\n",
       "    <tr>\n",
       "      <th>EXECUTIVE DEPUTY COMMISSIONER</th>\n",
       "      <td>113113.0</td>\n",
       "      <td>230000.0</td>\n",
       "      <td>2</td>\n",
       "    </tr>\n",
       "    <tr>\n",
       "      <th>COMPUTER SYSTEMS MANAGER</th>\n",
       "      <td>130001.0</td>\n",
       "      <td>225217.0</td>\n",
       "      <td>53</td>\n",
       "    </tr>\n",
       "    <tr>\n",
       "      <th>DEPUTY COMMISSIONER (HEALTH)</th>\n",
       "      <td>94981.0</td>\n",
       "      <td>225217.0</td>\n",
       "      <td>4</td>\n",
       "    </tr>\n",
       "  </tbody>\n",
       "</table>\n",
       "</div>"
      ],
      "text/plain": [
       "                               Salary Range From  Salary Range To  \\\n",
       "Civil Service Title                                                 \n",
       "EXECUTIVE AGENCY COUNSEL                145000.0         234402.0   \n",
       "SENIOR GENERAL DEPUTY MANAGER           103620.0         234402.0   \n",
       "EXECUTIVE DEPUTY COMMISSIONER           113113.0         230000.0   \n",
       "COMPUTER SYSTEMS MANAGER                130001.0         225217.0   \n",
       "DEPUTY COMMISSIONER (HEALTH)             94981.0         225217.0   \n",
       "\n",
       "                               # Of Positions  \n",
       "Civil Service Title                            \n",
       "EXECUTIVE AGENCY COUNSEL                   42  \n",
       "SENIOR GENERAL DEPUTY MANAGER               2  \n",
       "EXECUTIVE DEPUTY COMMISSIONER               2  \n",
       "COMPUTER SYSTEMS MANAGER                   53  \n",
       "DEPUTY COMMISSIONER (HEALTH)                4  "
      ]
     },
     "execution_count": 135,
     "metadata": {},
     "output_type": "execute_result"
    }
   ],
   "source": [
    "nyc_jobs_df_3 = nyc_jobs_df.groupby('Civil Service Title').agg(\n",
    "    {\n",
    "         'Salary Range From':\"max\",\n",
    "         'Salary Range To':\"max\",  \n",
    "         '# Of Positions': \"count\"  \n",
    "    }\n",
    ")\n",
    "nyc_jobs_df_4 = nyc_jobs_df_3.sort_values(['Salary Range To'],ascending=False)\n",
    "nyc_jobs_df_4.head(5)"
   ]
  },
  {
   "cell_type": "code",
   "execution_count": 134,
   "metadata": {
    "collapsed": false
   },
   "outputs": [
    {
     "data": {
      "text/html": [
       "<div>\n",
       "<style scoped>\n",
       "    .dataframe tbody tr th:only-of-type {\n",
       "        vertical-align: middle;\n",
       "    }\n",
       "\n",
       "    .dataframe tbody tr th {\n",
       "        vertical-align: top;\n",
       "    }\n",
       "\n",
       "    .dataframe thead th {\n",
       "        text-align: right;\n",
       "    }\n",
       "</style>\n",
       "<table border=\"1\" class=\"dataframe\">\n",
       "  <thead>\n",
       "    <tr style=\"text-align: right;\">\n",
       "      <th></th>\n",
       "      <th></th>\n",
       "      <th>Salary Range From</th>\n",
       "      <th>Salary Range To</th>\n",
       "    </tr>\n",
       "    <tr>\n",
       "      <th>Job Category</th>\n",
       "      <th>experience</th>\n",
       "      <th></th>\n",
       "      <th></th>\n",
       "    </tr>\n",
       "  </thead>\n",
       "  <tbody>\n",
       "    <tr>\n",
       "      <th>Building Operations &amp; Maintenance</th>\n",
       "      <th>10.0</th>\n",
       "      <td>103620.0</td>\n",
       "      <td>234402.0</td>\n",
       "    </tr>\n",
       "    <tr>\n",
       "      <th>Legal Affairs Public Safety, Inspections, &amp; Enforcement</th>\n",
       "      <th>4.0</th>\n",
       "      <td>103620.0</td>\n",
       "      <td>234402.0</td>\n",
       "    </tr>\n",
       "    <tr>\n",
       "      <th>Health</th>\n",
       "      <th>5.0</th>\n",
       "      <td>113113.0</td>\n",
       "      <td>230000.0</td>\n",
       "    </tr>\n",
       "    <tr>\n",
       "      <th>Health Policy, Research &amp; Analysis</th>\n",
       "      <th>4.0</th>\n",
       "      <td>94981.0</td>\n",
       "      <td>225217.0</td>\n",
       "    </tr>\n",
       "    <tr>\n",
       "      <th>Technology, Data &amp; Innovation</th>\n",
       "      <th>3.0</th>\n",
       "      <td>125000.0</td>\n",
       "      <td>225217.0</td>\n",
       "    </tr>\n",
       "  </tbody>\n",
       "</table>\n",
       "</div>"
      ],
      "text/plain": [
       "                                                                    Salary Range From  \\\n",
       "Job Category                                            experience                      \n",
       "Building Operations & Maintenance                       10.0                 103620.0   \n",
       "Legal Affairs Public Safety, Inspections, & Enforcement 4.0                  103620.0   \n",
       "Health                                                  5.0                  113113.0   \n",
       "Health Policy, Research & Analysis                      4.0                   94981.0   \n",
       "Technology, Data & Innovation                           3.0                  125000.0   \n",
       "\n",
       "                                                                    Salary Range To  \n",
       "Job Category                                            experience                   \n",
       "Building Operations & Maintenance                       10.0               234402.0  \n",
       "Legal Affairs Public Safety, Inspections, & Enforcement 4.0                234402.0  \n",
       "Health                                                  5.0                230000.0  \n",
       "Health Policy, Research & Analysis                      4.0                225217.0  \n",
       "Technology, Data & Innovation                           3.0                225217.0  "
      ]
     },
     "execution_count": 134,
     "metadata": {},
     "output_type": "execute_result"
    }
   ],
   "source": [
    "nyc_jobs_df_5 = nyc_jobs_df.groupby(['Job Category','experience']).agg(\n",
    "    {\n",
    "         'Salary Range From':\"max\",\n",
    "         'Salary Range To':\"max\",  \n",
    "    }\n",
    ")\n",
    "nyc_jobs_df_6 = nyc_jobs_df_5.sort_values(['Salary Range To'],ascending=False)\n",
    "nyc_jobs_df_6.head(5)"
   ]
  },
  {
   "cell_type": "markdown",
   "metadata": {},
   "source": [
    "### Depict visually what are the different salary ranges based on job category and years of experience."
   ]
  },
  {
   "cell_type": "code",
   "execution_count": 103,
   "metadata": {
    "collapsed": false
   },
   "outputs": [
    {
     "data": {
      "image/png": "[encoded data removed]",
      "text/plain": [
       "<Figure size 360x360 with 1 Axes>"
      ]
     },
     "metadata": {
      "needs_background": "light"
     },
     "output_type": "display_data"
    }
   ],
   "source": [
    "import seaborn as sns\n",
    "sns.catplot(x=\"experience\", y=\"Salary Range From\", kind=\"box\", data=nyc_jobs_df[['experience','Salary Range From']]);"
   ]
  },
  {
   "cell_type": "markdown",
   "metadata": {},
   "source": [
    "Since there were lot of job category so visualisation is little difficult for all of them hence here a function is \n",
    "written to visualise the job category and salary ranges \n",
    "\n",
    "<b>Note</b> : This is without using any clustering just to visualise the range of salary for each job category "
   ]
  },
  {
   "cell_type": "code",
   "execution_count": 131,
   "metadata": {
    "collapsed": true
   },
   "outputs": [],
   "source": [
    "def visual_job_category_sal(job_category):\n",
    "    data=nyc_jobs_df.loc[nyc_jobs_df['Job Category'].isin([job_category ])][['Salary Range From','Job Category']]\n",
    "    sns.catplot(x=\"Job Category\", y=\"Salary Range From\", kind=\"box\", data=data)"
   ]
  },
  {
   "cell_type": "code",
   "execution_count": 132,
   "metadata": {
    "collapsed": false
   },
   "outputs": [
    {
     "data": {
      "image/png": "[encoded data removed]",
      "text/plain": [
       "<Figure size 360x360 with 1 Axes>"
      ]
     },
     "metadata": {
      "needs_background": "light"
     },
     "output_type": "display_data"
    }
   ],
   "source": [
    "visual_job_category_sal('Engineering, Architecture, & Planning')"
   ]
  },
  {
   "cell_type": "code",
   "execution_count": 121,
   "metadata": {
    "collapsed": false
   },
   "outputs": [
    {
     "data": {
      "text/plain": [
       "array([nan, 'Maintenance & Operations',\n",
       "       'Finance, Accounting, & Procurement',\n",
       "       'Health Public Safety, Inspections, & Enforcement',\n",
       "       'Engineering, Architecture, & Planning',\n",
       "       'Clerical & Administrative Support',\n",
       "       'Information Technology & Telecommunications',\n",
       "       'Finance, Accounting, & Procurement Information Technology & Telecommunications',\n",
       "       'Community & Business Services',\n",
       "       'Clerical & Administrative Support Legal',\n",
       "       'Clerical & Administrative Support Community & Business Services',\n",
       "       'Social Services',\n",
       "       'Engineering, Architecture, & Planning Maintenance & Operations',\n",
       "       'Health', 'Clerical & Administrative Support Policy & Analysis',\n",
       "       'Community & Business Services Social Services',\n",
       "       'Public Safety, Inspections, & Enforcement', 'Legal',\n",
       "       'Policy & Analysis Social Services',\n",
       "       'Information Technology & Telecommunications Policy & Analysis Social Services',\n",
       "       'Legal Policy & Analysis',\n",
       "       'Finance, Accounting, & Procurement Policy & Analysis',\n",
       "       'Administration & Human Resources Legal Affairs',\n",
       "       'Finance, Accounting, & Procurement Policy, Research & Analysis',\n",
       "       'Building Operations & Maintenance',\n",
       "       'Technology, Data & Innovation',\n",
       "       'Engineering, Architecture, & Planning Building Operations & Maintenance',\n",
       "       'Policy, Research & Analysis',\n",
       "       'Communications & Intergovernmental Affairs',\n",
       "       'Administration & Human Resources',\n",
       "       'Policy, Research & Analysis Public Safety, Inspections, & Enforcement',\n",
       "       'Engineering, Architecture, & Planning Technology, Data & Innovation',\n",
       "       'Legal Affairs Policy, Research & Analysis',\n",
       "       'Engineering, Architecture, & Planning Policy, Research & Analysis',\n",
       "       'Administration & Human Resources Policy, Research & Analysis',\n",
       "       'Administration & Human Resources Public Safety, Inspections, & Enforcement',\n",
       "       'Engineering, Architecture, & Planning Finance, Accounting, & Procurement Building Operations & Maintenance Public Safety, Inspections, & Enforcement',\n",
       "       'Administration & Human Resources Finance, Accounting, & Procurement',\n",
       "       'Legal Affairs',\n",
       "       'Administration & Human Resources Health Public Safety, Inspections, & Enforcement',\n",
       "       'Building Operations & Maintenance Public Safety, Inspections, & Enforcement',\n",
       "       'Technology, Data & Innovation Policy, Research & Analysis',\n",
       "       'Policy, Research & Analysis Public Safety, Inspections, & Enforcement Social Services',\n",
       "       'Constituent Services & Community Programs',\n",
       "       'Engineering, Architecture, & Planning Public Safety, Inspections, & Enforcement',\n",
       "       'Health Building Operations & Maintenance Public Safety, Inspections, & Enforcement',\n",
       "       'Administration & Human Resources Technology, Data & Innovation',\n",
       "       'Constituent Services & Community Programs Communications & Intergovernmental Affairs Engineering, Architecture, & Planning Policy, Research & Analysis',\n",
       "       'Policy, Research & Analysis Social Services',\n",
       "       'Administration & Human Resources Communications & Intergovernmental Affairs',\n",
       "       'Legal Affairs Policy, Research & Analysis Public Safety, Inspections, & Enforcement',\n",
       "       'Administration & Human Resources Constituent Services & Community Programs Policy, Research & Analysis',\n",
       "       'Health Policy, Research & Analysis',\n",
       "       'Engineering, Architecture, & Planning Finance, Accounting, & Procurement',\n",
       "       'Constituent Services & Community Programs Policy, Research & Analysis',\n",
       "       'Administration & Human Resources Social Services',\n",
       "       'Administration & Human Resources Building Operations & Maintenance',\n",
       "       'Constituent Services & Community Programs Communications & Intergovernmental Affairs Policy, Research & Analysis',\n",
       "       'Constituent Services & Community Programs Health Social Services',\n",
       "       'Administration & Human Resources Policy, Research & Analysis Social Services',\n",
       "       'Constituent Services & Community Programs Communications & Intergovernmental Affairs',\n",
       "       'Health Building Operations & Maintenance',\n",
       "       'Administration & Human Resources Constituent Services & Community Programs',\n",
       "       'Administration & Human Resources Constituent Services & Community Programs Communications & Intergovernmental Affairs',\n",
       "       'Health Technology, Data & Innovation',\n",
       "       'Constituent Services & Community Programs Social Services',\n",
       "       'Legal Affairs Public Safety, Inspections, & Enforcement',\n",
       "       'Health Legal Affairs',\n",
       "       'Finance, Accounting, & Procurement Legal Affairs Policy, Research & Analysis',\n",
       "       'Administration & Human Resources Constituent Services & Community Programs Communications & Intergovernmental Affairs Public Safety, Inspections, & Enforcement',\n",
       "       'Finance, Accounting, & Procurement Building Operations & Maintenance',\n",
       "       'Communications & Intergovernmental Affairs Legal Affairs Policy, Research & Analysis',\n",
       "       'Finance, Accounting, & Procurement Health',\n",
       "       'Constituent Services & Community Programs Legal Affairs',\n",
       "       'Administration & Human Resources Finance, Accounting, & Procurement Policy, Research & Analysis',\n",
       "       'Health Policy, Research & Analysis Public Safety, Inspections, & Enforcement',\n",
       "       'Administration & Human Resources Communications & Intergovernmental Affairs Engineering, Architecture, & Planning Policy, Research & Analysis',\n",
       "       'Administration & Human Resources Technology, Data & Innovation Building Operations & Maintenance',\n",
       "       'Constituent Services & Community Programs Public Safety, Inspections, & Enforcement',\n",
       "       'Communications & Intergovernmental Affairs Public Safety, Inspections, & Enforcement',\n",
       "       'Finance, Accounting, & Procurement Technology, Data & Innovation Policy, Research & Analysis',\n",
       "       'Finance, Accounting, & Procurement Legal Affairs',\n",
       "       'Constituent Services & Community Programs Communications & Intergovernmental Affairs Health Social Services',\n",
       "       'Finance, Accounting, & Procurement Health Policy, Research & Analysis Social Services',\n",
       "       'Administration & Human Resources Finance, Accounting, & Procurement Technology, Data & Innovation',\n",
       "       'Finance, Accounting, & Procurement Public Safety, Inspections, & Enforcement',\n",
       "       'Engineering, Architecture, & Planning Policy, Research & Analysis Public Safety, Inspections, & Enforcement',\n",
       "       'Administration & Human Resources Constituent Services & Community Programs Finance, Accounting, & Procurement Health',\n",
       "       'Technology, Data & Innovation Legal Affairs',\n",
       "       'Engineering, Architecture, & Planning Technology, Data & Innovation Public Safety, Inspections, & Enforcement',\n",
       "       'Constituent Services & Community Programs Health',\n",
       "       'Administration & Human Resources Constituent Services & Community Programs Communications & Intergovernmental Affairs Engineering, Architecture, & Planning Finance, Accounting, & Procurement Health Technology, Data & Innovation Legal Affairs Building Operations & Maintenance Policy, Research & Analysis Public Safety, Inspections, & Enforcement Social Services',\n",
       "       'Administration & Human Resources Finance, Accounting, & Procurement Building Operations & Maintenance',\n",
       "       'Administration & Human Resources Constituent Services & Community Programs Public Safety, Inspections, & Enforcement Social Services',\n",
       "       'Technology, Data & Innovation Policy, Research & Analysis Public Safety, Inspections, & Enforcement',\n",
       "       'Technology, Data & Innovation Public Safety, Inspections, & Enforcement',\n",
       "       'Communications & Intergovernmental Affairs Policy, Research & Analysis',\n",
       "       'Communications & Intergovernmental Affairs Finance, Accounting, & Procurement Legal Affairs Policy, Research & Analysis',\n",
       "       'Communications & Intergovernmental Affairs Building Operations & Maintenance Policy, Research & Analysis',\n",
       "       'Engineering, Architecture, & Planning Finance, Accounting, & Procurement Policy, Research & Analysis',\n",
       "       'Constituent Services & Community Programs Building Operations & Maintenance',\n",
       "       'Administration & Human Resources Technology, Data & Innovation Public Safety, Inspections, & Enforcement',\n",
       "       'Technology, Data & Innovation Building Operations & Maintenance',\n",
       "       'Engineering, Architecture, & Planning Technology, Data & Innovation Policy, Research & Analysis',\n",
       "       'Technology, Data & Innovation Policy, Research & Analysis Social Services',\n",
       "       'Finance, Accounting, & Procurement Policy, Research & Analysis Social Services',\n",
       "       'Administration & Human Resources Communications & Intergovernmental Affairs Technology, Data & Innovation Legal Affairs Policy, Research & Analysis',\n",
       "       'Constituent Services & Community Programs Engineering, Architecture, & Planning',\n",
       "       'Communications & Intergovernmental Affairs Policy, Research & Analysis Public Safety, Inspections, & Enforcement',\n",
       "       'Administration & Human Resources Constituent Services & Community Programs Communications & Intergovernmental Affairs Policy, Research & Analysis Social Services',\n",
       "       'Constituent Services & Community Programs Policy, Research & Analysis Public Safety, Inspections, & Enforcement',\n",
       "       'Constituent Services & Community Programs Communications & Intergovernmental Affairs Engineering, Architecture, & Planning',\n",
       "       'Constituent Services & Community Programs Legal Affairs Policy, Research & Analysis Public Safety, Inspections, & Enforcement',\n",
       "       'Constituent Services & Community Programs Finance, Accounting, & Procurement',\n",
       "       'Administration & Human Resources Communications & Intergovernmental Affairs Policy, Research & Analysis',\n",
       "       'Communications & Intergovernmental Affairs Technology, Data & Innovation Policy, Research & Analysis',\n",
       "       'Finance, Accounting, & Procurement Technology, Data & Innovation',\n",
       "       'Administration & Human Resources Technology, Data & Innovation Policy, Research & Analysis',\n",
       "       'Administration & Human Resources Engineering, Architecture, & Planning Technology, Data & Innovation Building Operations & Maintenance Policy, Research & Analysis',\n",
       "       'Administration & Human Resources Finance, Accounting, & Procurement Technology, Data & Innovation Building Operations & Maintenance Policy, Research & Analysis Public Safety, Inspections, & Enforcement',\n",
       "       'Communications & Intergovernmental Affairs Engineering, Architecture, & Planning Technology, Data & Innovation Policy, Research & Analysis',\n",
       "       'Administration & Human Resources Finance, Accounting, & Procurement Social Services',\n",
       "       'Constituent Services & Community Programs Communications & Intergovernmental Affairs Legal Affairs',\n",
       "       'Administration & Human Resources Constituent Services & Community Programs Communications & Intergovernmental Affairs Finance, Accounting, & Procurement Legal Affairs Policy, Research & Analysis Public Safety, Inspections, & Enforcement',\n",
       "       'Administration & Human Resources Engineering, Architecture, & Planning Policy, Research & Analysis',\n",
       "       'Administration & Human Resources Communications & Intergovernmental Affairs Health Public Safety, Inspections, & Enforcement',\n",
       "       'Administration & Human Resources Finance, Accounting, & Procurement Public Safety, Inspections, & Enforcement Social Services',\n",
       "       'Constituent Services & Community Programs Communications & Intergovernmental Affairs Engineering, Architecture, & Planning Technology, Data & Innovation',\n",
       "       'Communications & Intergovernmental Affairs Finance, Accounting, & Procurement Policy, Research & Analysis',\n",
       "       'Administration & Human Resources Constituent Services & Community Programs Finance, Accounting, & Procurement Social Services',\n",
       "       'Public Safety, Inspections, & Enforcement Social Services'],\n",
       "      dtype=object)"
      ]
     },
     "execution_count": 121,
     "metadata": {},
     "output_type": "execute_result"
    }
   ],
   "source": [
    "nyc_jobs_df['Job Category'].unique()"
   ]
  },
  {
   "cell_type": "markdown",
   "metadata": {},
   "source": [
    "#### Depict above using Clustering "
   ]
  },
  {
   "cell_type": "code",
   "execution_count": 133,
   "metadata": {
    "collapsed": true
   },
   "outputs": [],
   "source": [
    "from sklearn.cluster import KMeans\n",
    "from sklearn.preprocessing import LabelEncoder\n",
    "from sklearn.preprocessing import StandardScaler\n",
    "from sklearn.preprocessing import MinMaxScaler\n",
    "from sklearn.mixture import GaussianMixture #For GMM clustering\n",
    "\n"
   ]
  },
  {
   "cell_type": "code",
   "execution_count": 139,
   "metadata": {
    "collapsed": true
   },
   "outputs": [],
   "source": [
    "from sklearn.feature_extraction.text import TfidfVectorizer\n",
    "from sklearn.metrics import adjusted_rand_score\n"
   ]
  },
  {
   "cell_type": "code",
   "execution_count": null,
   "metadata": {
    "collapsed": true
   },
   "outputs": [],
   "source": [
    "## Lets use the refined data set \n",
    "\n",
    "\n",
    " \n"
   ]
  },
  {
   "cell_type": "code",
   "execution_count": 142,
   "metadata": {
    "collapsed": true
   },
   "outputs": [],
   "source": [
    "df_tr = pd.get_dummies(nyc_jobs_refined, columns=['Job Category'])\n"
   ]
  },
  {
   "cell_type": "code",
   "execution_count": null,
   "metadata": {
    "collapsed": true
   },
   "outputs": [],
   "source": []
  }
 ],
 "metadata": {
  "anaconda-cloud": {},
  "kernelspec": {
   "display_name": "Python 3",
   "language": "python",
   "name": "python3"
  },
  "language_info": {
   "codemirror_mode": {
    "name": "ipython",
    "version": 3
   },
   "file_extension": ".py",
   "mimetype": "text/x-python",
   "name": "python",
   "nbconvert_exporter": "python",
   "pygments_lexer": "ipython3",
   "version": "3.7.3"
  }
 },
 "nbformat": 4,
 "nbformat_minor": 2
}
