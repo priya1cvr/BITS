{
 "cells": [
  {
   "cell_type": "markdown",
   "metadata": {},
   "source": [
    "# Computational and Artifical Intelligenge Assignment 1\n",
    "\n",
    "Problem Solving by Searching using IDA* and Best First Search\n",
    "\n",
    "Weightage: 10%\n",
    "\n",
    "Date of Posting - 04/July/2019\n",
    "\n",
    "Deadline - 19/July/2019"
   ]
  },
  {
   "cell_type": "markdown",
   "metadata": {},
   "source": [
    "Please enter group and individual information here\n",
    "\n",
    "Group ID/Number: BAI7 \n",
    "\n",
    "Group Members BITS ID: 2018AB04056,2018AB04051,2018AB04062, "
   ]
  },
  {
   "cell_type": "markdown",
   "metadata": {},
   "source": [
    "Things to follow\n",
    "\n",
    "1. Use appropriate data structures for the fringes and explain the reasoning behind the usage. You need not create data structures, instead use available libraries directly.\n",
    "\n",
    "2. Avoid any hard-coding unless absolutely necessary.\n",
    "\n",
    "3. Provide proper documentation"
   ]
  },
  {
   "cell_type": "markdown",
   "metadata": {},
   "source": [
    "Coding begins now!!!"
   ]
  },
  {
   "cell_type": "markdown",
   "metadata": {},
   "source": [
    "Define the environment representation in the following code block"
   ]
  },
  {
   "cell_type": "code",
   "execution_count": 1,
   "metadata": {
    "collapsed": false
   },
   "outputs": [],
   "source": [
    "#Environment representation goes here\n",
    "# declared the initial matix as all zeros\n",
    "from queue import Queue\n",
    "import numpy as np \n",
    "import pandas as pd\n",
    "import heapq\n",
    "import matplotlib.pyplot as plt\n",
    "from matplotlib.pyplot import figure\n",
    "initial_matrix = np.zeros((8, 11))"
   ]
  },
  {
   "cell_type": "code",
   "execution_count": 2,
   "metadata": {
    "collapsed": false
   },
   "outputs": [
    {
     "name": "stdout",
     "output_type": "stream",
     "text": [
      "The complete matrix with the blocked path\n"
     ]
    },
    {
     "data": {
      "text/plain": [
       "array([[0, 0, 0, 0, 0, 0, 0, 0, 0, 0, 0],\n",
       "       [0, 0, 0, 0, 0, 0, 1, 1, 1, 0, 0],\n",
       "       [0, 0, 1, 1, 0, 0, 0, 0, 1, 0, 0],\n",
       "       [0, 0, 1, 1, 0, 0, 0, 0, 1, 0, 0],\n",
       "       [0, 0, 0, 0, 0, 0, 0, 0, 0, 0, 0],\n",
       "       [0, 0, 0, 0, 0, 0, 0, 0, 0, 0, 0],\n",
       "       [0, 0, 1, 1, 1, 1, 1, 1, 1, 0, 0],\n",
       "       [0, 0, 0, 0, 0, 0, 0, 0, 0, 0, 0]])"
      ]
     },
     "execution_count": 2,
     "metadata": {},
     "output_type": "execute_result"
    }
   ],
   "source": [
    "#initializing the intial matrix with the paths as 1 which denotes that it is blocked \n",
    "initial_matrix[2][2]=1\n",
    "initial_matrix[2][3]=1\n",
    "initial_matrix[3][2]=1\n",
    "initial_matrix[3][3]=1\n",
    "initial_matrix[1][6]=1\n",
    "initial_matrix[1][7]=1\n",
    "initial_matrix[1][8]=1\n",
    "initial_matrix[2][8]=1\n",
    "initial_matrix[3][8]=1\n",
    "initial_matrix[6][2]=1\n",
    "initial_matrix[6][3]=1\n",
    "initial_matrix[6][4]=1\n",
    "initial_matrix[6][5]=1\n",
    "initial_matrix[6][6]=1\n",
    "initial_matrix[6][7]=1\n",
    "initial_matrix[6][8]=1\n",
    "\n",
    "#printing the initial matrix to see the data \n",
    "print(\"The complete matrix with the blocked path\")\n",
    "initial_matrix=initial_matrix.astype(int)\n",
    "initial_matrix"
   ]
  },
  {
   "cell_type": "code",
   "execution_count": 3,
   "metadata": {
    "collapsed": false
   },
   "outputs": [
    {
     "name": "stdout",
     "output_type": "stream",
     "text": [
      "0 0 0 0 0 0 0 0 0 0 0\n",
      "0 0 0 0 0 0 1 1 1 0 0\n",
      "0 0 1 1 0 0 0 0 1 0 0\n",
      "0 0 1 1 0 0 0 0 1 0 0\n",
      "0 0 0 0 0 0 0 0 0 0 0\n",
      "0 0 0 0 0 0 0 0 0 0 0\n",
      "0 0 1 1 1 1 1 1 1 0 0\n",
      "0 0 0 0 0 0 0 0 0 0 0\n",
      "\n"
     ]
    }
   ],
   "source": [
    "# another way to visualise the matrix without nd-array\n",
    "def print_matrix(matrix):\n",
    "    for line in matrix:\n",
    "        print(*line)\n",
    "    print()\n",
    "\n",
    "initial_matrix_str =initial_matrix.astype(str)\n",
    "print_matrix(initial_matrix_str)"
   ]
  },
  {
   "cell_type": "code",
   "execution_count": 5,
   "metadata": {
    "collapsed": false
   },
   "outputs": [
    {
     "name": "stdout",
     "output_type": "stream",
     "text": [
      "2 5\n"
     ]
    },
    {
     "data": {
      "image/png": "[encoded data removed]",
      "text/plain": [
       "<Figure size 576x720 with 1 Axes>"
      ]
     },
     "metadata": {
      "needs_background": "light"
     },
     "output_type": "display_data"
    }
   ],
   "source": [
    "# start point and goal\n",
    "start = (0,2)\n",
    "goal = (5,10)\n",
    "print(start[1],goal[0])\n",
    " \n",
    "\n",
    "# plot map and path\n",
    "fig, ax = plt.subplots(figsize=(8,10))\n",
    "\n",
    "ax.imshow(initial_matrix, cmap=plt.cm.Blues)\n",
    "ax.scatter(start[1],start[0], marker = \"*\", color = \"green\", s = 100)\n",
    "ax.scatter(goal[1],goal[0], marker = \"*\", color = \"red\", s = 100)\n",
    "plt.show()"
   ]
  },
  {
   "cell_type": "markdown",
   "metadata": {},
   "source": [
    "Define the fringe (data structure) and its supported methods in the following code block"
   ]
  },
  {
   "cell_type": "code",
   "execution_count": 6,
   "metadata": {
    "collapsed": true
   },
   "outputs": [],
   "source": [
    "# defining the heuristic function\n",
    "def heuristic(a, b):\n",
    "    return np.sqrt((b[0] - a[0]) ** 2 + (b[1] - a[1]) ** 2)"
   ]
  },
  {
   "cell_type": "markdown",
   "metadata": {},
   "source": [
    "Define your IDA* in the following code block"
   ]
  },
  {
   "cell_type": "code",
   "execution_count": 7,
   "metadata": {
    "collapsed": true
   },
   "outputs": [],
   "source": [
    "#Algorithm IDA*\n",
    "def astar(array, start, goal):\n",
    "\n",
    "    neighbors = [(-1, 0),(1, 0),(0, 1),(0, -1)]\n",
    "\n",
    "    close_set = set()\n",
    "    came_from = {}\n",
    "    gscore = {start:0}\n",
    "    fscore = {start:heuristic(start, goal)}\n",
    "    oheap = []\n",
    "\n",
    "    heapq.heappush(oheap, (fscore[start], start))\n",
    "    \n",
    "    while oheap:\n",
    "        current = heapq.heappop(oheap)[1]\n",
    "        if current == goal:\n",
    "            data = []\n",
    "            while current in came_from:\n",
    "                data.append(current)\n",
    "                current = came_from[current]\n",
    "            return data\n",
    "\n",
    "        close_set.add(current)\n",
    "        for i, j in neighbors:\n",
    "            neighbor = current[0] + i, current[1] + j    \n",
    "            tentative_g_score = gscore[current] + heuristic(current, neighbor)           \n",
    "            if 0 <= neighbor[0] < array.shape[0]:\n",
    "                if 0 <= neighbor[1] < array.shape[1]:                \n",
    "                    if array[neighbor[0]][neighbor[1]] == 1:\n",
    "                        continue\n",
    "                else:\n",
    "                    # array bound y walls\n",
    "                    continue\n",
    "            else:\n",
    "                # array bound x walls\n",
    "                continue\n",
    "                \n",
    "            if neighbor in close_set and tentative_g_score >= gscore.get(neighbor, 0):\n",
    "                continue\n",
    "                \n",
    "            if  tentative_g_score < gscore.get(neighbor, 0) or neighbor not in [i[1]for i in oheap]:\n",
    "                came_from[neighbor] = current\n",
    "                gscore[neighbor] = tentative_g_score\n",
    "                fscore[neighbor] = tentative_g_score + heuristic(neighbor, goal)\n",
    "                heapq.heappush(oheap, (fscore[neighbor], neighbor)) "
   ]
  },
  {
   "cell_type": "code",
   "execution_count": 12,
   "metadata": {
    "collapsed": true
   },
   "outputs": [],
   "source": [
    "# matrix representation for best first search\n",
    "# converted \n",
    "matrix=initial_matrix_str"
   ]
  },
  {
   "cell_type": "code",
   "execution_count": 15,
   "metadata": {
    "collapsed": false
   },
   "outputs": [
    {
     "name": "stdout",
     "output_type": "stream",
     "text": [
      "8 11\n"
     ]
    }
   ],
   "source": [
    "num_rows = len(matrix)\n",
    "num_cols = len(matrix[0])\n",
    "\n",
    "print(num_rows,num_cols)\n",
    "# defining the goal state\n",
    "goal_state = (5, 10)"
   ]
  },
  {
   "cell_type": "markdown",
   "metadata": {},
   "source": [
    "Define your Greedy Best First Search algorithm in the following code block"
   ]
  },
  {
   "cell_type": "code",
   "execution_count": 20,
   "metadata": {
    "collapsed": true
   },
   "outputs": [],
   "source": [
    "#Algorithm Best First Search\n",
    "def greedy_best_first(current_path):\n",
    "    # anchor\n",
    "    row, col = current_path[-1]\n",
    "    if (row, col) == goal_state:\n",
    "        return True\n",
    "\n",
    "    # try all directions one after the other\n",
    "    for direction in [(row, col + 1), (row, col - 1), (row + 1, col), (row - 1, col)]:\n",
    "        new_row, new_col = direction\n",
    "        if (0 <= new_row < num_rows and 0 <= new_col < num_cols and  # stay in matrix borders\n",
    "                matrix[new_row][new_col] == \"0\" and                  # don't run in walls\n",
    "                (new_row, new_col) not in current_path):             # don't run in circles\n",
    "            # try new direction\n",
    "            current_path.append((new_row, new_col))\n",
    "            if greedy_best_first(current_path):  # recursive call\n",
    "                return True\n",
    "            else:\n",
    "                current_path.pop()  # backtrack"
   ]
  },
  {
   "cell_type": "markdown",
   "metadata": {},
   "source": [
    "Feel free to add code blocks for any other methods needed starting here."
   ]
  },
  {
   "cell_type": "code",
   "execution_count": 25,
   "metadata": {
    "collapsed": true
   },
   "outputs": [],
   "source": [
    "# Code Block 1\n",
    "# Specifying the start node and result will hold the path from the start node \n",
    "result = [(0, 2)]"
   ]
  },
  {
   "cell_type": "markdown",
   "metadata": {},
   "source": [
    "Call your main function/algorithm for IDA* in the next code block with appropriate input representation"
   ]
  },
  {
   "cell_type": "code",
   "execution_count": 8,
   "metadata": {
    "collapsed": false
   },
   "outputs": [],
   "source": [
    "#Computation call for IDA*\n",
    "route = astar(initial_matrix, start, goal)"
   ]
  },
  {
   "cell_type": "markdown",
   "metadata": {},
   "source": [
    "Call your main function/algorithm for Best First Search in the next code block with appropriate input representation"
   ]
  },
  {
   "cell_type": "code",
   "execution_count": 27,
   "metadata": {
    "collapsed": false
   },
   "outputs": [
    {
     "data": {
      "text/plain": [
       "True"
      ]
     },
     "execution_count": 27,
     "metadata": {},
     "output_type": "execute_result"
    }
   ],
   "source": [
    "#Computation call for Best First Search\n",
    "# result a list of coordinates which should be taken in order to reach the goal\n",
    "\n",
    "greedy_best_first(result)"
   ]
  },
  {
   "cell_type": "markdown",
   "metadata": {},
   "source": [
    "The agent should provide expected output for questions mentioned below in the subsequent blocks"
   ]
  },
  {
   "cell_type": "markdown",
   "metadata": {},
   "source": [
    "(1) Path taken to reach destination from source for IDA*"
   ]
  },
  {
   "cell_type": "code",
   "execution_count": 9,
   "metadata": {
    "collapsed": false
   },
   "outputs": [
    {
     "name": "stdout",
     "output_type": "stream",
     "text": [
      "[(0, 2), (0, 3), (0, 4), (0, 5), (0, 6), (0, 7), (0, 8), (0, 9), (1, 9), (2, 9), (3, 9), (4, 9), (4, 10), (5, 10)]\n"
     ]
    }
   ],
   "source": [
    "# Execute statement to retrieve the path taken here using IDA*\n",
    "route = route + [start]\n",
    "route = route[::-1]\n",
    "print(route)"
   ]
  },
  {
   "cell_type": "markdown",
   "metadata": {},
   "source": [
    "(1) Path taken to reach destination from source for Best First Search"
   ]
  },
  {
   "cell_type": "code",
   "execution_count": 31,
   "metadata": {
    "collapsed": false
   },
   "outputs": [
    {
     "name": "stdout",
     "output_type": "stream",
     "text": [
      "The path taken is [(0, 2), (0, 3), (0, 4), (0, 5), (0, 6), (0, 7), (0, 8), (0, 9), (0, 10), (1, 10), (1, 9), (2, 9), (2, 10), (3, 10), (3, 9), (4, 9), (4, 10), (5, 10)]\n"
     ]
    }
   ],
   "source": [
    "# Execute statement to retrieve the path taken here using Best First Search\n",
    "print(\"The path taken is\",result)"
   ]
  },
  {
   "cell_type": "markdown",
   "metadata": {},
   "source": [
    "(2) Cost of the path for IDA* here"
   ]
  },
  {
   "cell_type": "code",
   "execution_count": 35,
   "metadata": {
    "collapsed": false
   },
   "outputs": [
    {
     "name": "stdout",
     "output_type": "stream",
     "text": [
      "The cost of the path here using IDA* is  14\n"
     ]
    }
   ],
   "source": [
    "# Execute statement to retrieve the cost of the path here using IDA*\n",
    "print(\"The cost of the path here using IDA* is \",len(route) )"
   ]
  },
  {
   "cell_type": "markdown",
   "metadata": {},
   "source": [
    "(2) Cost of the path for Best First Search here"
   ]
  },
  {
   "cell_type": "code",
   "execution_count": 36,
   "metadata": {
    "collapsed": false
   },
   "outputs": [
    {
     "name": "stdout",
     "output_type": "stream",
     "text": [
      "The cost of the path here using Best First Search is  18\n"
     ]
    }
   ],
   "source": [
    "# Execute statement to retrieve the cost of the path here using Best First Search\n",
    "print(\"The cost of the path here using Best First Search is \",len(result) )"
   ]
  },
  {
   "cell_type": "markdown",
   "metadata": {},
   "source": [
    "(3) Total Number of nodes expanded to get this state using IDA*"
   ]
  },
  {
   "cell_type": "code",
   "execution_count": 11,
   "metadata": {
    "collapsed": false
   },
   "outputs": [
    {
     "data": {
      "image/png": "[encoded data removed]",
      "text/plain": [
       "<Figure size 576x720 with 1 Axes>"
      ]
     },
     "metadata": {
      "needs_background": "light"
     },
     "output_type": "display_data"
    }
   ],
   "source": [
    "# Execute statement to retrieve the total number of nodes expanded to get this state using IDA* here\n",
    "#extract x and y coordinates from route list\n",
    "x_coords = []\n",
    "y_coords = []\n",
    "\n",
    "for i in (range(0,len(route))):\n",
    "    x = route[i][0]\n",
    "    y = route[i][1]\n",
    "    x_coords.append(x)\n",
    "    y_coords.append(y)\n",
    "\n",
    "# plot map and path\n",
    "fig, ax = plt.subplots(figsize=(8,10))\n",
    "ax.imshow(initial_matrix, cmap=plt.cm.Blues)\n",
    "ax.scatter(start[1],start[0], marker = \"*\", color = \"green\", s = 100)\n",
    "ax.scatter(goal[1],goal[0], marker = \"*\", color = \"red\", s = 100)\n",
    "ax.plot(y_coords,x_coords, color = \"black\")\n",
    "plt.show()"
   ]
  },
  {
   "cell_type": "markdown",
   "metadata": {},
   "source": [
    "(3) Total Number of nodes expanded to get this state using Best First Search"
   ]
  },
  {
   "cell_type": "code",
   "execution_count": 37,
   "metadata": {
    "collapsed": false
   },
   "outputs": [
    {
     "name": "stdout",
     "output_type": "stream",
     "text": [
      "Total number of nodes expanded to get this state using Best First Search 18\n"
     ]
    }
   ],
   "source": [
    "# Execute statement to retrieve the total number of nodes expanded to get this state using Best First Search here\n",
    "print(\"Total number of nodes expanded to get this state using Best First Search\",len(result) )"
   ]
  },
  {
   "cell_type": "code",
   "execution_count": 33,
   "metadata": {
    "collapsed": false
   },
   "outputs": [
    {
     "data": {
      "image/png": "[encoded data removed]",
      "text/plain": [
       "<Figure size 576x720 with 1 Axes>"
      ]
     },
     "metadata": {
      "needs_background": "light"
     },
     "output_type": "display_data"
    }
   ],
   "source": [
    "x_coords = []\n",
    "y_coords = []\n",
    "\n",
    "for i in (range(0,len(result))):\n",
    "    x = result[i][0]\n",
    "    y = result[i][1]\n",
    "    x_coords.append(x)\n",
    "    y_coords.append(y)\n",
    "\n",
    "# plot map and path\n",
    "fig, ax = plt.subplots(figsize=(8,10))\n",
    "ax.imshow(initial_matrix, cmap=plt.cm.Blues)\n",
    "ax.scatter(start[1],start[0], marker = \"*\", color = \"green\", s = 100)\n",
    "ax.scatter(goal[1],goal[0], marker = \"*\", color = \"red\", s = 100)\n",
    "ax.plot(y_coords,x_coords, color = \"black\")\n",
    "plt.show()"
   ]
  },
  {
   "cell_type": "markdown",
   "metadata": {},
   "source": [
    "(4) Maximum number of nodes kept at the memory at any point in time using IDA*"
   ]
  },
  {
   "cell_type": "code",
   "execution_count": 1,
   "metadata": {
    "collapsed": false
   },
   "outputs": [
    {
     "name": "stdout",
     "output_type": "stream",
     "text": [
      "The maximum number of nodes kept at the memory at any point in time using IDA* here 2\n"
     ]
    }
   ],
   "source": [
    "# Execute Output for the maximum number of nodes kept at the memory at any point in time using IDA* here\n",
    "# while executing IDA* it explores its neighbors and calculates its euclidean distance  .\n",
    "# for i, j in neighbors -> this part of the code does it \n",
    "print(\"The maximum number of nodes kept at the memory at any point in time using IDA* here\",2 )"
   ]
  },
  {
   "cell_type": "markdown",
   "metadata": {},
   "source": [
    "(4) Maximum number of nodes kept at the memory at any point in time using Best First Search"
   ]
  },
  {
   "cell_type": "code",
   "execution_count": 2,
   "metadata": {
    "collapsed": false
   },
   "outputs": [
    {
     "name": "stdout",
     "output_type": "stream",
     "text": [
      "The maximum number of nodes kept at the memory at any point in time using Best First Search   4\n"
     ]
    }
   ],
   "source": [
    "# Execute Output for the maximum number of nodes kept at the memory at any point in time using Best First Search here\n",
    "# while executing BFS it explores its neighbors which are 4 directions of node .\n",
    "# for direction in [(row, col + 1), (row, col - 1), (row + 1, col), (row - 1, col)] -> we keep this in memory \n",
    "print(\"The maximum number of nodes kept at the memory at any point in time using Best First Search  \",4 )"
   ]
  },
  {
   "cell_type": "markdown",
   "metadata": {},
   "source": [
    "All the best!! Happy Coding!!\n",
    "Let human intelligence prevail"
   ]
  }
 ],
 "metadata": {
  "anaconda-cloud": {},
  "kernelspec": {
   "display_name": "Python 3",
   "language": "python",
   "name": "python3"
  },
  "language_info": {
   "codemirror_mode": {
    "name": "ipython",
    "version": 3
   },
   "file_extension": ".py",
   "mimetype": "text/x-python",
   "name": "python",
   "nbconvert_exporter": "python",
   "pygments_lexer": "ipython3",
   "version": "3.7.3"
  }
 },
 "nbformat": 4,
 "nbformat_minor": 2
}
