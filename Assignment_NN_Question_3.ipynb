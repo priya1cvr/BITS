{
 "cells": [
  {
   "cell_type": "markdown",
   "metadata": {},
   "source": [
    "# Question 3\n",
    "\n",
    "Write Python code to build a neural network with the following details. \n",
    "\n",
    "    - Input data = Iris dataset\n",
    "    - Number of hidden layers = 1\n",
    "    - Number of units in hidden layer = 5,10,15,20,25\n",
    "    - Number of iterations = 5000\n",
    "    - Learning rate = 0.0001\n",
    "    - Learning algorithm = stochastic gradient descent\n",
    "    - Activation = logistic \n",
    "\n",
    "1. Compare the training score for various hidden units. \n",
    "2. Plot the loss curve for various hidden units. \n",
    "3. Report execution time for various hidden units as a bar graph. (Use library time and time() method) \n"
   ]
  },
  {
   "cell_type": "markdown",
   "metadata": {},
   "source": [
    "## Expectations\n",
    "\n",
    "1. Expected output: (approximately)\n",
    "    - Training accuracy 5 is xx.xxx \n",
    "    - Training accuracy 10 is xx.xxx \n",
    "    - Training accuracy 15 is xx.xxx \n",
    "    - Training accuracy 20 is xx.xxx \n",
    "    - Training accuracy 25 is xx.xxx\n",
    "\n",
    "2. Graph: Training Loss (Actual output may vary)\n",
    "![title](images/op-hidden.png)\n",
    "\n",
    "3. Bar graph: Execution Time (Actual output may vary)\n",
    "![title](images/time-hidden.png)\n",
    "\n",
    "You are expected to modify this notebook and upload the modified file as assignment submission.\n",
    "\n",
    "<b> PS: Code written within the block will be evaluted. Other code will be ignored.\n",
    "#### start code here\n",
    "#### end code here"
   ]
  },
  {
   "cell_type": "code",
   "execution_count": 1,
   "metadata": {
    "collapsed": true
   },
   "outputs": [],
   "source": [
    "from sklearn import datasets  \n",
    "import numpy as np\n",
    "import matplotlib.pyplot as plt \n",
    "\n",
    "from sklearn.preprocessing import StandardScaler\n",
    "from sklearn.model_selection import train_test_split\n",
    "\n",
    "from sklearn.metrics import accuracy_score, classification_report, confusion_matrix\n",
    "\n",
    "# Load Iris dataset.\n",
    "\n",
    "iris = datasets.load_iris()\n",
    "\n",
    "# Extract all columns except last from the dataset for X values.\n",
    "# y is the target column.\n",
    "\n",
    "X = iris[\"data\"][:,:-1]  \n",
    "y = iris[\"target\"]\n",
    "\n",
    "# Split data into train and test\n",
    "\n",
    "(X_train, X_test, y_train, y_test) = train_test_split(X, y, stratify=y, test_size= 0.3)\n",
    "\n",
    "# normalise the data\n",
    "scaler = StandardScaler()\n",
    "scaler.fit(X_train)\n",
    "\n",
    "X_train = scaler.transform(X_train)\n",
    "X_test = scaler.transform(X_test)"
   ]
  },
  {
   "cell_type": "code",
   "execution_count": 65,
   "metadata": {
    "collapsed": false
   },
   "outputs": [],
   "source": [
    "# Use the library function sklearn.neural_network.MLPClassifier \n",
    "from sklearn.neural_network import MLPClassifier\n",
    "# Build neural network for various hidden units. (max 10 lines of code) Use loop.\n",
    "\n",
    "# start code here\n",
    "def mlpClassifier(hidden_units):\n",
    "    mlp = MLPClassifier(hidden_layer_sizes=(hidden_units), max_iter=5000, activation='logistic',\n",
    "                solver='sgd',  random_state=1,\n",
    "                learning_rate_init=0.0001)\n",
    "    return mlp\n",
    "\n",
    "for hidden_units in [5,10,15,20,25]:\n",
    "    mlp=mlpClassifier(hidden_units)\n",
    "    mlp.fit(X_train, y_train)\n",
    "\n",
    "# end code here"
   ]
  },
  {
   "cell_type": "code",
   "execution_count": 66,
   "metadata": {
    "collapsed": false
   },
   "outputs": [
    {
     "name": "stdout",
     "output_type": "stream",
     "text": [
      "Training accuracy 5 0.3523809523809524\n",
      "Training accuracy 10 0.3333333333333333\n",
      "Training accuracy 15 0.26666666666666666\n",
      "Training accuracy 20 0.3333333333333333\n",
      "Training accuracy 25 0.37142857142857144\n"
     ]
    }
   ],
   "source": [
    "# Compare the training  score for various hidden units. (max 2 lines of code) Use loop.\n",
    "\n",
    "# start code here\n",
    "for hidden_units in [5,10,15,20,25]:\n",
    "    mlp=mlpClassifier(hidden_units)\n",
    "    mlp.fit(X_train, y_train)\n",
    "    print(\"Training accuracy\", hidden_units ,(mlp.score(X_train, y_train)))\n",
    "# end code here"
   ]
  },
  {
   "cell_type": "code",
   "execution_count": 18,
   "metadata": {
    "collapsed": false
   },
   "outputs": [
    {
     "data": {
      "text/plain": [
       "array([1, 1, 1, 0, 2, 2, 2, 1, 2, 1, 1, 2, 1, 0, 2, 0, 0, 0, 0, 1, 2, 2,\n",
       "       0, 2, 0, 1, 2, 0, 1, 0, 1, 2, 1, 2, 0, 2, 2, 1, 1, 2, 2, 0, 0, 0,\n",
       "       2])"
      ]
     },
     "execution_count": 18,
     "metadata": {},
     "output_type": "execute_result"
    }
   ],
   "source": [
    "predictions = mlp.predict(X_test)\n",
    "predictions"
   ]
  },
  {
   "cell_type": "code",
   "execution_count": 75,
   "metadata": {
    "collapsed": false
   },
   "outputs": [
    {
     "name": "stdout",
     "output_type": "stream",
     "text": [
      "Loss Curve for 5 1.0801086315149635\n",
      "Loss Curve for 10 1.1010979261911016\n",
      "Loss Curve for 15 1.1322874830498\n",
      "Loss Curve for 20 1.1105725351964164\n",
      "Loss Curve for 25 1.0893338999212545\n"
     ]
    },
    {
     "data": {
      "image/png": "[encoded data removed]",
      "text/plain": [
       "<Figure size 432x288 with 1 Axes>"
      ]
     },
     "metadata": {
      "needs_background": "light"
     },
     "output_type": "display_data"
    }
   ],
   "source": [
    "# Plot the loss curve for various hidden units. (max 5 lines of code) Use loop.\n",
    "\n",
    "# start code here\n",
    "for hidden_units in [5,10,15,20,25]:\n",
    "    mlp=mlpClassifier(hidden_units)\n",
    "    mlp.fit(X_train, y_train)\n",
    "    print(\"Loss Curve for\", hidden_units ,(mlp.loss_))\n",
    "    \n",
    "    plt.scatter(hidden_units, mlp.loss_,  alpha=1)\n",
    "    plt.title('Scatter plot Loss Curve')\n",
    "    plt.xlabel('Hidden units')\n",
    "    plt.ylabel('Loss Curve')\n",
    "# end code here"
   ]
  },
  {
   "cell_type": "code",
   "execution_count": 81,
   "metadata": {
    "collapsed": false
   },
   "outputs": [
    {
     "name": "stdout",
     "output_type": "stream",
     "text": [
      "Time for  5 0.03125715255737305 seconds \n",
      "Time for  10 0.3954620361328125 seconds \n",
      "Time for  15 0.017781972885131836 seconds \n",
      "Time for  20 0.286182165145874 seconds \n",
      "Time for  25 0.4688720703125 seconds \n"
     ]
    },
    {
     "data": {
      "image/png": "[encoded data removed]",
      "text/plain": [
       "<Figure size 432x288 with 1 Axes>"
      ]
     },
     "metadata": {
      "needs_background": "light"
     },
     "output_type": "display_data"
    }
   ],
   "source": [
    "# Plot the execution time as bar graph. (max 5 lines of code)\n",
    "\n",
    "# start code here\n",
    "import time\n",
    "\n",
    "for hidden_units in [5,10,15,20,25]:\n",
    "    start_time = time.time()\n",
    "    mlp=mlpClassifier(hidden_units)\n",
    "    mlp.fit(X_train, y_train)\n",
    "    y=time.time() - start_time\n",
    "    print(\"Time for \",hidden_units,\"%s seconds \" % (time.time() - start_time))\n",
    "    plt.bar(hidden_units, y )\n",
    "    plt.title('Scatter plot Execution Time ')\n",
    "    plt.xlabel('Hidden units')\n",
    "    plt.ylabel('Execution Time ')\n",
    "# end code here"
   ]
  },
  {
   "cell_type": "code",
   "execution_count": null,
   "metadata": {
    "collapsed": true
   },
   "outputs": [],
   "source": []
  }
 ],
 "metadata": {
  "anaconda-cloud": {},
  "kernelspec": {
   "display_name": "Python 3",
   "language": "python",
   "name": "python3"
  },
  "language_info": {
   "codemirror_mode": {
    "name": "ipython",
    "version": 3
   },
   "file_extension": ".py",
   "mimetype": "text/x-python",
   "name": "python",
   "nbconvert_exporter": "python",
   "pygments_lexer": "ipython3",
   "version": "3.7.3"
  }
 },
 "nbformat": 4,
 "nbformat_minor": 2
}
