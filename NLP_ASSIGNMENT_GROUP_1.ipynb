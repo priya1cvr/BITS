{
 "cells": [
  {
   "cell_type": "markdown",
   "metadata": {},
   "source": [
    "## Table of Content\n",
    "\n",
    "1. [Data Description](#section1)<br>\n",
    "2. [Data Loading](#section2)<br>    \n",
    "3. [Remove Punctuation and StopWords from Text](#section3)<br>\n",
    "4. [Train Model](#section4)<br>\n",
    "    - 4.1 [Train Test Split](#section401)<br>\n",
    "    - 4.2 [Create CountVectorizer Object](#section402)<br>\n",
    "    - 4.3 [Train MultiNomialNB Model](#section403)<br>\n",
    "    - 4.4 [Display Confusion Matrix](#section404)<br>\n",
    "5. [Display HMM POS Tagging](#section5)<br>\n",
    "6. [Use Viterbi Parser](#section6)<br>\n"
   ]
  },
  {
   "cell_type": "code",
   "execution_count": null,
   "metadata": {
    "collapsed": true
   },
   "outputs": [],
   "source": []
  },
  {
   "cell_type": "code",
   "execution_count": 1,
   "metadata": {
    "collapsed": true
   },
   "outputs": [],
   "source": [
    "## Organizing Imports\n",
    "import pandas as pd\n",
    "import string\n",
    "from nltk.tokenize import RegexpTokenizer\n",
    "from nltk.corpus import stopwords\n",
    "import re\n",
    "from nltk.tokenize import word_tokenize\n",
    "from sklearn.naive_bayes import MultinomialNB\n",
    "from sklearn.feature_extraction.text import CountVectorizer\n",
    "from sklearn.feature_extraction.text import TfidfVectorizer\n",
    "from sklearn.pipeline import Pipeline\n",
    "from sklearn.metrics import confusion_matrix, classification_report \n",
    "import spacy\n",
    "pd.set_option('display.max_colwidth', -1)"
   ]
  },
  {
   "cell_type": "markdown",
   "metadata": {},
   "source": [
    "## 1. Data Description\n",
    "\n",
    "- Each observation in this dataset is a review of a particular business by a particular user. \n",
    "- The \"stars\" column is the number of stars (1 through 5) assigned by the reviewer to the business. \n",
    "- (Higher stars is better.) \n",
    "- In other words, it is the rating of the business by the person who wrote the review."
   ]
  },
  {
   "cell_type": "markdown",
   "metadata": {},
   "source": [
    "## 2. Data Loading \n",
    "- Read the yelp.csv file and set it as a Dataframe called yelp. \n",
    "- Check the head, info, and describe methods on yelp  "
   ]
  },
  {
   "cell_type": "code",
   "execution_count": 2,
   "metadata": {
    "collapsed": true
   },
   "outputs": [],
   "source": [
    "yelp=pd.read_csv('yelp.csv')"
   ]
  },
  {
   "cell_type": "code",
   "execution_count": 3,
   "metadata": {
    "collapsed": false
   },
   "outputs": [
    {
     "data": {
      "text/html": [
       "<div>\n",
       "<style scoped>\n",
       "    .dataframe tbody tr th:only-of-type {\n",
       "        vertical-align: middle;\n",
       "    }\n",
       "\n",
       "    .dataframe tbody tr th {\n",
       "        vertical-align: top;\n",
       "    }\n",
       "\n",
       "    .dataframe thead th {\n",
       "        text-align: right;\n",
       "    }\n",
       "</style>\n",
       "<table border=\"1\" class=\"dataframe\">\n",
       "  <thead>\n",
       "    <tr style=\"text-align: right;\">\n",
       "      <th></th>\n",
       "      <th>business_id</th>\n",
       "      <th>date</th>\n",
       "      <th>review_id</th>\n",
       "      <th>stars</th>\n",
       "      <th>text</th>\n",
       "      <th>type</th>\n",
       "      <th>user_id</th>\n",
       "      <th>cool</th>\n",
       "      <th>useful</th>\n",
       "      <th>funny</th>\n",
       "    </tr>\n",
       "  </thead>\n",
       "  <tbody>\n",
       "    <tr>\n",
       "      <th>0</th>\n",
       "      <td>9yKzy9PApeiPPOUJEtnvkg</td>\n",
       "      <td>2011-01-26</td>\n",
       "      <td>fWKvX83p0-ka4JS3dc6E5A</td>\n",
       "      <td>5</td>\n",
       "      <td>My wife took me here on my birthday for breakfast and it was excellent.  The weather was perfect which made sitting outside overlooking their grounds an absolute pleasure.  Our waitress was excellent and our food arrived quickly on the semi-busy Saturday morning.  It looked like the place fills up pretty quickly so the earlier you get here the better.\\n\\nDo yourself a favor and get their Bloody Mary.  It was phenomenal and simply the best I've ever had.  I'm pretty sure they only use ingredients from their garden and blend them fresh when you order it.  It was amazing.\\n\\nWhile EVERYTHING on the menu looks excellent, I had the white truffle scrambled eggs vegetable skillet and it was tasty and delicious.  It came with 2 pieces of their griddled bread with was amazing and it absolutely made the meal complete.  It was the best \"toast\" I've ever had.\\n\\nAnyway, I can't wait to go back!</td>\n",
       "      <td>review</td>\n",
       "      <td>rLtl8ZkDX5vH5nAx9C3q5Q</td>\n",
       "      <td>2</td>\n",
       "      <td>5</td>\n",
       "      <td>0</td>\n",
       "    </tr>\n",
       "    <tr>\n",
       "      <th>1</th>\n",
       "      <td>ZRJwVLyzEJq1VAihDhYiow</td>\n",
       "      <td>2011-07-27</td>\n",
       "      <td>IjZ33sJrzXqU-0X6U8NwyA</td>\n",
       "      <td>5</td>\n",
       "      <td>I have no idea why some people give bad reviews about this place. It goes to show you, you can please everyone. They are probably griping about something that their own fault...there are many people like that.\\n\\nIn any case, my friend and I arrived at about 5:50 PM this past Sunday. It was pretty crowded, more than I thought for a Sunday evening and thought we would have to wait forever to get a seat but they said we'll be seated when the girl comes back from seating someone else. We were seated at 5:52 and the waiter came and got our drink orders. Everyone was very pleasant from the host that seated us to the waiter to the server. The prices were very good as well. We placed our orders once we decided what we wanted at 6:02. We shared the baked spaghetti calzone and the small \"Here's The Beef\" pizza so we can both try them. The calzone was huge and we got the smallest one (personal) and got the small 11\" pizza. Both were awesome! My friend liked the pizza better and I liked the calzone better. The calzone does have a sweetish sauce but that's how I like my sauce!\\n\\nWe had to box part of the pizza to take it home and we were out the door by 6:42. So, everything was great and not like these bad reviewers. That goes to show you that  you have to try these things yourself because all these bad reviewers have some serious issues.</td>\n",
       "      <td>review</td>\n",
       "      <td>0a2KyEL0d3Yb1V6aivbIuQ</td>\n",
       "      <td>0</td>\n",
       "      <td>0</td>\n",
       "      <td>0</td>\n",
       "    </tr>\n",
       "    <tr>\n",
       "      <th>2</th>\n",
       "      <td>6oRAC4uyJCsJl1X0WZpVSA</td>\n",
       "      <td>2012-06-14</td>\n",
       "      <td>IESLBzqUCLdSzSqm0eCSxQ</td>\n",
       "      <td>4</td>\n",
       "      <td>love the gyro plate. Rice is so good and I also dig their candy selection :)</td>\n",
       "      <td>review</td>\n",
       "      <td>0hT2KtfLiobPvh6cDC8JQg</td>\n",
       "      <td>0</td>\n",
       "      <td>1</td>\n",
       "      <td>0</td>\n",
       "    </tr>\n",
       "    <tr>\n",
       "      <th>3</th>\n",
       "      <td>_1QQZuf4zZOyFCvXc0o6Vg</td>\n",
       "      <td>2010-05-27</td>\n",
       "      <td>G-WvGaISbqqaMHlNnByodA</td>\n",
       "      <td>5</td>\n",
       "      <td>Rosie, Dakota, and I LOVE Chaparral Dog Park!!! It's very convenient and surrounded by a lot of paths, a desert xeriscape, baseball fields, ballparks, and a lake with ducks.\\n\\nThe Scottsdale Park and Rec Dept. does a wonderful job of keeping the park clean and shaded.  You can find trash cans and poopy-pick up mitts located all over the park and paths.\\n\\nThe fenced in area is huge to let the dogs run, play, and sniff!</td>\n",
       "      <td>review</td>\n",
       "      <td>uZetl9T0NcROGOyFfughhg</td>\n",
       "      <td>1</td>\n",
       "      <td>2</td>\n",
       "      <td>0</td>\n",
       "    </tr>\n",
       "    <tr>\n",
       "      <th>4</th>\n",
       "      <td>6ozycU1RpktNG2-1BroVtw</td>\n",
       "      <td>2012-01-05</td>\n",
       "      <td>1uJFq2r5QfJG_6ExMRCaGw</td>\n",
       "      <td>5</td>\n",
       "      <td>General Manager Scott Petello is a good egg!!! Not to go into detail, but let me assure you if you have any issues (albeit rare) speak with Scott and treat the guy with some respect as you state your case and I'd be surprised if you don't walk out totally satisfied as I just did. Like I always say..... \"Mistakes are inevitable, it's how we recover from them that is important\"!!!\\n\\nThanks to Scott and his awesome staff. You've got a customer for life!! .......... :^)</td>\n",
       "      <td>review</td>\n",
       "      <td>vYmM4KTsC8ZfQBg-j5MWkw</td>\n",
       "      <td>0</td>\n",
       "      <td>0</td>\n",
       "      <td>0</td>\n",
       "    </tr>\n",
       "  </tbody>\n",
       "</table>\n",
       "</div>"
      ],
      "text/plain": [
       "              business_id        date               review_id  stars  \\\n",
       "0  9yKzy9PApeiPPOUJEtnvkg  2011-01-26  fWKvX83p0-ka4JS3dc6E5A  5       \n",
       "1  ZRJwVLyzEJq1VAihDhYiow  2011-07-27  IjZ33sJrzXqU-0X6U8NwyA  5       \n",
       "2  6oRAC4uyJCsJl1X0WZpVSA  2012-06-14  IESLBzqUCLdSzSqm0eCSxQ  4       \n",
       "3  _1QQZuf4zZOyFCvXc0o6Vg  2010-05-27  G-WvGaISbqqaMHlNnByodA  5       \n",
       "4  6ozycU1RpktNG2-1BroVtw  2012-01-05  1uJFq2r5QfJG_6ExMRCaGw  5       \n",
       "\n",
       "                                                                                                                                                                                                                                                                                                                                                                                                                                                                                                                                                                                                                                                                                                                                                                                                                                                                                                                                                                                                                                                                                                                                                                                                                                                                                                                                                                                                    text  \\\n",
       "0  My wife took me here on my birthday for breakfast and it was excellent.  The weather was perfect which made sitting outside overlooking their grounds an absolute pleasure.  Our waitress was excellent and our food arrived quickly on the semi-busy Saturday morning.  It looked like the place fills up pretty quickly so the earlier you get here the better.\\n\\nDo yourself a favor and get their Bloody Mary.  It was phenomenal and simply the best I've ever had.  I'm pretty sure they only use ingredients from their garden and blend them fresh when you order it.  It was amazing.\\n\\nWhile EVERYTHING on the menu looks excellent, I had the white truffle scrambled eggs vegetable skillet and it was tasty and delicious.  It came with 2 pieces of their griddled bread with was amazing and it absolutely made the meal complete.  It was the best \"toast\" I've ever had.\\n\\nAnyway, I can't wait to go back!                                                                                                                                                                                                                                                                                                                                                                                                                                                                         \n",
       "1  I have no idea why some people give bad reviews about this place. It goes to show you, you can please everyone. They are probably griping about something that their own fault...there are many people like that.\\n\\nIn any case, my friend and I arrived at about 5:50 PM this past Sunday. It was pretty crowded, more than I thought for a Sunday evening and thought we would have to wait forever to get a seat but they said we'll be seated when the girl comes back from seating someone else. We were seated at 5:52 and the waiter came and got our drink orders. Everyone was very pleasant from the host that seated us to the waiter to the server. The prices were very good as well. We placed our orders once we decided what we wanted at 6:02. We shared the baked spaghetti calzone and the small \"Here's The Beef\" pizza so we can both try them. The calzone was huge and we got the smallest one (personal) and got the small 11\" pizza. Both were awesome! My friend liked the pizza better and I liked the calzone better. The calzone does have a sweetish sauce but that's how I like my sauce!\\n\\nWe had to box part of the pizza to take it home and we were out the door by 6:42. So, everything was great and not like these bad reviewers. That goes to show you that  you have to try these things yourself because all these bad reviewers have some serious issues.   \n",
       "2  love the gyro plate. Rice is so good and I also dig their candy selection :)                                                                                                                                                                                                                                                                                                                                                                                                                                                                                                                                                                                                                                                                                                                                                                                                                                                                                                                                                                                                                                                                                                                                                                                                                                                                                                                            \n",
       "3  Rosie, Dakota, and I LOVE Chaparral Dog Park!!! It's very convenient and surrounded by a lot of paths, a desert xeriscape, baseball fields, ballparks, and a lake with ducks.\\n\\nThe Scottsdale Park and Rec Dept. does a wonderful job of keeping the park clean and shaded.  You can find trash cans and poopy-pick up mitts located all over the park and paths.\\n\\nThe fenced in area is huge to let the dogs run, play, and sniff!                                                                                                                                                                                                                                                                                                                                                                                                                                                                                                                                                                                                                                                                                                                                                                                                                                                                                                                                                                 \n",
       "4  General Manager Scott Petello is a good egg!!! Not to go into detail, but let me assure you if you have any issues (albeit rare) speak with Scott and treat the guy with some respect as you state your case and I'd be surprised if you don't walk out totally satisfied as I just did. Like I always say..... \"Mistakes are inevitable, it's how we recover from them that is important\"!!!\\n\\nThanks to Scott and his awesome staff. You've got a customer for life!! .......... :^)                                                                                                                                                                                                                                                                                                                                                                                                                                                                                                                                                                                                                                                                                                                                                                                                                                                                                                                 \n",
       "\n",
       "     type                 user_id  cool  useful  funny  \n",
       "0  review  rLtl8ZkDX5vH5nAx9C3q5Q  2     5       0      \n",
       "1  review  0a2KyEL0d3Yb1V6aivbIuQ  0     0       0      \n",
       "2  review  0hT2KtfLiobPvh6cDC8JQg  0     1       0      \n",
       "3  review  uZetl9T0NcROGOyFfughhg  1     2       0      \n",
       "4  review  vYmM4KTsC8ZfQBg-j5MWkw  0     0       0      "
      ]
     },
     "execution_count": 3,
     "metadata": {},
     "output_type": "execute_result"
    }
   ],
   "source": [
    "yelp.head()"
   ]
  },
  {
   "cell_type": "code",
   "execution_count": 4,
   "metadata": {
    "collapsed": false
   },
   "outputs": [
    {
     "data": {
      "text/plain": [
       "(10000, 10)"
      ]
     },
     "execution_count": 4,
     "metadata": {},
     "output_type": "execute_result"
    }
   ],
   "source": [
    "yelp.shape"
   ]
  },
  {
   "cell_type": "code",
   "execution_count": 5,
   "metadata": {
    "collapsed": false
   },
   "outputs": [
    {
     "name": "stdout",
     "output_type": "stream",
     "text": [
      "<class 'pandas.core.frame.DataFrame'>\n",
      "RangeIndex: 10000 entries, 0 to 9999\n",
      "Data columns (total 10 columns):\n",
      "business_id    10000 non-null object\n",
      "date           10000 non-null object\n",
      "review_id      10000 non-null object\n",
      "stars          10000 non-null int64\n",
      "text           10000 non-null object\n",
      "type           10000 non-null object\n",
      "user_id        10000 non-null object\n",
      "cool           10000 non-null int64\n",
      "useful         10000 non-null int64\n",
      "funny          10000 non-null int64\n",
      "dtypes: int64(4), object(6)\n",
      "memory usage: 781.3+ KB\n"
     ]
    }
   ],
   "source": [
    "yelp.info()"
   ]
  },
  {
   "cell_type": "code",
   "execution_count": 6,
   "metadata": {
    "collapsed": false
   },
   "outputs": [
    {
     "data": {
      "text/html": [
       "<div>\n",
       "<style scoped>\n",
       "    .dataframe tbody tr th:only-of-type {\n",
       "        vertical-align: middle;\n",
       "    }\n",
       "\n",
       "    .dataframe tbody tr th {\n",
       "        vertical-align: top;\n",
       "    }\n",
       "\n",
       "    .dataframe thead th {\n",
       "        text-align: right;\n",
       "    }\n",
       "</style>\n",
       "<table border=\"1\" class=\"dataframe\">\n",
       "  <thead>\n",
       "    <tr style=\"text-align: right;\">\n",
       "      <th></th>\n",
       "      <th>stars</th>\n",
       "      <th>cool</th>\n",
       "      <th>useful</th>\n",
       "      <th>funny</th>\n",
       "    </tr>\n",
       "  </thead>\n",
       "  <tbody>\n",
       "    <tr>\n",
       "      <th>count</th>\n",
       "      <td>10000.000000</td>\n",
       "      <td>10000.000000</td>\n",
       "      <td>10000.000000</td>\n",
       "      <td>10000.000000</td>\n",
       "    </tr>\n",
       "    <tr>\n",
       "      <th>mean</th>\n",
       "      <td>3.777500</td>\n",
       "      <td>0.876800</td>\n",
       "      <td>1.409300</td>\n",
       "      <td>0.701300</td>\n",
       "    </tr>\n",
       "    <tr>\n",
       "      <th>std</th>\n",
       "      <td>1.214636</td>\n",
       "      <td>2.067861</td>\n",
       "      <td>2.336647</td>\n",
       "      <td>1.907942</td>\n",
       "    </tr>\n",
       "    <tr>\n",
       "      <th>min</th>\n",
       "      <td>1.000000</td>\n",
       "      <td>0.000000</td>\n",
       "      <td>0.000000</td>\n",
       "      <td>0.000000</td>\n",
       "    </tr>\n",
       "    <tr>\n",
       "      <th>25%</th>\n",
       "      <td>3.000000</td>\n",
       "      <td>0.000000</td>\n",
       "      <td>0.000000</td>\n",
       "      <td>0.000000</td>\n",
       "    </tr>\n",
       "    <tr>\n",
       "      <th>50%</th>\n",
       "      <td>4.000000</td>\n",
       "      <td>0.000000</td>\n",
       "      <td>1.000000</td>\n",
       "      <td>0.000000</td>\n",
       "    </tr>\n",
       "    <tr>\n",
       "      <th>75%</th>\n",
       "      <td>5.000000</td>\n",
       "      <td>1.000000</td>\n",
       "      <td>2.000000</td>\n",
       "      <td>1.000000</td>\n",
       "    </tr>\n",
       "    <tr>\n",
       "      <th>max</th>\n",
       "      <td>5.000000</td>\n",
       "      <td>77.000000</td>\n",
       "      <td>76.000000</td>\n",
       "      <td>57.000000</td>\n",
       "    </tr>\n",
       "  </tbody>\n",
       "</table>\n",
       "</div>"
      ],
      "text/plain": [
       "              stars          cool        useful         funny\n",
       "count  10000.000000  10000.000000  10000.000000  10000.000000\n",
       "mean   3.777500      0.876800      1.409300      0.701300    \n",
       "std    1.214636      2.067861      2.336647      1.907942    \n",
       "min    1.000000      0.000000      0.000000      0.000000    \n",
       "25%    3.000000      0.000000      0.000000      0.000000    \n",
       "50%    4.000000      0.000000      1.000000      0.000000    \n",
       "75%    5.000000      1.000000      2.000000      1.000000    \n",
       "max    5.000000      77.000000     76.000000     57.000000   "
      ]
     },
     "execution_count": 6,
     "metadata": {},
     "output_type": "execute_result"
    }
   ],
   "source": [
    "yelp.describe()"
   ]
  },
  {
   "cell_type": "markdown",
   "metadata": {},
   "source": [
    "### There are 10,000 observations in the dataset with 10 columns"
   ]
  },
  {
   "cell_type": "markdown",
   "metadata": {},
   "source": [
    "## 3. Remove Punctuation and StopWords from Text\n",
    "- Remove punctuations and stopwords from the text in ‘text’ column"
   ]
  },
  {
   "cell_type": "code",
   "execution_count": 7,
   "metadata": {
    "collapsed": true
   },
   "outputs": [],
   "source": [
    "## Data Before removing punctuations and StopWords from text column"
   ]
  },
  {
   "cell_type": "code",
   "execution_count": 8,
   "metadata": {
    "collapsed": false
   },
   "outputs": [
    {
     "data": {
      "text/html": [
       "<div>\n",
       "<style scoped>\n",
       "    .dataframe tbody tr th:only-of-type {\n",
       "        vertical-align: middle;\n",
       "    }\n",
       "\n",
       "    .dataframe tbody tr th {\n",
       "        vertical-align: top;\n",
       "    }\n",
       "\n",
       "    .dataframe thead th {\n",
       "        text-align: right;\n",
       "    }\n",
       "</style>\n",
       "<table border=\"1\" class=\"dataframe\">\n",
       "  <thead>\n",
       "    <tr style=\"text-align: right;\">\n",
       "      <th></th>\n",
       "      <th>text</th>\n",
       "      <th>user_id</th>\n",
       "    </tr>\n",
       "  </thead>\n",
       "  <tbody>\n",
       "    <tr>\n",
       "      <th>0</th>\n",
       "      <td>My wife took me here on my birthday for breakfast and it was excellent.  The weather was perfect which made sitting outside overlooking their grounds an absolute pleasure.  Our waitress was excellent and our food arrived quickly on the semi-busy Saturday morning.  It looked like the place fills up pretty quickly so the earlier you get here the better.\\n\\nDo yourself a favor and get their Bloody Mary.  It was phenomenal and simply the best I've ever had.  I'm pretty sure they only use ingredients from their garden and blend them fresh when you order it.  It was amazing.\\n\\nWhile EVERYTHING on the menu looks excellent, I had the white truffle scrambled eggs vegetable skillet and it was tasty and delicious.  It came with 2 pieces of their griddled bread with was amazing and it absolutely made the meal complete.  It was the best \"toast\" I've ever had.\\n\\nAnyway, I can't wait to go back!</td>\n",
       "      <td>rLtl8ZkDX5vH5nAx9C3q5Q</td>\n",
       "    </tr>\n",
       "    <tr>\n",
       "      <th>1</th>\n",
       "      <td>I have no idea why some people give bad reviews about this place. It goes to show you, you can please everyone. They are probably griping about something that their own fault...there are many people like that.\\n\\nIn any case, my friend and I arrived at about 5:50 PM this past Sunday. It was pretty crowded, more than I thought for a Sunday evening and thought we would have to wait forever to get a seat but they said we'll be seated when the girl comes back from seating someone else. We were seated at 5:52 and the waiter came and got our drink orders. Everyone was very pleasant from the host that seated us to the waiter to the server. The prices were very good as well. We placed our orders once we decided what we wanted at 6:02. We shared the baked spaghetti calzone and the small \"Here's The Beef\" pizza so we can both try them. The calzone was huge and we got the smallest one (personal) and got the small 11\" pizza. Both were awesome! My friend liked the pizza better and I liked the calzone better. The calzone does have a sweetish sauce but that's how I like my sauce!\\n\\nWe had to box part of the pizza to take it home and we were out the door by 6:42. So, everything was great and not like these bad reviewers. That goes to show you that  you have to try these things yourself because all these bad reviewers have some serious issues.</td>\n",
       "      <td>0a2KyEL0d3Yb1V6aivbIuQ</td>\n",
       "    </tr>\n",
       "  </tbody>\n",
       "</table>\n",
       "</div>"
      ],
      "text/plain": [
       "                                                                                                                                                                                                                                                                                                                                                                                                                                                                                                                                                                                                                                                                                                                                                                                                                                                                                                                                                                                                                                                                                                                                                                                                                                                                                                                                                                                                    text  \\\n",
       "0  My wife took me here on my birthday for breakfast and it was excellent.  The weather was perfect which made sitting outside overlooking their grounds an absolute pleasure.  Our waitress was excellent and our food arrived quickly on the semi-busy Saturday morning.  It looked like the place fills up pretty quickly so the earlier you get here the better.\\n\\nDo yourself a favor and get their Bloody Mary.  It was phenomenal and simply the best I've ever had.  I'm pretty sure they only use ingredients from their garden and blend them fresh when you order it.  It was amazing.\\n\\nWhile EVERYTHING on the menu looks excellent, I had the white truffle scrambled eggs vegetable skillet and it was tasty and delicious.  It came with 2 pieces of their griddled bread with was amazing and it absolutely made the meal complete.  It was the best \"toast\" I've ever had.\\n\\nAnyway, I can't wait to go back!                                                                                                                                                                                                                                                                                                                                                                                                                                                                         \n",
       "1  I have no idea why some people give bad reviews about this place. It goes to show you, you can please everyone. They are probably griping about something that their own fault...there are many people like that.\\n\\nIn any case, my friend and I arrived at about 5:50 PM this past Sunday. It was pretty crowded, more than I thought for a Sunday evening and thought we would have to wait forever to get a seat but they said we'll be seated when the girl comes back from seating someone else. We were seated at 5:52 and the waiter came and got our drink orders. Everyone was very pleasant from the host that seated us to the waiter to the server. The prices were very good as well. We placed our orders once we decided what we wanted at 6:02. We shared the baked spaghetti calzone and the small \"Here's The Beef\" pizza so we can both try them. The calzone was huge and we got the smallest one (personal) and got the small 11\" pizza. Both were awesome! My friend liked the pizza better and I liked the calzone better. The calzone does have a sweetish sauce but that's how I like my sauce!\\n\\nWe had to box part of the pizza to take it home and we were out the door by 6:42. So, everything was great and not like these bad reviewers. That goes to show you that  you have to try these things yourself because all these bad reviewers have some serious issues.   \n",
       "\n",
       "                  user_id  \n",
       "0  rLtl8ZkDX5vH5nAx9C3q5Q  \n",
       "1  0a2KyEL0d3Yb1V6aivbIuQ  "
      ]
     },
     "execution_count": 8,
     "metadata": {},
     "output_type": "execute_result"
    }
   ],
   "source": [
    "yelp[['text','user_id']][0:2]"
   ]
  },
  {
   "cell_type": "code",
   "execution_count": 9,
   "metadata": {
    "collapsed": false
   },
   "outputs": [
    {
     "data": {
      "text/plain": [
       "['i', 'me', 'my', 'myself', 'we', 'our', 'ours', 'ourselves', 'you', \"you're\"]"
      ]
     },
     "execution_count": 9,
     "metadata": {},
     "output_type": "execute_result"
    }
   ],
   "source": [
    "stop_words = stopwords.words('english')\n",
    "stop_words[0:10]\n"
   ]
  },
  {
   "cell_type": "code",
   "execution_count": 10,
   "metadata": {
    "collapsed": false
   },
   "outputs": [],
   "source": [
    "## Creating a function to remove punctuation and stopwords\n",
    "def remove_punctuation_stopwords(sentence):\n",
    "    sentence = sentence.lower()\n",
    "    tokenizer = RegexpTokenizer(r'\\w+')\n",
    "    tokens = tokenizer.tokenize(sentence)\n",
    "    stop_words = stopwords.words('english')\n",
    "    filtered_words = [w for w in tokens if not w in stop_words]\n",
    "    return \" \".join(filtered_words)"
   ]
  },
  {
   "cell_type": "code",
   "execution_count": 11,
   "metadata": {
    "collapsed": true
   },
   "outputs": [],
   "source": [
    "## Creating a new column called new_text which contains text after removing punctuation and stopwords\n",
    "yelp['new_text']=yelp.apply(lambda x: remove_punctuation_stopwords(x['text']),axis=1)"
   ]
  },
  {
   "cell_type": "code",
   "execution_count": 12,
   "metadata": {
    "collapsed": false
   },
   "outputs": [
    {
     "data": {
      "text/html": [
       "<div>\n",
       "<style scoped>\n",
       "    .dataframe tbody tr th:only-of-type {\n",
       "        vertical-align: middle;\n",
       "    }\n",
       "\n",
       "    .dataframe tbody tr th {\n",
       "        vertical-align: top;\n",
       "    }\n",
       "\n",
       "    .dataframe thead th {\n",
       "        text-align: right;\n",
       "    }\n",
       "</style>\n",
       "<table border=\"1\" class=\"dataframe\">\n",
       "  <thead>\n",
       "    <tr style=\"text-align: right;\">\n",
       "      <th></th>\n",
       "      <th>text</th>\n",
       "      <th>new_text</th>\n",
       "    </tr>\n",
       "  </thead>\n",
       "  <tbody>\n",
       "    <tr>\n",
       "      <th>0</th>\n",
       "      <td>My wife took me here on my birthday for breakfast and it was excellent.  The weather was perfect which made sitting outside overlooking their grounds an absolute pleasure.  Our waitress was excellent and our food arrived quickly on the semi-busy Saturday morning.  It looked like the place fills up pretty quickly so the earlier you get here the better.\\n\\nDo yourself a favor and get their Bloody Mary.  It was phenomenal and simply the best I've ever had.  I'm pretty sure they only use ingredients from their garden and blend them fresh when you order it.  It was amazing.\\n\\nWhile EVERYTHING on the menu looks excellent, I had the white truffle scrambled eggs vegetable skillet and it was tasty and delicious.  It came with 2 pieces of their griddled bread with was amazing and it absolutely made the meal complete.  It was the best \"toast\" I've ever had.\\n\\nAnyway, I can't wait to go back!</td>\n",
       "      <td>wife took birthday breakfast excellent weather perfect made sitting outside overlooking grounds absolute pleasure waitress excellent food arrived quickly semi busy saturday morning looked like place fills pretty quickly earlier get better favor get bloody mary phenomenal simply best ever pretty sure use ingredients garden blend fresh order amazing everything menu looks excellent white truffle scrambled eggs vegetable skillet tasty delicious came 2 pieces griddled bread amazing absolutely made meal complete best toast ever anyway wait go back</td>\n",
       "    </tr>\n",
       "    <tr>\n",
       "      <th>1</th>\n",
       "      <td>I have no idea why some people give bad reviews about this place. It goes to show you, you can please everyone. They are probably griping about something that their own fault...there are many people like that.\\n\\nIn any case, my friend and I arrived at about 5:50 PM this past Sunday. It was pretty crowded, more than I thought for a Sunday evening and thought we would have to wait forever to get a seat but they said we'll be seated when the girl comes back from seating someone else. We were seated at 5:52 and the waiter came and got our drink orders. Everyone was very pleasant from the host that seated us to the waiter to the server. The prices were very good as well. We placed our orders once we decided what we wanted at 6:02. We shared the baked spaghetti calzone and the small \"Here's The Beef\" pizza so we can both try them. The calzone was huge and we got the smallest one (personal) and got the small 11\" pizza. Both were awesome! My friend liked the pizza better and I liked the calzone better. The calzone does have a sweetish sauce but that's how I like my sauce!\\n\\nWe had to box part of the pizza to take it home and we were out the door by 6:42. So, everything was great and not like these bad reviewers. That goes to show you that  you have to try these things yourself because all these bad reviewers have some serious issues.</td>\n",
       "      <td>idea people give bad reviews place goes show please everyone probably griping something fault many people like case friend arrived 5 50 pm past sunday pretty crowded thought sunday evening thought would wait forever get seat said seated girl comes back seating someone else seated 5 52 waiter came got drink orders everyone pleasant host seated us waiter server prices good well placed orders decided wanted 6 02 shared baked spaghetti calzone small beef pizza try calzone huge got smallest one personal got small 11 pizza awesome friend liked pizza better liked calzone better calzone sweetish sauce like sauce box part pizza take home door 6 42 everything great like bad reviewers goes show try things bad reviewers serious issues</td>\n",
       "    </tr>\n",
       "  </tbody>\n",
       "</table>\n",
       "</div>"
      ],
      "text/plain": [
       "                                                                                                                                                                                                                                                                                                                                                                                                                                                                                                                                                                                                                                                                                                                                                                                                                                                                                                                                                                                                                                                                                                                                                                                                                                                                                                                                                                                                    text  \\\n",
       "0  My wife took me here on my birthday for breakfast and it was excellent.  The weather was perfect which made sitting outside overlooking their grounds an absolute pleasure.  Our waitress was excellent and our food arrived quickly on the semi-busy Saturday morning.  It looked like the place fills up pretty quickly so the earlier you get here the better.\\n\\nDo yourself a favor and get their Bloody Mary.  It was phenomenal and simply the best I've ever had.  I'm pretty sure they only use ingredients from their garden and blend them fresh when you order it.  It was amazing.\\n\\nWhile EVERYTHING on the menu looks excellent, I had the white truffle scrambled eggs vegetable skillet and it was tasty and delicious.  It came with 2 pieces of their griddled bread with was amazing and it absolutely made the meal complete.  It was the best \"toast\" I've ever had.\\n\\nAnyway, I can't wait to go back!                                                                                                                                                                                                                                                                                                                                                                                                                                                                         \n",
       "1  I have no idea why some people give bad reviews about this place. It goes to show you, you can please everyone. They are probably griping about something that their own fault...there are many people like that.\\n\\nIn any case, my friend and I arrived at about 5:50 PM this past Sunday. It was pretty crowded, more than I thought for a Sunday evening and thought we would have to wait forever to get a seat but they said we'll be seated when the girl comes back from seating someone else. We were seated at 5:52 and the waiter came and got our drink orders. Everyone was very pleasant from the host that seated us to the waiter to the server. The prices were very good as well. We placed our orders once we decided what we wanted at 6:02. We shared the baked spaghetti calzone and the small \"Here's The Beef\" pizza so we can both try them. The calzone was huge and we got the smallest one (personal) and got the small 11\" pizza. Both were awesome! My friend liked the pizza better and I liked the calzone better. The calzone does have a sweetish sauce but that's how I like my sauce!\\n\\nWe had to box part of the pizza to take it home and we were out the door by 6:42. So, everything was great and not like these bad reviewers. That goes to show you that  you have to try these things yourself because all these bad reviewers have some serious issues.   \n",
       "\n",
       "                                                                                                                                                                                                                                                                                                                                                                                                                                                                                                                                                                                                                                                                                                                                                       new_text  \n",
       "0  wife took birthday breakfast excellent weather perfect made sitting outside overlooking grounds absolute pleasure waitress excellent food arrived quickly semi busy saturday morning looked like place fills pretty quickly earlier get better favor get bloody mary phenomenal simply best ever pretty sure use ingredients garden blend fresh order amazing everything menu looks excellent white truffle scrambled eggs vegetable skillet tasty delicious came 2 pieces griddled bread amazing absolutely made meal complete best toast ever anyway wait go back                                                                                                                                                                                           \n",
       "1  idea people give bad reviews place goes show please everyone probably griping something fault many people like case friend arrived 5 50 pm past sunday pretty crowded thought sunday evening thought would wait forever get seat said seated girl comes back seating someone else seated 5 52 waiter came got drink orders everyone pleasant host seated us waiter server prices good well placed orders decided wanted 6 02 shared baked spaghetti calzone small beef pizza try calzone huge got smallest one personal got small 11 pizza awesome friend liked pizza better liked calzone better calzone sweetish sauce like sauce box part pizza take home door 6 42 everything great like bad reviewers goes show try things bad reviewers serious issues  "
      ]
     },
     "execution_count": 12,
     "metadata": {},
     "output_type": "execute_result"
    }
   ],
   "source": [
    "## Check the new_text column after punctuation removal \n",
    "yelp[['text','new_text']][0:2]"
   ]
  },
  {
   "cell_type": "markdown",
   "metadata": {},
   "source": [
    "## 4. Train Model\n",
    "- Create two objects X and y.\n",
    "- X will be the 'text' column of yelp dataframe and y will be the 'stars' column of yelp\n",
    "- create a CountVectorizer object and split the data into training and testing sets\n",
    "- Train a MultinomialNB model \n",
    "- Display the confusion Matrix"
   ]
  },
  {
   "cell_type": "code",
   "execution_count": 13,
   "metadata": {
    "collapsed": false
   },
   "outputs": [],
   "source": [
    "X= yelp.new_text\n",
    "y= yelp.stars"
   ]
  },
  {
   "cell_type": "code",
   "execution_count": 14,
   "metadata": {
    "collapsed": false
   },
   "outputs": [
    {
     "name": "stdout",
     "output_type": "stream",
     "text": [
      "X dimensionality (10000,)\n",
      "y dimensionality (10000,)\n"
     ]
    }
   ],
   "source": [
    "# check the shapes of X and y\n",
    "print('X dimensionality', X.shape)\n",
    "print('y dimensionality', y.shape)"
   ]
  },
  {
   "cell_type": "code",
   "execution_count": 15,
   "metadata": {
    "collapsed": false
   },
   "outputs": [
    {
     "data": {
      "text/plain": [
       "4    3526\n",
       "5    3337\n",
       "3    1461\n",
       "2    927 \n",
       "1    749 \n",
       "Name: stars, dtype: int64"
      ]
     },
     "execution_count": 15,
     "metadata": {},
     "output_type": "execute_result"
    }
   ],
   "source": [
    "# examine the class distribution\n",
    "yelp.stars.value_counts()"
   ]
  },
  {
   "cell_type": "code",
   "execution_count": 16,
   "metadata": {
    "collapsed": true
   },
   "outputs": [],
   "source": [
    "## Examining Classfication Counts whether Balanced / Imbalanced "
   ]
  },
  {
   "cell_type": "code",
   "execution_count": 17,
   "metadata": {
    "collapsed": false
   },
   "outputs": [
    {
     "data": {
      "text/plain": [
       "<Figure size 800x600 with 1 Axes>"
      ]
     },
     "metadata": {},
     "output_type": "display_data"
    }
   ],
   "source": [
    "import matplotlib.pyplot as plt\n",
    "fig = plt.figure(figsize=(8,6))\n",
    "yelp.groupby('stars').new_text.count().plot.bar(ylim=0)\n",
    "plt.show()"
   ]
  },
  {
   "cell_type": "markdown",
   "metadata": {},
   "source": [
    "### 4.1 Train Test Split"
   ]
  },
  {
   "cell_type": "code",
   "execution_count": 18,
   "metadata": {
    "collapsed": false
   },
   "outputs": [
    {
     "name": "stdout",
     "output_type": "stream",
     "text": [
      "(7500,)\n",
      "(2500,)\n",
      "(7500,)\n",
      "(2500,)\n"
     ]
    }
   ],
   "source": [
    "# split X and y into training and testing sets  by default, it splits 75% training and 25% test\n",
    "# random_state=1 for reproducibility\n",
    "from sklearn.model_selection import train_test_split\n",
    "X_train, X_test, y_train, y_test = train_test_split(X, y, random_state=1)\n",
    "print(X_train.shape)\n",
    "print(X_test.shape)\n",
    "print(y_train.shape)\n",
    "print(y_test.shape)"
   ]
  },
  {
   "cell_type": "markdown",
   "metadata": {},
   "source": [
    "### Note: \n",
    "-  We do the train/test split before the CountVectorizer to properly simulate the real world where our future data contains words we have not seen before"
   ]
  },
  {
   "cell_type": "markdown",
   "metadata": {},
   "source": [
    "### 4.2 Create CountVectorizer Object"
   ]
  },
  {
   "cell_type": "code",
   "execution_count": 19,
   "metadata": {
    "collapsed": true
   },
   "outputs": [],
   "source": [
    "# 1. import and instantiate CountVectorizer (with the default parameters)\n",
    "from sklearn.feature_extraction.text import CountVectorizer\n",
    "\n",
    "# 2. instantiate CountVectorizer (vectorizer)\n",
    "vect = CountVectorizer(analyzer='word', token_pattern=r'\\w{1,}')"
   ]
  },
  {
   "cell_type": "code",
   "execution_count": 20,
   "metadata": {
    "collapsed": false
   },
   "outputs": [],
   "source": [
    "# 3. fit and transform training data\n",
    "X_train_dtm = vect.fit_transform(X_train)"
   ]
  },
  {
   "cell_type": "code",
   "execution_count": 21,
   "metadata": {
    "collapsed": false
   },
   "outputs": [
    {
     "data": {
      "text/plain": [
       "<7500x25684 sparse matrix of type '<class 'numpy.int64'>'\n",
       "\twith 425424 stored elements in Compressed Sparse Row format>"
      ]
     },
     "execution_count": 21,
     "metadata": {},
     "output_type": "execute_result"
    }
   ],
   "source": [
    "# examine the fitted vocabulary\n",
    "X_train_dtm"
   ]
  },
  {
   "cell_type": "code",
   "execution_count": 22,
   "metadata": {
    "collapsed": false
   },
   "outputs": [
    {
     "data": {
      "text/plain": [
       "<2500x25684 sparse matrix of type '<class 'numpy.int64'>'\n",
       "\twith 134955 stored elements in Compressed Sparse Row format>"
      ]
     },
     "execution_count": 22,
     "metadata": {},
     "output_type": "execute_result"
    }
   ],
   "source": [
    "# 4. transform testing data (using fitted vocabulary) into a document-term matrix\n",
    "X_test_dtm = vect.transform(X_test)\n",
    "X_test_dtm"
   ]
  },
  {
   "cell_type": "markdown",
   "metadata": {},
   "source": [
    "### 4.3 Build MultinomialNB Model"
   ]
  },
  {
   "cell_type": "code",
   "execution_count": 23,
   "metadata": {
    "collapsed": true
   },
   "outputs": [],
   "source": [
    "# Instantiate Multinomial Naive Bayes Model\n",
    "mnb = MultinomialNB()"
   ]
  },
  {
   "cell_type": "code",
   "execution_count": 24,
   "metadata": {
    "collapsed": false
   },
   "outputs": [
    {
     "name": "stdout",
     "output_type": "stream",
     "text": [
      "CPU times: user 18.7 ms, sys: 3.29 ms, total: 22 ms\n",
      "Wall time: 26.2 ms\n"
     ]
    },
    {
     "data": {
      "text/plain": [
       "MultinomialNB(alpha=1.0, class_prior=None, fit_prior=True)"
      ]
     },
     "execution_count": 24,
     "metadata": {},
     "output_type": "execute_result"
    }
   ],
   "source": [
    "# Train the Model \n",
    "%time mnb.fit(X_train_dtm, y_train)"
   ]
  },
  {
   "cell_type": "code",
   "execution_count": 25,
   "metadata": {
    "collapsed": false
   },
   "outputs": [],
   "source": [
    "# make class predictions for X_test_dtm\n",
    "y_pred_class = mnb.predict(X_test_dtm)"
   ]
  },
  {
   "cell_type": "code",
   "execution_count": 26,
   "metadata": {
    "collapsed": false
   },
   "outputs": [
    {
     "data": {
      "text/plain": [
       "0.4672"
      ]
     },
     "execution_count": 26,
     "metadata": {},
     "output_type": "execute_result"
    }
   ],
   "source": [
    "# calculate accuracy of class predictions\n",
    "from sklearn import metrics\n",
    "metrics.accuracy_score(y_test, y_pred_class)"
   ]
  },
  {
   "cell_type": "code",
   "execution_count": 27,
   "metadata": {
    "collapsed": false
   },
   "outputs": [
    {
     "data": {
      "text/plain": [
       "array([[ 58,  20,  23,  56,  28],\n",
       "       [ 23,  18,  37, 133,  23],\n",
       "       [  5,   8,  37, 273,  42],\n",
       "       [  4,   1,  20, 633, 226],\n",
       "       [  7,   4,   7, 392, 422]])"
      ]
     },
     "execution_count": 27,
     "metadata": {},
     "output_type": "execute_result"
    }
   ],
   "source": [
    "# print the confusion matrix\n",
    "metrics.confusion_matrix(y_test, y_pred_class)"
   ]
  },
  {
   "cell_type": "markdown",
   "metadata": {},
   "source": [
    "### Note : Since the classes are imbalanced from the bar plot above . Let's try to use SMOTE technique to resample"
   ]
  },
  {
   "cell_type": "code",
   "execution_count": 28,
   "metadata": {
    "collapsed": false
   },
   "outputs": [
    {
     "name": "stderr",
     "output_type": "stream",
     "text": [
      "Using TensorFlow backend.\n"
     ]
    }
   ],
   "source": [
    "from imblearn.over_sampling import SMOTE "
   ]
  },
  {
   "cell_type": "code",
   "execution_count": 29,
   "metadata": {
    "collapsed": false
   },
   "outputs": [],
   "source": [
    "sm = SMOTE(random_state = 2) \n",
    "X_train_res, y_train_res = sm.fit_sample(X_train_dtm, y_train.ravel()) "
   ]
  },
  {
   "cell_type": "code",
   "execution_count": 30,
   "metadata": {
    "collapsed": false
   },
   "outputs": [
    {
     "name": "stdout",
     "output_type": "stream",
     "text": [
      "After OverSampling, counts of label '1': 2642\n",
      "After OverSampling, counts of label '2': 2642\n",
      "After OverSampling, counts of label '3': 2642\n",
      "After OverSampling, counts of label '4': 2642\n",
      "After OverSampling, counts of label '5': 2642\n"
     ]
    }
   ],
   "source": [
    "\n",
    "print(\"After OverSampling, counts of label '1': {}\".format(sum(y_train_res == 1))) \n",
    "print(\"After OverSampling, counts of label '2': {}\".format(sum(y_train_res == 2))) \n",
    "print(\"After OverSampling, counts of label '3': {}\".format(sum(y_train_res == 3))) \n",
    "print(\"After OverSampling, counts of label '4': {}\".format(sum(y_train_res == 4))) \n",
    "print(\"After OverSampling, counts of label '5': {}\".format(sum(y_train_res == 5))) "
   ]
  },
  {
   "cell_type": "code",
   "execution_count": 31,
   "metadata": {
    "collapsed": false
   },
   "outputs": [
    {
     "data": {
      "text/plain": [
       "MultinomialNB(alpha=1.0, class_prior=None, fit_prior=True)"
      ]
     },
     "execution_count": 31,
     "metadata": {},
     "output_type": "execute_result"
    }
   ],
   "source": [
    "mnb.fit(X_train_res, y_train_res.ravel())"
   ]
  },
  {
   "cell_type": "code",
   "execution_count": 32,
   "metadata": {
    "collapsed": true
   },
   "outputs": [],
   "source": [
    "predictions = mnb.predict(X_test_dtm) \n"
   ]
  },
  {
   "cell_type": "code",
   "execution_count": 33,
   "metadata": {
    "collapsed": false
   },
   "outputs": [
    {
     "name": "stdout",
     "output_type": "stream",
     "text": [
      "              precision    recall  f1-score   support\n",
      "\n",
      "           1       0.47      0.41      0.44       185\n",
      "           2       0.39      0.21      0.28       234\n",
      "           3       0.32      0.21      0.25       365\n",
      "           4       0.46      0.66      0.54       884\n",
      "           5       0.58      0.50      0.54       832\n",
      "\n",
      "    accuracy                           0.48      2500\n",
      "   macro avg       0.45      0.40      0.41      2500\n",
      "weighted avg       0.48      0.48      0.47      2500\n",
      "\n"
     ]
    }
   ],
   "source": [
    "from sklearn.metrics import confusion_matrix, classification_report \n",
    "\n",
    "print(classification_report(y_test, predictions)) \n"
   ]
  },
  {
   "cell_type": "code",
   "execution_count": 34,
   "metadata": {
    "collapsed": false
   },
   "outputs": [
    {
     "data": {
      "text/plain": [
       "array([[ 76,  37,  19,  33,  20],\n",
       "       [ 39,  50,  52,  73,  20],\n",
       "       [ 15,  19,  75, 215,  41],\n",
       "       [ 11,  11,  60, 582, 220],\n",
       "       [ 21,  10,  26, 358, 417]])"
      ]
     },
     "execution_count": 34,
     "metadata": {},
     "output_type": "execute_result"
    }
   ],
   "source": [
    "metrics.confusion_matrix(y_test, predictions)"
   ]
  },
  {
   "cell_type": "code",
   "execution_count": 35,
   "metadata": {
    "collapsed": false
   },
   "outputs": [
    {
     "data": {
      "text/plain": [
       "0.48"
      ]
     },
     "execution_count": 35,
     "metadata": {},
     "output_type": "execute_result"
    }
   ],
   "source": [
    "metrics.accuracy_score(y_test, predictions)"
   ]
  },
  {
   "cell_type": "markdown",
   "metadata": {},
   "source": [
    "### Conclusion : \n",
    "- Using MultinomialNB with or without SMOTE for imbalanced classes in this case did not improve the performance much "
   ]
  },
  {
   "cell_type": "markdown",
   "metadata": {},
   "source": [
    "## 5. Display HMM POS Tagging"
   ]
  },
  {
   "cell_type": "code",
   "execution_count": 36,
   "metadata": {
    "collapsed": true
   },
   "outputs": [],
   "source": [
    "nlp=spacy.load('en_core_web_sm')"
   ]
  },
  {
   "cell_type": "code",
   "execution_count": 37,
   "metadata": {
    "collapsed": false
   },
   "outputs": [],
   "source": [
    "def convert_to_pos_tags(text_value):\n",
    "    doc = nlp(text_value)\n",
    "    pos_tag_list=[]\n",
    "    # iterating over each text and then adding it to a list\n",
    "    for token in doc:\n",
    "        pos_tag_list.append((token.text,token.pos_))\n",
    "    return pos_tag_list"
   ]
  },
  {
   "cell_type": "markdown",
   "metadata": {},
   "source": [
    "### 5.1 Display the HMM POS tagging on the first 4 rows of ‘text’"
   ]
  },
  {
   "cell_type": "code",
   "execution_count": 38,
   "metadata": {
    "collapsed": false
   },
   "outputs": [],
   "source": [
    "tags_pos=yelp['new_text'][0:4].apply(lambda x:convert_to_pos_tags(x))"
   ]
  },
  {
   "cell_type": "code",
   "execution_count": 39,
   "metadata": {
    "collapsed": false
   },
   "outputs": [
    {
     "data": {
      "text/html": [
       "<div>\n",
       "<style scoped>\n",
       "    .dataframe tbody tr th:only-of-type {\n",
       "        vertical-align: middle;\n",
       "    }\n",
       "\n",
       "    .dataframe tbody tr th {\n",
       "        vertical-align: top;\n",
       "    }\n",
       "\n",
       "    .dataframe thead th {\n",
       "        text-align: right;\n",
       "    }\n",
       "</style>\n",
       "<table border=\"1\" class=\"dataframe\">\n",
       "  <thead>\n",
       "    <tr style=\"text-align: right;\">\n",
       "      <th></th>\n",
       "      <th>new_text</th>\n",
       "    </tr>\n",
       "  </thead>\n",
       "  <tbody>\n",
       "    <tr>\n",
       "      <th>0</th>\n",
       "      <td>[(wife, NOUN), (took, VERB), (birthday, NOUN), (breakfast, NOUN), (excellent, ADJ), (weather, NOUN), (perfect, ADJ), (made, VERB), (sitting, VERB), (outside, ADP), (overlooking, VERB), (grounds, NOUN), (absolute, ADJ), (pleasure, NOUN), (waitress, NOUN), (excellent, ADJ), (food, NOUN), (arrived, VERB), (quickly, ADV), (semi, ADV), (busy, ADJ), (saturday, PROPN), (morning, NOUN), (looked, VERB), (like, SCONJ), (place, NOUN), (fills, NOUN), (pretty, ADV), (quickly, ADV), (earlier, ADV), (get, VERB), (better, ADJ), (favor, NOUN), (get, AUX), (bloody, ADJ), (mary, PROPN), (phenomenal, PROPN), (simply, ADV), (best, ADV), (ever, ADV), (pretty, ADV), (sure, ADJ), (use, VERB), (ingredients, NOUN), (garden, VERB), (blend, NOUN), (fresh, ADJ), (order, NOUN), (amazing, ADJ), (everything, PRON), (menu, NOUN), (looks, VERB), (excellent, ADJ), (white, ADJ), (truffle, NOUN), (scrambled, VERB), (eggs, PROPN), (vegetable, NOUN), (skillet, NOUN), (tasty, ADJ), (delicious, PROPN), (came, VERB), (2, NUM), (pieces, NOUN), (griddled, VERB), (bread, NOUN), (amazing, ADJ), (absolutely, ADV), (made, VERB), (meal, NOUN), (complete, ADJ), (best, ADJ), (toast, NOUN), (ever, ADV), (anyway, INTJ), (wait, VERB), (go, VERB), (back, ADV)]</td>\n",
       "    </tr>\n",
       "    <tr>\n",
       "      <th>1</th>\n",
       "      <td>[(idea, NOUN), (people, NOUN), (give, VERB), (bad, ADJ), (reviews, NOUN), (place, NOUN), (goes, VERB), (show, NOUN), (please, INTJ), (everyone, PRON), (probably, ADV), (griping, VERB), (something, PRON), (fault, VERB), (many, ADJ), (people, NOUN), (like, SCONJ), (case, NOUN), (friend, NOUN), (arrived, VERB), (5, NUM), (50, NUM), (pm, NOUN), (past, ADP), (sunday, PROPN), (pretty, ADV), (crowded, VERB), (thought, NOUN), (sunday, PROPN), (evening, NOUN), (thought, VERB), (would, VERB), (wait, VERB), (forever, ADV), (get, VERB), (seat, NOUN), (said, VERB), (seated, ADJ), (girl, NOUN), (comes, VERB), (back, ADV), (seating, VERB), (someone, PRON), (else, ADV), (seated, VERB), (5, NUM), (52, NUM), (waiter, NOUN), (came, VERB), (got, VERB), (drink, NOUN), (orders, NOUN), (everyone, PRON), (pleasant, ADJ), (host, NOUN), (seated, VERB), (us, PRON), (waiter, ADJ), (server, NOUN), (prices, NOUN), (good, ADJ), (well, ADV), (placed, VERB), (orders, NOUN), (decided, VERB), (wanted, VERB), (6, NUM), (02, NUM), (shared, VERB), (baked, VERB), (spaghetti, NOUN), (calzone, PROPN), (small, ADJ), (beef, NOUN), (pizza, NOUN), (try, VERB), (calzone, PROPN), (huge, PROPN), (got, VERB), (smallest, ADJ), (one, NUM), (personal, NOUN), (got, VERB), (small, ADJ), (11, NUM), (pizza, NOUN), (awesome, ADJ), (friend, NOUN), (liked, VERB), (pizza, NOUN), (better, ADV), (liked, VERB), (calzone, NOUN), (better, ADJ), (calzone, PROPN), (sweetish, ADJ), (sauce, NOUN), (like, SCONJ), (sauce, NOUN), (box, NOUN), ...]</td>\n",
       "    </tr>\n",
       "    <tr>\n",
       "      <th>2</th>\n",
       "      <td>[(love, NOUN), (gyro, PROPN), (plate, VERB), (rice, PROPN), (good, ADJ), (also, ADV), (dig, VERB), (candy, NOUN), (selection, NOUN)]</td>\n",
       "    </tr>\n",
       "    <tr>\n",
       "      <th>3</th>\n",
       "      <td>[(rosie, PROPN), (dakota, PROPN), (love, PROPN), (chaparral, PROPN), (dog, PROPN), (park, PROPN), (convenient, NOUN), (surrounded, VERB), (lot, NOUN), (paths, NOUN), (desert, NOUN), (xeriscape, PROPN), (baseball, NOUN), (fields, NOUN), (ballparks, NOUN), (lake, PROPN), (ducks, PROPN), (scottsdale, PROPN), (park, PROPN), (rec, PROPN), (dept, NOUN), (wonderful, ADJ), (job, NOUN), (keeping, VERB), (park, NOUN), (clean, ADJ), (shaded, ADJ), (find, VERB), (trash, NOUN), (cans, NOUN), (poopy, NOUN), (pick, NOUN), (mitts, PROPN), (located, VERB), (park, NOUN), (paths, NOUN), (fenced, VERB), (area, NOUN), (huge, ADJ), (let, VERB), (dogs, NOUN), (run, VERB), (play, VERB), (sniff, NOUN)]</td>\n",
       "    </tr>\n",
       "  </tbody>\n",
       "</table>\n",
       "</div>"
      ],
      "text/plain": [
       "                                                                                                                                                                                                                                                                                                                                                                                                                                                                                                                                                                                                                                                                                                                                                                                                                                                                                                                                                                                                                                                                                                                                                                                                                                                                                                                                                                                                                                                                                                                                                        new_text\n",
       "0  [(wife, NOUN), (took, VERB), (birthday, NOUN), (breakfast, NOUN), (excellent, ADJ), (weather, NOUN), (perfect, ADJ), (made, VERB), (sitting, VERB), (outside, ADP), (overlooking, VERB), (grounds, NOUN), (absolute, ADJ), (pleasure, NOUN), (waitress, NOUN), (excellent, ADJ), (food, NOUN), (arrived, VERB), (quickly, ADV), (semi, ADV), (busy, ADJ), (saturday, PROPN), (morning, NOUN), (looked, VERB), (like, SCONJ), (place, NOUN), (fills, NOUN), (pretty, ADV), (quickly, ADV), (earlier, ADV), (get, VERB), (better, ADJ), (favor, NOUN), (get, AUX), (bloody, ADJ), (mary, PROPN), (phenomenal, PROPN), (simply, ADV), (best, ADV), (ever, ADV), (pretty, ADV), (sure, ADJ), (use, VERB), (ingredients, NOUN), (garden, VERB), (blend, NOUN), (fresh, ADJ), (order, NOUN), (amazing, ADJ), (everything, PRON), (menu, NOUN), (looks, VERB), (excellent, ADJ), (white, ADJ), (truffle, NOUN), (scrambled, VERB), (eggs, PROPN), (vegetable, NOUN), (skillet, NOUN), (tasty, ADJ), (delicious, PROPN), (came, VERB), (2, NUM), (pieces, NOUN), (griddled, VERB), (bread, NOUN), (amazing, ADJ), (absolutely, ADV), (made, VERB), (meal, NOUN), (complete, ADJ), (best, ADJ), (toast, NOUN), (ever, ADV), (anyway, INTJ), (wait, VERB), (go, VERB), (back, ADV)]                                                                                                                                                                                                                                                                                    \n",
       "1  [(idea, NOUN), (people, NOUN), (give, VERB), (bad, ADJ), (reviews, NOUN), (place, NOUN), (goes, VERB), (show, NOUN), (please, INTJ), (everyone, PRON), (probably, ADV), (griping, VERB), (something, PRON), (fault, VERB), (many, ADJ), (people, NOUN), (like, SCONJ), (case, NOUN), (friend, NOUN), (arrived, VERB), (5, NUM), (50, NUM), (pm, NOUN), (past, ADP), (sunday, PROPN), (pretty, ADV), (crowded, VERB), (thought, NOUN), (sunday, PROPN), (evening, NOUN), (thought, VERB), (would, VERB), (wait, VERB), (forever, ADV), (get, VERB), (seat, NOUN), (said, VERB), (seated, ADJ), (girl, NOUN), (comes, VERB), (back, ADV), (seating, VERB), (someone, PRON), (else, ADV), (seated, VERB), (5, NUM), (52, NUM), (waiter, NOUN), (came, VERB), (got, VERB), (drink, NOUN), (orders, NOUN), (everyone, PRON), (pleasant, ADJ), (host, NOUN), (seated, VERB), (us, PRON), (waiter, ADJ), (server, NOUN), (prices, NOUN), (good, ADJ), (well, ADV), (placed, VERB), (orders, NOUN), (decided, VERB), (wanted, VERB), (6, NUM), (02, NUM), (shared, VERB), (baked, VERB), (spaghetti, NOUN), (calzone, PROPN), (small, ADJ), (beef, NOUN), (pizza, NOUN), (try, VERB), (calzone, PROPN), (huge, PROPN), (got, VERB), (smallest, ADJ), (one, NUM), (personal, NOUN), (got, VERB), (small, ADJ), (11, NUM), (pizza, NOUN), (awesome, ADJ), (friend, NOUN), (liked, VERB), (pizza, NOUN), (better, ADV), (liked, VERB), (calzone, NOUN), (better, ADJ), (calzone, PROPN), (sweetish, ADJ), (sauce, NOUN), (like, SCONJ), (sauce, NOUN), (box, NOUN), ...]\n",
       "2  [(love, NOUN), (gyro, PROPN), (plate, VERB), (rice, PROPN), (good, ADJ), (also, ADV), (dig, VERB), (candy, NOUN), (selection, NOUN)]                                                                                                                                                                                                                                                                                                                                                                                                                                                                                                                                                                                                                                                                                                                                                                                                                                                                                                                                                                                                                                                                                                                                                                                                                                                                                                                                                                                                                         \n",
       "3  [(rosie, PROPN), (dakota, PROPN), (love, PROPN), (chaparral, PROPN), (dog, PROPN), (park, PROPN), (convenient, NOUN), (surrounded, VERB), (lot, NOUN), (paths, NOUN), (desert, NOUN), (xeriscape, PROPN), (baseball, NOUN), (fields, NOUN), (ballparks, NOUN), (lake, PROPN), (ducks, PROPN), (scottsdale, PROPN), (park, PROPN), (rec, PROPN), (dept, NOUN), (wonderful, ADJ), (job, NOUN), (keeping, VERB), (park, NOUN), (clean, ADJ), (shaded, ADJ), (find, VERB), (trash, NOUN), (cans, NOUN), (poopy, NOUN), (pick, NOUN), (mitts, PROPN), (located, VERB), (park, NOUN), (paths, NOUN), (fenced, VERB), (area, NOUN), (huge, ADJ), (let, VERB), (dogs, NOUN), (run, VERB), (play, VERB), (sniff, NOUN)]                                                                                                                                                                                                                                                                                                                                                                                                                                                                                                                                                                                                                                                                                                                                                                                                                                               "
      ]
     },
     "execution_count": 39,
     "metadata": {},
     "output_type": "execute_result"
    }
   ],
   "source": [
    "## Displaying the data as pandas dataframe\n",
    "## Note: the text after the stop words and punctuation removal is used here \n",
    "pd.DataFrame(tags_pos)"
   ]
  },
  {
   "cell_type": "markdown",
   "metadata": {},
   "source": [
    "## 6. Use Viterbi Parser to Parse rows"
   ]
  },
  {
   "cell_type": "markdown",
   "metadata": {},
   "source": [
    "- Parse the first 4 rows of ‘text’ using Viterbi Parser \n",
    "- [Use toy_pcfg1 and toy_pcfg2 to get the probabilistic context free grammars\n",
    "- use the PCFG suitable for each sentence"
   ]
  },
  {
   "cell_type": "code",
   "execution_count": 40,
   "metadata": {
    "collapsed": false
   },
   "outputs": [],
   "source": [
    "import sys, time\n",
    "from nltk import tokenize\n",
    "from nltk.parse import ViterbiParser\n",
    "from nltk.grammar import toy_pcfg1, toy_pcfg2\n",
    "from nltk.corpus import treebank"
   ]
  },
  {
   "cell_type": "code",
   "execution_count": 41,
   "metadata": {
    "collapsed": true
   },
   "outputs": [],
   "source": [
    "# Define two demos.  Each demo has a sentence and a grammar.\n",
    "demos = [\n",
    "    (\"I was busy on my wife birthday\", toy_pcfg1),\n",
    "    (\"the boy saw a cookie under my table\", toy_pcfg2),\n",
    "    ]"
   ]
  },
  {
   "cell_type": "code",
   "execution_count": 42,
   "metadata": {
    "collapsed": false
   },
   "outputs": [
    {
     "data": {
      "text/plain": [
       "[('I was busy on my wife birthday', <Grammar with 17 productions>),\n",
       " ('the boy saw a cookie under my table', <Grammar with 23 productions>)]"
      ]
     },
     "execution_count": 42,
     "metadata": {},
     "output_type": "execute_result"
    }
   ],
   "source": [
    "demos"
   ]
  },
  {
   "cell_type": "code",
   "execution_count": 89,
   "metadata": {
    "collapsed": false
   },
   "outputs": [
    {
     "name": "stdout",
     "output_type": "stream",
     "text": [
      "(S\n",
      "  (NP-SBJ (NNP Mr.) (NNP Vinken))\n",
      "  (VP\n",
      "    (VBZ is)\n",
      "    (NP-PRD\n",
      "      (NP (NN chairman))\n",
      "      (PP\n",
      "        (IN of)\n",
      "        (NP\n",
      "          (NP (NNP Elsevier) (NNP N.V.))\n",
      "          (, ,)\n",
      "          (NP (DT the) (NNP Dutch) (VBG publishing) (NN group))))))\n",
      "  (. .))\n"
     ]
    }
   ],
   "source": [
    "import nltk\n",
    "from nltk.grammar import Nonterminal\n",
    "from nltk.corpus import treebank\n",
    "# load and view training data\n",
    "training_set = treebank.parsed_sents()\n",
    "print(training_set[1])"
   ]
  },
  {
   "cell_type": "code",
   "execution_count": 90,
   "metadata": {
    "collapsed": false
   },
   "outputs": [
    {
     "data": {
      "text/plain": [
       "[CD -> '5.435',\n",
       " NN -> 'Safety',\n",
       " NP-SBJ -> PRP$ NNP CC NNP NN,\n",
       " VB -> 'total',\n",
       " VP -> VBZ PP-MNR-CLR SBAR-PRP,\n",
       " VP -> VBZ ADVP PP-CLR,\n",
       " NNPS -> 'Manufacturers',\n",
       " NNP -> 'F.H.',\n",
       " VBN -> 'designated',\n",
       " ADVP-CLR -> RB NP]"
      ]
     },
     "execution_count": 90,
     "metadata": {},
     "output_type": "execute_result"
    }
   ],
   "source": [
    "# extract the productions for all annotated training sentences\n",
    "treebank_productions = list(\n",
    "                        set(production\n",
    "                            for sent in training_set\n",
    "                            for production in sent.productions()\n",
    ") )\n",
    "# view some production rules\n",
    "treebank_productions[0:10]"
   ]
  },
  {
   "cell_type": "code",
   "execution_count": 91,
   "metadata": {
    "collapsed": false
   },
   "outputs": [],
   "source": [
    "# add productions for each word, POS tag\n",
    "for word, tag in treebank.tagged_words():\n",
    "    t = nltk.Tree.fromstring(\"(\"+ tag + \" \" + word  +\")\")\n",
    "    for production in t.productions():\n",
    "        treebank_productions.append(production)\n",
    "\n",
    "# build the PCFG based grammar\n",
    "treebank_grammar = nltk.grammar.induce_pcfg(Nonterminal('S'), treebank_productions)"
   ]
  },
  {
   "cell_type": "code",
   "execution_count": 92,
   "metadata": {
    "collapsed": false
   },
   "outputs": [
    {
     "name": "stdout",
     "output_type": "stream",
     "text": [
      "ValueError: Grammar does not cover some of the input words:\n"
     ]
    }
   ],
   "source": [
    "# build the parser\n",
    "viterbi_parser = nltk.ViterbiParser(treebank_grammar)\n",
    "# get sample sentence tokens\n",
    "tokens = nltk.word_tokenize(yelp['new_text'][0])\n",
    "# get parse tree for sample sentence\n",
    "try:\n",
    "    result = list(viterbi_parser.parse(tokens))\n",
    "except:\n",
    "    print('ValueError: Grammar does not cover some of the input words:' )"
   ]
  },
  {
   "cell_type": "markdown",
   "metadata": {},
   "source": [
    "- #### Note: If the word is not in grammar it will give ValueError as given above"
   ]
  },
  {
   "cell_type": "code",
   "execution_count": 111,
   "metadata": {
    "collapsed": true
   },
   "outputs": [],
   "source": [
    "#### Since, it gives Value error lets add unknown word to the grammar first \n",
    "### Below example shows for the 1st text "
   ]
  },
  {
   "cell_type": "code",
   "execution_count": 98,
   "metadata": {
    "collapsed": false
   },
   "outputs": [
    {
     "name": "stdout",
     "output_type": "stream",
     "text": [
      "[('wife', 'NN'), ('took', 'VBD'), ('birthday', 'JJ'), ('breakfast', 'NN'), ('excellent', 'NN'), ('weather', 'NN'), ('perfect', 'NN'), ('made', 'VBD'), ('sitting', 'VBG'), ('outside', 'JJ'), ('overlooking', 'VBG'), ('grounds', 'NNS'), ('absolute', 'JJ'), ('pleasure', 'NN'), ('waitress', 'NN'), ('excellent', 'JJ'), ('food', 'NN'), ('arrived', 'VBD'), ('quickly', 'RB'), ('semi', 'JJ'), ('busy', 'JJ'), ('saturday', 'JJ'), ('morning', 'NN'), ('looked', 'VBD'), ('like', 'IN'), ('place', 'NN'), ('fills', 'NNS'), ('pretty', 'RB'), ('quickly', 'RB'), ('earlier', 'RBR'), ('get', 'VB'), ('better', 'JJR'), ('favor', 'NN'), ('get', 'VB'), ('bloody', 'JJ'), ('mary', 'JJ'), ('phenomenal', 'NN'), ('simply', 'RB'), ('best', 'JJS'), ('ever', 'RB'), ('pretty', 'RB'), ('sure', 'JJ'), ('use', 'NN'), ('ingredients', 'NNS'), ('garden', 'JJ'), ('blend', 'VBP'), ('fresh', 'JJ'), ('order', 'NN'), ('amazing', 'VBG'), ('everything', 'NN'), ('menu', 'NN'), ('looks', 'VBZ'), ('excellent', 'JJ'), ('white', 'JJ'), ('truffle', 'NN'), ('scrambled', 'VBD'), ('eggs', 'NNS'), ('vegetable', 'JJ'), ('skillet', 'NN'), ('tasty', 'JJ'), ('delicious', 'JJ'), ('came', 'VBD'), ('2', 'CD'), ('pieces', 'NNS'), ('griddled', 'VBN'), ('bread', 'JJ'), ('amazing', 'VBG'), ('absolutely', 'RB'), ('made', 'VBN'), ('meal', 'NN'), ('complete', 'JJ'), ('best', 'RBS'), ('toast', 'JJ'), ('ever', 'RB'), ('anyway', 'RB'), ('wait', 'NN'), ('go', 'VBP'), ('back', 'RB')]\n"
     ]
    }
   ],
   "source": [
    "tagged_sent = nltk.pos_tag(nltk.word_tokenize(yelp['new_text'][0]))\n",
    "print(tagged_sent)"
   ]
  },
  {
   "cell_type": "code",
   "execution_count": 99,
   "metadata": {
    "collapsed": true
   },
   "outputs": [],
   "source": [
    "# extend productions for sample sentence tokens\n",
    "for word,tag in tagged_sent:\n",
    "    t = nltk.Tree.fromstring(\"(\"+ tag + \" \" + word+ \")\")\n",
    "    for production in t.productions():\n",
    "        treebank_productions.append(production)"
   ]
  },
  {
   "cell_type": "code",
   "execution_count": 100,
   "metadata": {
    "collapsed": true
   },
   "outputs": [],
   "source": [
    "# rebuild grammar\n",
    "treebank_grammar = nltk.grammar.induce_pcfg(Nonterminal('S'),treebank_productions)"
   ]
  },
  {
   "cell_type": "code",
   "execution_count": 101,
   "metadata": {
    "collapsed": false
   },
   "outputs": [],
   "source": [
    "# rebuild parser\n",
    "viterbi_parser = nltk.ViterbiParser(treebank_grammar)\n",
    "# get parse tree for sample sentence\n"
   ]
  },
  {
   "cell_type": "code",
   "execution_count": 102,
   "metadata": {
    "collapsed": false
   },
   "outputs": [
    {
     "data": {
      "text/plain": [
       "['wife',\n",
       " 'took',\n",
       " 'birthday',\n",
       " 'breakfast',\n",
       " 'excellent',\n",
       " 'weather',\n",
       " 'perfect',\n",
       " 'made',\n",
       " 'sitting',\n",
       " 'outside']"
      ]
     },
     "execution_count": 102,
     "metadata": {},
     "output_type": "execute_result"
    }
   ],
   "source": [
    "tokens =nltk.word_tokenize(yelp['new_text'][0])\n",
    "tokens[0:10]"
   ]
  },
  {
   "cell_type": "markdown",
   "metadata": {},
   "source": [
    "### Test Case : Priting PCFG for only the 1st review Text "
   ]
  },
  {
   "cell_type": "code",
   "execution_count": 103,
   "metadata": {
    "collapsed": false
   },
   "outputs": [
    {
     "name": "stdout",
     "output_type": "stream",
     "text": [
      "(S\n",
      "  (NP-SBJ-27 (NN wife))\n",
      "  (VP\n",
      "    (VBD took)\n",
      "    (PRT (JJ birthday))\n",
      "    (NP\n",
      "      (NN breakfast)\n",
      "      (NN excellent)\n",
      "      (NN weather)\n",
      "      (NN perfect))\n",
      "    (PP (VBN made) (PP (VBG sitting) (PP (IN outside)))))) (p=8.28183e-49)\n"
     ]
    }
   ],
   "source": [
    "#result = list(viterbi_parser.parse(tokens))\n",
    "# print parse tree\n",
    "for t in viterbi_parser.parse(tokens[0:10]):\n",
    "    print(t)"
   ]
  },
  {
   "cell_type": "code",
   "execution_count": 109,
   "metadata": {
    "collapsed": false
   },
   "outputs": [],
   "source": [
    "final_result=[]\n",
    "def parsing_the_sentence(review_text):\n",
    "    tagged_sent = nltk.pos_tag(nltk.word_tokenize(review_text))\n",
    "    # extend productions for sample sentence tokens\n",
    "    for word,tag in tagged_sent:\n",
    "        t = nltk.Tree.fromstring(\"(\"+ tag + \" \" + word+ \")\")\n",
    "        for production in t.productions():\n",
    "            treebank_productions.append(production)\n",
    "\n",
    "    # rebuild grammar\n",
    "    treebank_grammar = nltk.grammar.induce_pcfg(Nonterminal('S'),treebank_productions)\n",
    "    # rebuild parser\n",
    "    viterbi_parser = nltk.ViterbiParser(treebank_grammar)\n",
    "    tokens =nltk.word_tokenize(review_text)\n",
    "    for t in viterbi_parser.parse(tokens):\n",
    "        final_result.append(t)\n",
    "    return final_result"
   ]
  },
  {
   "cell_type": "code",
   "execution_count": 94,
   "metadata": {
    "collapsed": false
   },
   "outputs": [],
   "source": [
    "'''\n",
    "function to split the each text and just take first 10 words for the each text \n",
    "in order to use it for viterbi parsing\n",
    "'''\n",
    "def get_subset_data():\n",
    "    yelp_new_data=[]\n",
    "    for x in yelp['new_text'][0:5]:\n",
    "        list1=x.split(\" \")[0:10] \n",
    "        yelp_new_data.append(\" \".join(list1))\n",
    "    return yelp_new_data\n"
   ]
  },
  {
   "cell_type": "code",
   "execution_count": 95,
   "metadata": {
    "collapsed": false
   },
   "outputs": [],
   "source": [
    "yelp_new_data=get_subset_data()"
   ]
  },
  {
   "cell_type": "markdown",
   "metadata": {},
   "source": [
    "#### Parse the first 4 rows of ‘text’ using Viterbi Parser \n",
    "- Note : Here only 1st 10 words of the text for each row is taken as its taking huge time in local system"
   ]
  },
  {
   "cell_type": "code",
   "execution_count": 96,
   "metadata": {
    "collapsed": false
   },
   "outputs": [
    {
     "data": {
      "text/html": [
       "<div>\n",
       "<style scoped>\n",
       "    .dataframe tbody tr th:only-of-type {\n",
       "        vertical-align: middle;\n",
       "    }\n",
       "\n",
       "    .dataframe tbody tr th {\n",
       "        vertical-align: top;\n",
       "    }\n",
       "\n",
       "    .dataframe thead th {\n",
       "        text-align: right;\n",
       "    }\n",
       "</style>\n",
       "<table border=\"1\" class=\"dataframe\">\n",
       "  <thead>\n",
       "    <tr style=\"text-align: right;\">\n",
       "      <th></th>\n",
       "      <th>text_subset</th>\n",
       "    </tr>\n",
       "  </thead>\n",
       "  <tbody>\n",
       "    <tr>\n",
       "      <th>0</th>\n",
       "      <td>wife took birthday breakfast excellent weather perfect made sitting outside</td>\n",
       "    </tr>\n",
       "    <tr>\n",
       "      <th>1</th>\n",
       "      <td>idea people give bad reviews place goes show please everyone</td>\n",
       "    </tr>\n",
       "    <tr>\n",
       "      <th>2</th>\n",
       "      <td>love gyro plate rice good also dig candy selection</td>\n",
       "    </tr>\n",
       "    <tr>\n",
       "      <th>3</th>\n",
       "      <td>rosie dakota love chaparral dog park convenient surrounded lot paths</td>\n",
       "    </tr>\n",
       "    <tr>\n",
       "      <th>4</th>\n",
       "      <td>general manager scott petello good egg go detail let assure</td>\n",
       "    </tr>\n",
       "  </tbody>\n",
       "</table>\n",
       "</div>"
      ],
      "text/plain": [
       "                                                                   text_subset\n",
       "0  wife took birthday breakfast excellent weather perfect made sitting outside\n",
       "1  idea people give bad reviews place goes show please everyone               \n",
       "2  love gyro plate rice good also dig candy selection                         \n",
       "3  rosie dakota love chaparral dog park convenient surrounded lot paths       \n",
       "4  general manager scott petello good egg go detail let assure                "
      ]
     },
     "execution_count": 96,
     "metadata": {},
     "output_type": "execute_result"
    }
   ],
   "source": [
    "new_data_with_text=pd.DataFrame(yelp_new_data,columns=['text_subset'])\n",
    "new_data_with_text"
   ]
  },
  {
   "cell_type": "code",
   "execution_count": 110,
   "metadata": {
    "collapsed": false
   },
   "outputs": [],
   "source": [
    "result=new_data_with_text['text_subset'].apply(lambda x:parsing_the_sentence(x))"
   ]
  },
  {
   "cell_type": "markdown",
   "metadata": {},
   "source": [
    "### Priting the subset of the result for first 4 words"
   ]
  },
  {
   "cell_type": "code",
   "execution_count": 108,
   "metadata": {
    "collapsed": false
   },
   "outputs": [
    {
     "name": "stdout",
     "output_type": "stream",
     "text": [
      "0    [[[(NN wife) (p=0.000441585)], [(VBD took) (p=0.00923852), (PRT (JJ birthday)) (p=0.000105028), (NP\\n  (NN breakfast)\\n  (NN excellent)\\n  (NN weather)\\n  (NN perfect)) (p=7.14244e-18), (PP (VBN made) (PP (VBG sitting) (PP (IN outside)))) (p=3.31147e-14)]], [[(NN idea) (p=0.000883002), (NNS people) (p=0.00786981)], [(VB give) (p=0.00492005), (NP-CLR (JJ bad) (NNS reviews)) (p=1.19064e-07), (S-CLR\\n  (NP-SBJ-1 (NN place))\\n  (VP\\n    (VBZ goes)\\n    (ADJP-PRD (VB show))\\n    (NP-TMP (IN please) (NN everyone)))) (p=1.58766e-25)]], [[(NP (NN love) (NN gyro) (NN plate) (NN rice)) (p=4.24074e-20), (ADJP (JJ good) (RB also)) (p=2.26861e-06)], [(VBZ dig) (p=0.00040833), (NP-TMP (NN candy) (NN selection)) (p=9.46313e-11)]], [[(NN rosie) (p=6.30199e-05), (NN dakota) (p=6.30199e-05), (NN love) (p=6.30199e-05)], [(JJ chaparral) (p=0.000131251), (NP-TMP (NN dog)) (p=1.50047e-06), (PP\\n  (NN park)\\n  (NP\\n    (NN convenient)\\n    (VBD surrounded)\\n    (NN lot)\\n    (NNS paths))) (p=6.42294e-24)]], [[(NP (JJ general) (NN manager) (NN scott)) (p=2.1281e-13), (NN petello) (p=6.29921e-05), (JJ good) (p=0.00551109), (NN egg) (p=6.29921e-05)], [(VB go) (p=0.00584256)], [(NN detail) (p=0.000188976), (NP (VB let) (NN assure)) (p=9.10013e-11)]]]\n",
      "1    [[[(NN wife) (p=0.000441585)], [(VBD took) (p=0.00923852), (PRT (JJ birthday)) (p=0.000105028), (NP\\n  (NN breakfast)\\n  (NN excellent)\\n  (NN weather)\\n  (NN perfect)) (p=7.14244e-18), (PP (VBN made) (PP (VBG sitting) (PP (IN outside)))) (p=3.31147e-14)]], [[(NN idea) (p=0.000883002), (NNS people) (p=0.00786981)], [(VB give) (p=0.00492005), (NP-CLR (JJ bad) (NNS reviews)) (p=1.19064e-07), (S-CLR\\n  (NP-SBJ-1 (NN place))\\n  (VP\\n    (VBZ goes)\\n    (ADJP-PRD (VB show))\\n    (NP-TMP (IN please) (NN everyone)))) (p=1.58766e-25)]], [[(NP (NN love) (NN gyro) (NN plate) (NN rice)) (p=4.24074e-20), (ADJP (JJ good) (RB also)) (p=2.26861e-06)], [(VBZ dig) (p=0.00040833), (NP-TMP (NN candy) (NN selection)) (p=9.46313e-11)]], [[(NN rosie) (p=6.30199e-05), (NN dakota) (p=6.30199e-05), (NN love) (p=6.30199e-05)], [(JJ chaparral) (p=0.000131251), (NP-TMP (NN dog)) (p=1.50047e-06), (PP\\n  (NN park)\\n  (NP\\n    (NN convenient)\\n    (VBD surrounded)\\n    (NN lot)\\n    (NNS paths))) (p=6.42294e-24)]], [[(NP (JJ general) (NN manager) (NN scott)) (p=2.1281e-13), (NN petello) (p=6.29921e-05), (JJ good) (p=0.00551109), (NN egg) (p=6.29921e-05)], [(VB go) (p=0.00584256)], [(NN detail) (p=0.000188976), (NP (VB let) (NN assure)) (p=9.10013e-11)]]]\n",
      "2    [[[(NN wife) (p=0.000441585)], [(VBD took) (p=0.00923852), (PRT (JJ birthday)) (p=0.000105028), (NP\\n  (NN breakfast)\\n  (NN excellent)\\n  (NN weather)\\n  (NN perfect)) (p=7.14244e-18), (PP (VBN made) (PP (VBG sitting) (PP (IN outside)))) (p=3.31147e-14)]], [[(NN idea) (p=0.000883002), (NNS people) (p=0.00786981)], [(VB give) (p=0.00492005), (NP-CLR (JJ bad) (NNS reviews)) (p=1.19064e-07), (S-CLR\\n  (NP-SBJ-1 (NN place))\\n  (VP\\n    (VBZ goes)\\n    (ADJP-PRD (VB show))\\n    (NP-TMP (IN please) (NN everyone)))) (p=1.58766e-25)]], [[(NP (NN love) (NN gyro) (NN plate) (NN rice)) (p=4.24074e-20), (ADJP (JJ good) (RB also)) (p=2.26861e-06)], [(VBZ dig) (p=0.00040833), (NP-TMP (NN candy) (NN selection)) (p=9.46313e-11)]], [[(NN rosie) (p=6.30199e-05), (NN dakota) (p=6.30199e-05), (NN love) (p=6.30199e-05)], [(JJ chaparral) (p=0.000131251), (NP-TMP (NN dog)) (p=1.50047e-06), (PP\\n  (NN park)\\n  (NP\\n    (NN convenient)\\n    (VBD surrounded)\\n    (NN lot)\\n    (NNS paths))) (p=6.42294e-24)]], [[(NP (JJ general) (NN manager) (NN scott)) (p=2.1281e-13), (NN petello) (p=6.29921e-05), (JJ good) (p=0.00551109), (NN egg) (p=6.29921e-05)], [(VB go) (p=0.00584256)], [(NN detail) (p=0.000188976), (NP (VB let) (NN assure)) (p=9.10013e-11)]]]\n",
      "3    [[[(NN wife) (p=0.000441585)], [(VBD took) (p=0.00923852), (PRT (JJ birthday)) (p=0.000105028), (NP\\n  (NN breakfast)\\n  (NN excellent)\\n  (NN weather)\\n  (NN perfect)) (p=7.14244e-18), (PP (VBN made) (PP (VBG sitting) (PP (IN outside)))) (p=3.31147e-14)]], [[(NN idea) (p=0.000883002), (NNS people) (p=0.00786981)], [(VB give) (p=0.00492005), (NP-CLR (JJ bad) (NNS reviews)) (p=1.19064e-07), (S-CLR\\n  (NP-SBJ-1 (NN place))\\n  (VP\\n    (VBZ goes)\\n    (ADJP-PRD (VB show))\\n    (NP-TMP (IN please) (NN everyone)))) (p=1.58766e-25)]], [[(NP (NN love) (NN gyro) (NN plate) (NN rice)) (p=4.24074e-20), (ADJP (JJ good) (RB also)) (p=2.26861e-06)], [(VBZ dig) (p=0.00040833), (NP-TMP (NN candy) (NN selection)) (p=9.46313e-11)]], [[(NN rosie) (p=6.30199e-05), (NN dakota) (p=6.30199e-05), (NN love) (p=6.30199e-05)], [(JJ chaparral) (p=0.000131251), (NP-TMP (NN dog)) (p=1.50047e-06), (PP\\n  (NN park)\\n  (NP\\n    (NN convenient)\\n    (VBD surrounded)\\n    (NN lot)\\n    (NNS paths))) (p=6.42294e-24)]], [[(NP (JJ general) (NN manager) (NN scott)) (p=2.1281e-13), (NN petello) (p=6.29921e-05), (JJ good) (p=0.00551109), (NN egg) (p=6.29921e-05)], [(VB go) (p=0.00584256)], [(NN detail) (p=0.000188976), (NP (VB let) (NN assure)) (p=9.10013e-11)]]]\n",
      "4    [[[(NN wife) (p=0.000441585)], [(VBD took) (p=0.00923852), (PRT (JJ birthday)) (p=0.000105028), (NP\\n  (NN breakfast)\\n  (NN excellent)\\n  (NN weather)\\n  (NN perfect)) (p=7.14244e-18), (PP (VBN made) (PP (VBG sitting) (PP (IN outside)))) (p=3.31147e-14)]], [[(NN idea) (p=0.000883002), (NNS people) (p=0.00786981)], [(VB give) (p=0.00492005), (NP-CLR (JJ bad) (NNS reviews)) (p=1.19064e-07), (S-CLR\\n  (NP-SBJ-1 (NN place))\\n  (VP\\n    (VBZ goes)\\n    (ADJP-PRD (VB show))\\n    (NP-TMP (IN please) (NN everyone)))) (p=1.58766e-25)]], [[(NP (NN love) (NN gyro) (NN plate) (NN rice)) (p=4.24074e-20), (ADJP (JJ good) (RB also)) (p=2.26861e-06)], [(VBZ dig) (p=0.00040833), (NP-TMP (NN candy) (NN selection)) (p=9.46313e-11)]], [[(NN rosie) (p=6.30199e-05), (NN dakota) (p=6.30199e-05), (NN love) (p=6.30199e-05)], [(JJ chaparral) (p=0.000131251), (NP-TMP (NN dog)) (p=1.50047e-06), (PP\\n  (NN park)\\n  (NP\\n    (NN convenient)\\n    (VBD surrounded)\\n    (NN lot)\\n    (NNS paths))) (p=6.42294e-24)]], [[(NP (JJ general) (NN manager) (NN scott)) (p=2.1281e-13), (NN petello) (p=6.29921e-05), (JJ good) (p=0.00551109), (NN egg) (p=6.29921e-05)], [(VB go) (p=0.00584256)], [(NN detail) (p=0.000188976), (NP (VB let) (NN assure)) (p=9.10013e-11)]]]\n",
      "Name: text_subset, dtype: object\n"
     ]
    }
   ],
   "source": [
    "print(result)"
   ]
  },
  {
   "cell_type": "code",
   "execution_count": null,
   "metadata": {
    "collapsed": true
   },
   "outputs": [],
   "source": []
  }
 ],
 "metadata": {
  "anaconda-cloud": {},
  "kernelspec": {
   "display_name": "Python 3",
   "language": "python",
   "name": "python3"
  },
  "language_info": {
   "codemirror_mode": {
    "name": "ipython",
    "version": 3
   },
   "file_extension": ".py",
   "mimetype": "text/x-python",
   "name": "python",
   "nbconvert_exporter": "python",
   "pygments_lexer": "ipython3",
   "version": "3.7.3"
  }
 },
 "nbformat": 4,
 "nbformat_minor": 1
}
